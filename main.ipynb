{
 "cells": [
  {
   "cell_type": "code",
   "execution_count": 2,
   "metadata": {},
   "outputs": [],
   "source": [
    "import pandas as pd\n",
    "import seaborn as sns\n",
    "import matplotlib.pyplot as plt\n",
    "from scipy.stats import chi2_contingency\n",
    "from scipy.stats.contingency import association\n",
    "\n",
    "# Export df\n",
    "df_final_demo = pd.read_csv('df_final_demo.txt')\n",
    "df_final_experiment_clients = pd.read_csv('df_final_experiment_clients.txt')\n",
    "df_final_web_data_pt_1 = pd.read_csv('df_final_web_data_pt_1.txt')\n",
    "df_final_web_data_pt_2 = pd.read_csv('df_final_web_data_pt_2.txt')"
   ]
  },
  {
   "cell_type": "code",
   "execution_count": 3,
   "metadata": {},
   "outputs": [
    {
     "data": {
      "text/html": [
       "<div>\n",
       "<style scoped>\n",
       "    .dataframe tbody tr th:only-of-type {\n",
       "        vertical-align: middle;\n",
       "    }\n",
       "\n",
       "    .dataframe tbody tr th {\n",
       "        vertical-align: top;\n",
       "    }\n",
       "\n",
       "    .dataframe thead th {\n",
       "        text-align: right;\n",
       "    }\n",
       "</style>\n",
       "<table border=\"1\" class=\"dataframe\">\n",
       "  <thead>\n",
       "    <tr style=\"text-align: right;\">\n",
       "      <th></th>\n",
       "      <th>client_id</th>\n",
       "      <th>clnt_tenure_yr</th>\n",
       "      <th>clnt_tenure_mnth</th>\n",
       "      <th>clnt_age</th>\n",
       "      <th>gendr</th>\n",
       "      <th>num_accts</th>\n",
       "      <th>bal</th>\n",
       "      <th>calls_6_mnth</th>\n",
       "      <th>logons_6_mnth</th>\n",
       "    </tr>\n",
       "  </thead>\n",
       "  <tbody>\n",
       "    <tr>\n",
       "      <th>59771</th>\n",
       "      <td>169</td>\n",
       "      <td>21.0</td>\n",
       "      <td>262.0</td>\n",
       "      <td>47.5</td>\n",
       "      <td>M</td>\n",
       "      <td>2.0</td>\n",
       "      <td>501570.72</td>\n",
       "      <td>4.0</td>\n",
       "      <td>4.0</td>\n",
       "    </tr>\n",
       "    <tr>\n",
       "      <th>40126</th>\n",
       "      <td>555</td>\n",
       "      <td>3.0</td>\n",
       "      <td>46.0</td>\n",
       "      <td>29.5</td>\n",
       "      <td>U</td>\n",
       "      <td>2.0</td>\n",
       "      <td>25454.66</td>\n",
       "      <td>2.0</td>\n",
       "      <td>6.0</td>\n",
       "    </tr>\n",
       "    <tr>\n",
       "      <th>1532</th>\n",
       "      <td>647</td>\n",
       "      <td>12.0</td>\n",
       "      <td>151.0</td>\n",
       "      <td>57.5</td>\n",
       "      <td>M</td>\n",
       "      <td>2.0</td>\n",
       "      <td>30525.80</td>\n",
       "      <td>0.0</td>\n",
       "      <td>4.0</td>\n",
       "    </tr>\n",
       "  </tbody>\n",
       "</table>\n",
       "</div>"
      ],
      "text/plain": [
       "       client_id  clnt_tenure_yr  clnt_tenure_mnth  clnt_age gendr  num_accts  \\\n",
       "59771        169            21.0             262.0      47.5     M        2.0   \n",
       "40126        555             3.0              46.0      29.5     U        2.0   \n",
       "1532         647            12.0             151.0      57.5     M        2.0   \n",
       "\n",
       "             bal  calls_6_mnth  logons_6_mnth  \n",
       "59771  501570.72           4.0            4.0  \n",
       "40126   25454.66           2.0            6.0  \n",
       "1532    30525.80           0.0            4.0  "
      ]
     },
     "execution_count": 3,
     "metadata": {},
     "output_type": "execute_result"
    }
   ],
   "source": [
    "df_final_demo.sort_values(by='client_id').head(3)"
   ]
  },
  {
   "cell_type": "code",
   "execution_count": 4,
   "metadata": {},
   "outputs": [
    {
     "data": {
      "text/html": [
       "<div>\n",
       "<style scoped>\n",
       "    .dataframe tbody tr th:only-of-type {\n",
       "        vertical-align: middle;\n",
       "    }\n",
       "\n",
       "    .dataframe tbody tr th {\n",
       "        vertical-align: top;\n",
       "    }\n",
       "\n",
       "    .dataframe thead th {\n",
       "        text-align: right;\n",
       "    }\n",
       "</style>\n",
       "<table border=\"1\" class=\"dataframe\">\n",
       "  <thead>\n",
       "    <tr style=\"text-align: right;\">\n",
       "      <th></th>\n",
       "      <th>client_id</th>\n",
       "      <th>Variation</th>\n",
       "    </tr>\n",
       "  </thead>\n",
       "  <tbody>\n",
       "    <tr>\n",
       "      <th>58722</th>\n",
       "      <td>169</td>\n",
       "      <td>NaN</td>\n",
       "    </tr>\n",
       "    <tr>\n",
       "      <th>14753</th>\n",
       "      <td>555</td>\n",
       "      <td>Test</td>\n",
       "    </tr>\n",
       "    <tr>\n",
       "      <th>28357</th>\n",
       "      <td>647</td>\n",
       "      <td>Test</td>\n",
       "    </tr>\n",
       "  </tbody>\n",
       "</table>\n",
       "</div>"
      ],
      "text/plain": [
       "       client_id Variation\n",
       "58722        169       NaN\n",
       "14753        555      Test\n",
       "28357        647      Test"
      ]
     },
     "execution_count": 4,
     "metadata": {},
     "output_type": "execute_result"
    }
   ],
   "source": [
    "df_final_experiment_clients.sort_values(by='client_id').head(3)"
   ]
  },
  {
   "cell_type": "code",
   "execution_count": 5,
   "metadata": {},
   "outputs": [
    {
     "data": {
      "text/html": [
       "<div>\n",
       "<style scoped>\n",
       "    .dataframe tbody tr th:only-of-type {\n",
       "        vertical-align: middle;\n",
       "    }\n",
       "\n",
       "    .dataframe tbody tr th {\n",
       "        vertical-align: top;\n",
       "    }\n",
       "\n",
       "    .dataframe thead th {\n",
       "        text-align: right;\n",
       "    }\n",
       "</style>\n",
       "<table border=\"1\" class=\"dataframe\">\n",
       "  <thead>\n",
       "    <tr style=\"text-align: right;\">\n",
       "      <th></th>\n",
       "      <th>client_id</th>\n",
       "      <th>visitor_id</th>\n",
       "      <th>visit_id</th>\n",
       "      <th>process_step</th>\n",
       "      <th>date_time</th>\n",
       "    </tr>\n",
       "  </thead>\n",
       "  <tbody>\n",
       "    <tr>\n",
       "      <th>285513</th>\n",
       "      <td>169</td>\n",
       "      <td>201385055_71273495308</td>\n",
       "      <td>749567106_99161211863_557568</td>\n",
       "      <td>step_2</td>\n",
       "      <td>2017-04-12 20:20:31</td>\n",
       "    </tr>\n",
       "    <tr>\n",
       "      <th>285512</th>\n",
       "      <td>169</td>\n",
       "      <td>201385055_71273495308</td>\n",
       "      <td>749567106_99161211863_557568</td>\n",
       "      <td>step_3</td>\n",
       "      <td>2017-04-12 20:22:05</td>\n",
       "    </tr>\n",
       "    <tr>\n",
       "      <th>285511</th>\n",
       "      <td>169</td>\n",
       "      <td>201385055_71273495308</td>\n",
       "      <td>749567106_99161211863_557568</td>\n",
       "      <td>confirm</td>\n",
       "      <td>2017-04-12 20:23:09</td>\n",
       "    </tr>\n",
       "  </tbody>\n",
       "</table>\n",
       "</div>"
      ],
      "text/plain": [
       "        client_id             visitor_id                      visit_id  \\\n",
       "285513        169  201385055_71273495308  749567106_99161211863_557568   \n",
       "285512        169  201385055_71273495308  749567106_99161211863_557568   \n",
       "285511        169  201385055_71273495308  749567106_99161211863_557568   \n",
       "\n",
       "       process_step            date_time  \n",
       "285513       step_2  2017-04-12 20:20:31  \n",
       "285512       step_3  2017-04-12 20:22:05  \n",
       "285511      confirm  2017-04-12 20:23:09  "
      ]
     },
     "execution_count": 5,
     "metadata": {},
     "output_type": "execute_result"
    }
   ],
   "source": [
    "df_final_web_data_pt_1.sort_values(by='client_id').head(3)"
   ]
  },
  {
   "cell_type": "code",
   "execution_count": 6,
   "metadata": {},
   "outputs": [
    {
     "data": {
      "text/html": [
       "<div>\n",
       "<style scoped>\n",
       "    .dataframe tbody tr th:only-of-type {\n",
       "        vertical-align: middle;\n",
       "    }\n",
       "\n",
       "    .dataframe tbody tr th {\n",
       "        vertical-align: top;\n",
       "    }\n",
       "\n",
       "    .dataframe thead th {\n",
       "        text-align: right;\n",
       "    }\n",
       "</style>\n",
       "<table border=\"1\" class=\"dataframe\">\n",
       "  <thead>\n",
       "    <tr style=\"text-align: right;\">\n",
       "      <th></th>\n",
       "      <th>client_id</th>\n",
       "      <th>visitor_id</th>\n",
       "      <th>visit_id</th>\n",
       "      <th>process_step</th>\n",
       "      <th>date_time</th>\n",
       "    </tr>\n",
       "  </thead>\n",
       "  <tbody>\n",
       "    <tr>\n",
       "      <th>285190</th>\n",
       "      <td>336</td>\n",
       "      <td>64757908_3400128256</td>\n",
       "      <td>649044751_80905125055_554468</td>\n",
       "      <td>start</td>\n",
       "      <td>2017-06-01 07:42:43</td>\n",
       "    </tr>\n",
       "    <tr>\n",
       "      <th>285315</th>\n",
       "      <td>336</td>\n",
       "      <td>64757908_3400128256</td>\n",
       "      <td>649044751_80905125055_554468</td>\n",
       "      <td>start</td>\n",
       "      <td>2017-06-01 07:26:55</td>\n",
       "    </tr>\n",
       "    <tr>\n",
       "      <th>99715</th>\n",
       "      <td>546</td>\n",
       "      <td>475037402_89828530214</td>\n",
       "      <td>731811517_9330176838_94847</td>\n",
       "      <td>step_1</td>\n",
       "      <td>2017-06-17 10:03:39</td>\n",
       "    </tr>\n",
       "  </tbody>\n",
       "</table>\n",
       "</div>"
      ],
      "text/plain": [
       "        client_id             visitor_id                      visit_id  \\\n",
       "285190        336    64757908_3400128256  649044751_80905125055_554468   \n",
       "285315        336    64757908_3400128256  649044751_80905125055_554468   \n",
       "99715         546  475037402_89828530214    731811517_9330176838_94847   \n",
       "\n",
       "       process_step            date_time  \n",
       "285190        start  2017-06-01 07:42:43  \n",
       "285315        start  2017-06-01 07:26:55  \n",
       "99715        step_1  2017-06-17 10:03:39  "
      ]
     },
     "execution_count": 6,
     "metadata": {},
     "output_type": "execute_result"
    }
   ],
   "source": [
    "df_final_web_data_pt_2.sort_values(by='client_id').head(3)"
   ]
  },
  {
   "cell_type": "code",
   "execution_count": 7,
   "metadata": {},
   "outputs": [
    {
     "data": {
      "text/html": [
       "<div>\n",
       "<style scoped>\n",
       "    .dataframe tbody tr th:only-of-type {\n",
       "        vertical-align: middle;\n",
       "    }\n",
       "\n",
       "    .dataframe tbody tr th {\n",
       "        vertical-align: top;\n",
       "    }\n",
       "\n",
       "    .dataframe thead th {\n",
       "        text-align: right;\n",
       "    }\n",
       "</style>\n",
       "<table border=\"1\" class=\"dataframe\">\n",
       "  <thead>\n",
       "    <tr style=\"text-align: right;\">\n",
       "      <th></th>\n",
       "      <th>client_id</th>\n",
       "      <th>visitor_id</th>\n",
       "      <th>visit_id</th>\n",
       "      <th>process_step</th>\n",
       "      <th>date_time</th>\n",
       "    </tr>\n",
       "  </thead>\n",
       "  <tbody>\n",
       "    <tr>\n",
       "      <th>285512</th>\n",
       "      <td>169</td>\n",
       "      <td>201385055_71273495308</td>\n",
       "      <td>749567106_99161211863_557568</td>\n",
       "      <td>step_3</td>\n",
       "      <td>2017-04-12 20:22:05</td>\n",
       "    </tr>\n",
       "    <tr>\n",
       "      <th>285511</th>\n",
       "      <td>169</td>\n",
       "      <td>201385055_71273495308</td>\n",
       "      <td>749567106_99161211863_557568</td>\n",
       "      <td>confirm</td>\n",
       "      <td>2017-04-12 20:23:09</td>\n",
       "    </tr>\n",
       "    <tr>\n",
       "      <th>285513</th>\n",
       "      <td>169</td>\n",
       "      <td>201385055_71273495308</td>\n",
       "      <td>749567106_99161211863_557568</td>\n",
       "      <td>step_2</td>\n",
       "      <td>2017-04-12 20:20:31</td>\n",
       "    </tr>\n",
       "    <tr>\n",
       "      <th>285514</th>\n",
       "      <td>169</td>\n",
       "      <td>201385055_71273495308</td>\n",
       "      <td>749567106_99161211863_557568</td>\n",
       "      <td>step_1</td>\n",
       "      <td>2017-04-12 20:19:45</td>\n",
       "    </tr>\n",
       "    <tr>\n",
       "      <th>285515</th>\n",
       "      <td>169</td>\n",
       "      <td>201385055_71273495308</td>\n",
       "      <td>749567106_99161211863_557568</td>\n",
       "      <td>start</td>\n",
       "      <td>2017-04-12 20:19:36</td>\n",
       "    </tr>\n",
       "    <tr>\n",
       "      <th>...</th>\n",
       "      <td>...</td>\n",
       "      <td>...</td>\n",
       "      <td>...</td>\n",
       "      <td>...</td>\n",
       "      <td>...</td>\n",
       "    </tr>\n",
       "    <tr>\n",
       "      <th>648533</th>\n",
       "      <td>9999875</td>\n",
       "      <td>738878760_1556639849</td>\n",
       "      <td>931268933_219402947_599432</td>\n",
       "      <td>step_1</td>\n",
       "      <td>2017-06-01 22:40:08</td>\n",
       "    </tr>\n",
       "    <tr>\n",
       "      <th>648529</th>\n",
       "      <td>9999875</td>\n",
       "      <td>738878760_1556639849</td>\n",
       "      <td>931268933_219402947_599432</td>\n",
       "      <td>confirm</td>\n",
       "      <td>2017-06-01 22:48:39</td>\n",
       "    </tr>\n",
       "    <tr>\n",
       "      <th>648530</th>\n",
       "      <td>9999875</td>\n",
       "      <td>738878760_1556639849</td>\n",
       "      <td>931268933_219402947_599432</td>\n",
       "      <td>step_3</td>\n",
       "      <td>2017-06-01 22:44:58</td>\n",
       "    </tr>\n",
       "    <tr>\n",
       "      <th>648532</th>\n",
       "      <td>9999875</td>\n",
       "      <td>738878760_1556639849</td>\n",
       "      <td>931268933_219402947_599432</td>\n",
       "      <td>step_1</td>\n",
       "      <td>2017-06-01 22:41:28</td>\n",
       "    </tr>\n",
       "    <tr>\n",
       "      <th>648531</th>\n",
       "      <td>9999875</td>\n",
       "      <td>738878760_1556639849</td>\n",
       "      <td>931268933_219402947_599432</td>\n",
       "      <td>step_2</td>\n",
       "      <td>2017-06-01 22:41:47</td>\n",
       "    </tr>\n",
       "  </tbody>\n",
       "</table>\n",
       "<p>755405 rows × 5 columns</p>\n",
       "</div>"
      ],
      "text/plain": [
       "        client_id             visitor_id                      visit_id  \\\n",
       "285512        169  201385055_71273495308  749567106_99161211863_557568   \n",
       "285511        169  201385055_71273495308  749567106_99161211863_557568   \n",
       "285513        169  201385055_71273495308  749567106_99161211863_557568   \n",
       "285514        169  201385055_71273495308  749567106_99161211863_557568   \n",
       "285515        169  201385055_71273495308  749567106_99161211863_557568   \n",
       "...           ...                    ...                           ...   \n",
       "648533    9999875   738878760_1556639849    931268933_219402947_599432   \n",
       "648529    9999875   738878760_1556639849    931268933_219402947_599432   \n",
       "648530    9999875   738878760_1556639849    931268933_219402947_599432   \n",
       "648532    9999875   738878760_1556639849    931268933_219402947_599432   \n",
       "648531    9999875   738878760_1556639849    931268933_219402947_599432   \n",
       "\n",
       "       process_step            date_time  \n",
       "285512       step_3  2017-04-12 20:22:05  \n",
       "285511      confirm  2017-04-12 20:23:09  \n",
       "285513       step_2  2017-04-12 20:20:31  \n",
       "285514       step_1  2017-04-12 20:19:45  \n",
       "285515        start  2017-04-12 20:19:36  \n",
       "...             ...                  ...  \n",
       "648533       step_1  2017-06-01 22:40:08  \n",
       "648529      confirm  2017-06-01 22:48:39  \n",
       "648530       step_3  2017-06-01 22:44:58  \n",
       "648532       step_1  2017-06-01 22:41:28  \n",
       "648531       step_2  2017-06-01 22:41:47  \n",
       "\n",
       "[755405 rows x 5 columns]"
      ]
     },
     "execution_count": 7,
     "metadata": {},
     "output_type": "execute_result"
    }
   ],
   "source": [
    "df_concat_web_data = pd.concat([df_final_web_data_pt_1, df_final_web_data_pt_2], ignore_index=True)\n",
    "df_concat_web_data.sort_values(by='client_id', inplace=True)\n",
    "df_concat_web_data"
   ]
  },
  {
   "cell_type": "code",
   "execution_count": 8,
   "metadata": {},
   "outputs": [
    {
     "data": {
      "text/html": [
       "<div>\n",
       "<style scoped>\n",
       "    .dataframe tbody tr th:only-of-type {\n",
       "        vertical-align: middle;\n",
       "    }\n",
       "\n",
       "    .dataframe tbody tr th {\n",
       "        vertical-align: top;\n",
       "    }\n",
       "\n",
       "    .dataframe thead th {\n",
       "        text-align: right;\n",
       "    }\n",
       "</style>\n",
       "<table border=\"1\" class=\"dataframe\">\n",
       "  <thead>\n",
       "    <tr style=\"text-align: right;\">\n",
       "      <th></th>\n",
       "      <th>client_id</th>\n",
       "      <th>clnt_tenure_yr</th>\n",
       "      <th>clnt_tenure_mnth</th>\n",
       "      <th>clnt_age</th>\n",
       "      <th>gendr</th>\n",
       "      <th>num_accts</th>\n",
       "      <th>bal</th>\n",
       "      <th>calls_6_mnth</th>\n",
       "      <th>logons_6_mnth</th>\n",
       "      <th>Variation</th>\n",
       "    </tr>\n",
       "  </thead>\n",
       "  <tbody>\n",
       "    <tr>\n",
       "      <th>0</th>\n",
       "      <td>836976</td>\n",
       "      <td>6.0</td>\n",
       "      <td>73.0</td>\n",
       "      <td>60.5</td>\n",
       "      <td>U</td>\n",
       "      <td>2.0</td>\n",
       "      <td>45105.30</td>\n",
       "      <td>6.0</td>\n",
       "      <td>9.0</td>\n",
       "      <td>Test</td>\n",
       "    </tr>\n",
       "    <tr>\n",
       "      <th>1</th>\n",
       "      <td>2304905</td>\n",
       "      <td>7.0</td>\n",
       "      <td>94.0</td>\n",
       "      <td>58.0</td>\n",
       "      <td>U</td>\n",
       "      <td>2.0</td>\n",
       "      <td>110860.30</td>\n",
       "      <td>6.0</td>\n",
       "      <td>9.0</td>\n",
       "      <td>Control</td>\n",
       "    </tr>\n",
       "    <tr>\n",
       "      <th>2</th>\n",
       "      <td>1439522</td>\n",
       "      <td>5.0</td>\n",
       "      <td>64.0</td>\n",
       "      <td>32.0</td>\n",
       "      <td>U</td>\n",
       "      <td>2.0</td>\n",
       "      <td>52467.79</td>\n",
       "      <td>6.0</td>\n",
       "      <td>9.0</td>\n",
       "      <td>Test</td>\n",
       "    </tr>\n",
       "    <tr>\n",
       "      <th>3</th>\n",
       "      <td>1562045</td>\n",
       "      <td>16.0</td>\n",
       "      <td>198.0</td>\n",
       "      <td>49.0</td>\n",
       "      <td>M</td>\n",
       "      <td>2.0</td>\n",
       "      <td>67454.65</td>\n",
       "      <td>3.0</td>\n",
       "      <td>6.0</td>\n",
       "      <td>Test</td>\n",
       "    </tr>\n",
       "    <tr>\n",
       "      <th>4</th>\n",
       "      <td>5126305</td>\n",
       "      <td>12.0</td>\n",
       "      <td>145.0</td>\n",
       "      <td>33.0</td>\n",
       "      <td>F</td>\n",
       "      <td>2.0</td>\n",
       "      <td>103671.75</td>\n",
       "      <td>0.0</td>\n",
       "      <td>3.0</td>\n",
       "      <td>Control</td>\n",
       "    </tr>\n",
       "    <tr>\n",
       "      <th>...</th>\n",
       "      <td>...</td>\n",
       "      <td>...</td>\n",
       "      <td>...</td>\n",
       "      <td>...</td>\n",
       "      <td>...</td>\n",
       "      <td>...</td>\n",
       "      <td>...</td>\n",
       "      <td>...</td>\n",
       "      <td>...</td>\n",
       "      <td>...</td>\n",
       "    </tr>\n",
       "    <tr>\n",
       "      <th>70604</th>\n",
       "      <td>7993686</td>\n",
       "      <td>4.0</td>\n",
       "      <td>56.0</td>\n",
       "      <td>38.5</td>\n",
       "      <td>U</td>\n",
       "      <td>3.0</td>\n",
       "      <td>1411062.68</td>\n",
       "      <td>5.0</td>\n",
       "      <td>5.0</td>\n",
       "      <td>NaN</td>\n",
       "    </tr>\n",
       "    <tr>\n",
       "      <th>70605</th>\n",
       "      <td>8981690</td>\n",
       "      <td>12.0</td>\n",
       "      <td>148.0</td>\n",
       "      <td>31.0</td>\n",
       "      <td>M</td>\n",
       "      <td>2.0</td>\n",
       "      <td>101867.07</td>\n",
       "      <td>6.0</td>\n",
       "      <td>6.0</td>\n",
       "      <td>NaN</td>\n",
       "    </tr>\n",
       "    <tr>\n",
       "      <th>70606</th>\n",
       "      <td>333913</td>\n",
       "      <td>16.0</td>\n",
       "      <td>198.0</td>\n",
       "      <td>61.5</td>\n",
       "      <td>F</td>\n",
       "      <td>2.0</td>\n",
       "      <td>40745.00</td>\n",
       "      <td>3.0</td>\n",
       "      <td>3.0</td>\n",
       "      <td>NaN</td>\n",
       "    </tr>\n",
       "    <tr>\n",
       "      <th>70607</th>\n",
       "      <td>1573142</td>\n",
       "      <td>21.0</td>\n",
       "      <td>255.0</td>\n",
       "      <td>68.0</td>\n",
       "      <td>M</td>\n",
       "      <td>3.0</td>\n",
       "      <td>475114.69</td>\n",
       "      <td>4.0</td>\n",
       "      <td>4.0</td>\n",
       "      <td>NaN</td>\n",
       "    </tr>\n",
       "    <tr>\n",
       "      <th>70608</th>\n",
       "      <td>5602139</td>\n",
       "      <td>21.0</td>\n",
       "      <td>254.0</td>\n",
       "      <td>59.5</td>\n",
       "      <td>F</td>\n",
       "      <td>3.0</td>\n",
       "      <td>157498.73</td>\n",
       "      <td>7.0</td>\n",
       "      <td>7.0</td>\n",
       "      <td>NaN</td>\n",
       "    </tr>\n",
       "  </tbody>\n",
       "</table>\n",
       "<p>70609 rows × 10 columns</p>\n",
       "</div>"
      ],
      "text/plain": [
       "       client_id  clnt_tenure_yr  clnt_tenure_mnth  clnt_age gendr  num_accts  \\\n",
       "0         836976             6.0              73.0      60.5     U        2.0   \n",
       "1        2304905             7.0              94.0      58.0     U        2.0   \n",
       "2        1439522             5.0              64.0      32.0     U        2.0   \n",
       "3        1562045            16.0             198.0      49.0     M        2.0   \n",
       "4        5126305            12.0             145.0      33.0     F        2.0   \n",
       "...          ...             ...               ...       ...   ...        ...   \n",
       "70604    7993686             4.0              56.0      38.5     U        3.0   \n",
       "70605    8981690            12.0             148.0      31.0     M        2.0   \n",
       "70606     333913            16.0             198.0      61.5     F        2.0   \n",
       "70607    1573142            21.0             255.0      68.0     M        3.0   \n",
       "70608    5602139            21.0             254.0      59.5     F        3.0   \n",
       "\n",
       "              bal  calls_6_mnth  logons_6_mnth Variation  \n",
       "0        45105.30           6.0            9.0      Test  \n",
       "1       110860.30           6.0            9.0   Control  \n",
       "2        52467.79           6.0            9.0      Test  \n",
       "3        67454.65           3.0            6.0      Test  \n",
       "4       103671.75           0.0            3.0   Control  \n",
       "...           ...           ...            ...       ...  \n",
       "70604  1411062.68           5.0            5.0       NaN  \n",
       "70605   101867.07           6.0            6.0       NaN  \n",
       "70606    40745.00           3.0            3.0       NaN  \n",
       "70607   475114.69           4.0            4.0       NaN  \n",
       "70608   157498.73           7.0            7.0       NaN  \n",
       "\n",
       "[70609 rows x 10 columns]"
      ]
     },
     "execution_count": 8,
     "metadata": {},
     "output_type": "execute_result"
    }
   ],
   "source": [
    "df_merged = pd.merge(df_final_demo, df_final_experiment_clients, on='client_id', how='inner')\n",
    "df_merged"
   ]
  },
  {
   "cell_type": "code",
   "execution_count": 9,
   "metadata": {},
   "outputs": [
    {
     "data": {
      "text/html": [
       "<div>\n",
       "<style scoped>\n",
       "    .dataframe tbody tr th:only-of-type {\n",
       "        vertical-align: middle;\n",
       "    }\n",
       "\n",
       "    .dataframe tbody tr th {\n",
       "        vertical-align: top;\n",
       "    }\n",
       "\n",
       "    .dataframe thead th {\n",
       "        text-align: right;\n",
       "    }\n",
       "</style>\n",
       "<table border=\"1\" class=\"dataframe\">\n",
       "  <thead>\n",
       "    <tr style=\"text-align: right;\">\n",
       "      <th></th>\n",
       "      <th>client_id</th>\n",
       "      <th>clnt_tenure_yr</th>\n",
       "      <th>clnt_tenure_mnth</th>\n",
       "      <th>clnt_age</th>\n",
       "      <th>gendr</th>\n",
       "      <th>num_accts</th>\n",
       "      <th>bal</th>\n",
       "      <th>calls_6_mnth</th>\n",
       "      <th>logons_6_mnth</th>\n",
       "      <th>Variation</th>\n",
       "      <th>visitor_id</th>\n",
       "      <th>visit_id</th>\n",
       "      <th>process_step</th>\n",
       "      <th>date_time</th>\n",
       "    </tr>\n",
       "  </thead>\n",
       "  <tbody>\n",
       "    <tr>\n",
       "      <th>0</th>\n",
       "      <td>836976</td>\n",
       "      <td>6.0</td>\n",
       "      <td>73.0</td>\n",
       "      <td>60.5</td>\n",
       "      <td>U</td>\n",
       "      <td>2.0</td>\n",
       "      <td>45105.3</td>\n",
       "      <td>6.0</td>\n",
       "      <td>9.0</td>\n",
       "      <td>Test</td>\n",
       "      <td>427070339_1413275162</td>\n",
       "      <td>228976764_46825473280_96584</td>\n",
       "      <td>confirm</td>\n",
       "      <td>2017-04-02 11:46:45</td>\n",
       "    </tr>\n",
       "    <tr>\n",
       "      <th>1</th>\n",
       "      <td>836976</td>\n",
       "      <td>6.0</td>\n",
       "      <td>73.0</td>\n",
       "      <td>60.5</td>\n",
       "      <td>U</td>\n",
       "      <td>2.0</td>\n",
       "      <td>45105.3</td>\n",
       "      <td>6.0</td>\n",
       "      <td>9.0</td>\n",
       "      <td>Test</td>\n",
       "      <td>427070339_1413275162</td>\n",
       "      <td>228976764_46825473280_96584</td>\n",
       "      <td>start</td>\n",
       "      <td>2017-04-02 11:21:28</td>\n",
       "    </tr>\n",
       "    <tr>\n",
       "      <th>2</th>\n",
       "      <td>836976</td>\n",
       "      <td>6.0</td>\n",
       "      <td>73.0</td>\n",
       "      <td>60.5</td>\n",
       "      <td>U</td>\n",
       "      <td>2.0</td>\n",
       "      <td>45105.3</td>\n",
       "      <td>6.0</td>\n",
       "      <td>9.0</td>\n",
       "      <td>Test</td>\n",
       "      <td>427070339_1413275162</td>\n",
       "      <td>104438405_2368283624_817211</td>\n",
       "      <td>start</td>\n",
       "      <td>2017-03-29 11:02:44</td>\n",
       "    </tr>\n",
       "    <tr>\n",
       "      <th>3</th>\n",
       "      <td>836976</td>\n",
       "      <td>6.0</td>\n",
       "      <td>73.0</td>\n",
       "      <td>60.5</td>\n",
       "      <td>U</td>\n",
       "      <td>2.0</td>\n",
       "      <td>45105.3</td>\n",
       "      <td>6.0</td>\n",
       "      <td>9.0</td>\n",
       "      <td>Test</td>\n",
       "      <td>427070339_1413275162</td>\n",
       "      <td>228976764_46825473280_96584</td>\n",
       "      <td>step_2</td>\n",
       "      <td>2017-04-02 11:22:24</td>\n",
       "    </tr>\n",
       "    <tr>\n",
       "      <th>4</th>\n",
       "      <td>836976</td>\n",
       "      <td>6.0</td>\n",
       "      <td>73.0</td>\n",
       "      <td>60.5</td>\n",
       "      <td>U</td>\n",
       "      <td>2.0</td>\n",
       "      <td>45105.3</td>\n",
       "      <td>6.0</td>\n",
       "      <td>9.0</td>\n",
       "      <td>Test</td>\n",
       "      <td>427070339_1413275162</td>\n",
       "      <td>104438405_2368283624_817211</td>\n",
       "      <td>start</td>\n",
       "      <td>2017-03-29 11:01:40</td>\n",
       "    </tr>\n",
       "  </tbody>\n",
       "</table>\n",
       "</div>"
      ],
      "text/plain": [
       "   client_id  clnt_tenure_yr  clnt_tenure_mnth  clnt_age gendr  num_accts  \\\n",
       "0     836976             6.0              73.0      60.5     U        2.0   \n",
       "1     836976             6.0              73.0      60.5     U        2.0   \n",
       "2     836976             6.0              73.0      60.5     U        2.0   \n",
       "3     836976             6.0              73.0      60.5     U        2.0   \n",
       "4     836976             6.0              73.0      60.5     U        2.0   \n",
       "\n",
       "       bal  calls_6_mnth  logons_6_mnth Variation            visitor_id  \\\n",
       "0  45105.3           6.0            9.0      Test  427070339_1413275162   \n",
       "1  45105.3           6.0            9.0      Test  427070339_1413275162   \n",
       "2  45105.3           6.0            9.0      Test  427070339_1413275162   \n",
       "3  45105.3           6.0            9.0      Test  427070339_1413275162   \n",
       "4  45105.3           6.0            9.0      Test  427070339_1413275162   \n",
       "\n",
       "                      visit_id process_step            date_time  \n",
       "0  228976764_46825473280_96584      confirm  2017-04-02 11:46:45  \n",
       "1  228976764_46825473280_96584        start  2017-04-02 11:21:28  \n",
       "2  104438405_2368283624_817211        start  2017-03-29 11:02:44  \n",
       "3  228976764_46825473280_96584       step_2  2017-04-02 11:22:24  \n",
       "4  104438405_2368283624_817211        start  2017-03-29 11:01:40  "
      ]
     },
     "execution_count": 9,
     "metadata": {},
     "output_type": "execute_result"
    }
   ],
   "source": [
    "df_final = pd.merge(df_merged, df_concat_web_data, on='client_id', how='inner')\n",
    "\n",
    "df_final.head()"
   ]
  },
  {
   "cell_type": "code",
   "execution_count": 10,
   "metadata": {},
   "outputs": [
    {
     "data": {
      "text/html": [
       "<div>\n",
       "<style scoped>\n",
       "    .dataframe tbody tr th:only-of-type {\n",
       "        vertical-align: middle;\n",
       "    }\n",
       "\n",
       "    .dataframe tbody tr th {\n",
       "        vertical-align: top;\n",
       "    }\n",
       "\n",
       "    .dataframe thead th {\n",
       "        text-align: right;\n",
       "    }\n",
       "</style>\n",
       "<table border=\"1\" class=\"dataframe\">\n",
       "  <thead>\n",
       "    <tr style=\"text-align: right;\">\n",
       "      <th></th>\n",
       "      <th>client_id</th>\n",
       "      <th>clnt_tenure_yr</th>\n",
       "      <th>clnt_tenure_mnth</th>\n",
       "      <th>clnt_age</th>\n",
       "      <th>gendr</th>\n",
       "      <th>num_accts</th>\n",
       "      <th>bal</th>\n",
       "      <th>calls_6_mnth</th>\n",
       "      <th>logons_6_mnth</th>\n",
       "      <th>Variation</th>\n",
       "      <th>visitor_id</th>\n",
       "      <th>visit_id</th>\n",
       "      <th>process_step</th>\n",
       "      <th>date_time</th>\n",
       "    </tr>\n",
       "  </thead>\n",
       "  <tbody>\n",
       "    <tr>\n",
       "      <th>0</th>\n",
       "      <td>836976</td>\n",
       "      <td>6.0</td>\n",
       "      <td>73.0</td>\n",
       "      <td>60.5</td>\n",
       "      <td>U</td>\n",
       "      <td>2.0</td>\n",
       "      <td>45105.3</td>\n",
       "      <td>6.0</td>\n",
       "      <td>9.0</td>\n",
       "      <td>Test</td>\n",
       "      <td>427070339_1413275162</td>\n",
       "      <td>228976764_46825473280_96584</td>\n",
       "      <td>confirm</td>\n",
       "      <td>2017-04-02 11:46:45</td>\n",
       "    </tr>\n",
       "    <tr>\n",
       "      <th>1</th>\n",
       "      <td>836976</td>\n",
       "      <td>6.0</td>\n",
       "      <td>73.0</td>\n",
       "      <td>60.5</td>\n",
       "      <td>U</td>\n",
       "      <td>2.0</td>\n",
       "      <td>45105.3</td>\n",
       "      <td>6.0</td>\n",
       "      <td>9.0</td>\n",
       "      <td>Test</td>\n",
       "      <td>427070339_1413275162</td>\n",
       "      <td>228976764_46825473280_96584</td>\n",
       "      <td>start</td>\n",
       "      <td>2017-04-02 11:21:28</td>\n",
       "    </tr>\n",
       "    <tr>\n",
       "      <th>2</th>\n",
       "      <td>836976</td>\n",
       "      <td>6.0</td>\n",
       "      <td>73.0</td>\n",
       "      <td>60.5</td>\n",
       "      <td>U</td>\n",
       "      <td>2.0</td>\n",
       "      <td>45105.3</td>\n",
       "      <td>6.0</td>\n",
       "      <td>9.0</td>\n",
       "      <td>Test</td>\n",
       "      <td>427070339_1413275162</td>\n",
       "      <td>104438405_2368283624_817211</td>\n",
       "      <td>start</td>\n",
       "      <td>2017-03-29 11:02:44</td>\n",
       "    </tr>\n",
       "    <tr>\n",
       "      <th>3</th>\n",
       "      <td>836976</td>\n",
       "      <td>6.0</td>\n",
       "      <td>73.0</td>\n",
       "      <td>60.5</td>\n",
       "      <td>U</td>\n",
       "      <td>2.0</td>\n",
       "      <td>45105.3</td>\n",
       "      <td>6.0</td>\n",
       "      <td>9.0</td>\n",
       "      <td>Test</td>\n",
       "      <td>427070339_1413275162</td>\n",
       "      <td>228976764_46825473280_96584</td>\n",
       "      <td>step_2</td>\n",
       "      <td>2017-04-02 11:22:24</td>\n",
       "    </tr>\n",
       "    <tr>\n",
       "      <th>4</th>\n",
       "      <td>836976</td>\n",
       "      <td>6.0</td>\n",
       "      <td>73.0</td>\n",
       "      <td>60.5</td>\n",
       "      <td>U</td>\n",
       "      <td>2.0</td>\n",
       "      <td>45105.3</td>\n",
       "      <td>6.0</td>\n",
       "      <td>9.0</td>\n",
       "      <td>Test</td>\n",
       "      <td>427070339_1413275162</td>\n",
       "      <td>104438405_2368283624_817211</td>\n",
       "      <td>start</td>\n",
       "      <td>2017-03-29 11:01:40</td>\n",
       "    </tr>\n",
       "  </tbody>\n",
       "</table>\n",
       "</div>"
      ],
      "text/plain": [
       "   client_id  clnt_tenure_yr  clnt_tenure_mnth  clnt_age gendr  num_accts  \\\n",
       "0     836976             6.0              73.0      60.5     U        2.0   \n",
       "1     836976             6.0              73.0      60.5     U        2.0   \n",
       "2     836976             6.0              73.0      60.5     U        2.0   \n",
       "3     836976             6.0              73.0      60.5     U        2.0   \n",
       "4     836976             6.0              73.0      60.5     U        2.0   \n",
       "\n",
       "       bal  calls_6_mnth  logons_6_mnth Variation            visitor_id  \\\n",
       "0  45105.3           6.0            9.0      Test  427070339_1413275162   \n",
       "1  45105.3           6.0            9.0      Test  427070339_1413275162   \n",
       "2  45105.3           6.0            9.0      Test  427070339_1413275162   \n",
       "3  45105.3           6.0            9.0      Test  427070339_1413275162   \n",
       "4  45105.3           6.0            9.0      Test  427070339_1413275162   \n",
       "\n",
       "                      visit_id process_step            date_time  \n",
       "0  228976764_46825473280_96584      confirm  2017-04-02 11:46:45  \n",
       "1  228976764_46825473280_96584        start  2017-04-02 11:21:28  \n",
       "2  104438405_2368283624_817211        start  2017-03-29 11:02:44  \n",
       "3  228976764_46825473280_96584       step_2  2017-04-02 11:22:24  \n",
       "4  104438405_2368283624_817211        start  2017-03-29 11:01:40  "
      ]
     },
     "execution_count": 10,
     "metadata": {},
     "output_type": "execute_result"
    }
   ],
   "source": [
    "# Filtrar por los clientes que han hecho \"test\" o \"control\"\n",
    "df_final_filtered = df_final[df_final['Variation'].notna()]\n",
    "df_final_filtered.head()"
   ]
  },
  {
   "cell_type": "code",
   "execution_count": 11,
   "metadata": {},
   "outputs": [
    {
     "data": {
      "text/plain": [
       "array(['U', 'M', 'F', nan, 'X'], dtype=object)"
      ]
     },
     "execution_count": 11,
     "metadata": {},
     "output_type": "execute_result"
    }
   ],
   "source": [
    "df_final_filtered['gendr'].unique()"
   ]
  },
  {
   "cell_type": "code",
   "execution_count": 12,
   "metadata": {},
   "outputs": [
    {
     "data": {
      "text/plain": [
       "gendr\n",
       "U    108884\n",
       "M    108013\n",
       "F    104302\n",
       "X         8\n",
       "Name: count, dtype: int64"
      ]
     },
     "execution_count": 12,
     "metadata": {},
     "output_type": "execute_result"
    }
   ],
   "source": [
    "df_final_filtered['gendr'].value_counts()"
   ]
  },
  {
   "cell_type": "code",
   "execution_count": 13,
   "metadata": {},
   "outputs": [
    {
     "data": {
      "text/plain": [
       "client_id             0\n",
       "clnt_tenure_yr      102\n",
       "clnt_tenure_mnth    102\n",
       "clnt_age            114\n",
       "gendr               102\n",
       "num_accts           102\n",
       "bal                 102\n",
       "calls_6_mnth        102\n",
       "logons_6_mnth       102\n",
       "Variation             0\n",
       "visitor_id            0\n",
       "visit_id              0\n",
       "process_step          0\n",
       "date_time             0\n",
       "dtype: int64"
      ]
     },
     "execution_count": 13,
     "metadata": {},
     "output_type": "execute_result"
    }
   ],
   "source": [
    "df_final_filtered.isna().sum()"
   ]
  },
  {
   "cell_type": "code",
   "execution_count": 14,
   "metadata": {},
   "outputs": [
    {
     "data": {
      "text/plain": [
       "client_id           0\n",
       "clnt_tenure_yr      0\n",
       "clnt_tenure_mnth    0\n",
       "clnt_age            0\n",
       "gendr               0\n",
       "num_accts           0\n",
       "bal                 0\n",
       "calls_6_mnth        0\n",
       "logons_6_mnth       0\n",
       "Variation           0\n",
       "visitor_id          0\n",
       "visit_id            0\n",
       "process_step        0\n",
       "date_time           0\n",
       "dtype: int64"
      ]
     },
     "execution_count": 14,
     "metadata": {},
     "output_type": "execute_result"
    }
   ],
   "source": [
    "df_final_filtered = df_final_filtered.dropna()\n",
    "df_final_filtered.isna().sum()"
   ]
  },
  {
   "cell_type": "code",
   "execution_count": 15,
   "metadata": {},
   "outputs": [],
   "source": [
    "# Convert float to int\n",
    "df_final_filtered['logons_6_mnth'] = df_final_filtered['logons_6_mnth'].astype(int)"
   ]
  },
  {
   "cell_type": "code",
   "execution_count": 16,
   "metadata": {},
   "outputs": [
    {
     "data": {
      "text/plain": [
       "gendr\n",
       "U    108892\n",
       "M    108013\n",
       "F    104290\n",
       "Name: count, dtype: int64"
      ]
     },
     "execution_count": 16,
     "metadata": {},
     "output_type": "execute_result"
    }
   ],
   "source": [
    "df_final_filtered['gendr'] = df_final_filtered['gendr'].replace(['X'], ['U'])\n",
    "df_final_filtered['gendr'].value_counts()"
   ]
  },
  {
   "cell_type": "code",
   "execution_count": null,
   "metadata": {},
   "outputs": [],
   "source": []
  },
  {
   "cell_type": "code",
   "execution_count": 17,
   "metadata": {},
   "outputs": [
    {
     "data": {
      "image/png": "[encoded data removed]",
      "text/plain": [
       "<Figure size 640x480 with 1 Axes>"
      ]
     },
     "metadata": {},
     "output_type": "display_data"
    }
   ],
   "source": [
    "# Gender distribution\n",
    "sns.countplot(x='gendr', data=df_final_filtered)\n",
    "plt.title('Gender Distribution')\n",
    "plt.xlabel('Gender')\n",
    "plt.ylabel('Count')\n",
    "plt.show()\n"
   ]
  },
  {
   "cell_type": "code",
   "execution_count": 18,
   "metadata": {},
   "outputs": [
    {
     "data": {
      "text/plain": [
       "array(['Test', 'Control'], dtype=object)"
      ]
     },
     "execution_count": 18,
     "metadata": {},
     "output_type": "execute_result"
    }
   ],
   "source": [
    "df_final_filtered['Variation'].unique()"
   ]
  },
  {
   "cell_type": "code",
   "execution_count": 19,
   "metadata": {},
   "outputs": [
    {
     "data": {
      "text/plain": [
       "process_step\n",
       "start      104041\n",
       "step_1      68410\n",
       "step_2      56855\n",
       "step_3      48675\n",
       "confirm     43214\n",
       "Name: count, dtype: int64"
      ]
     },
     "execution_count": 19,
     "metadata": {},
     "output_type": "execute_result"
    }
   ],
   "source": [
    "df_final_filtered['process_step'].value_counts()"
   ]
  },
  {
   "cell_type": "code",
   "execution_count": 20,
   "metadata": {},
   "outputs": [
    {
     "name": "stderr",
     "output_type": "stream",
     "text": [
      "C:\\Users\\eslab\\AppData\\Local\\Temp\\ipykernel_9316\\2658395255.py:2: FutureWarning: \n",
      "\n",
      "Passing `palette` without assigning `hue` is deprecated and will be removed in v0.14.0. Assign the `x` variable to `hue` and set `legend=False` for the same effect.\n",
      "\n",
      "  sns.countplot(data=df_final_filtered, x='process_step', palette=\"Set3\");\n"
     ]
    },
    {
     "data": {
      "image/png": "[encoded data removed]",
      "text/plain": [
       "<Figure size 640x480 with 1 Axes>"
      ]
     },
     "metadata": {},
     "output_type": "display_data"
    }
   ],
   "source": [
    "# Plotting a count plot for the 'MSZoning' column from the dataframe 'df', using the \"Set3\" palette for coloring\n",
    "sns.countplot(data=df_final_filtered, x='process_step', palette=\"Set3\");"
   ]
  },
  {
   "cell_type": "code",
   "execution_count": 21,
   "metadata": {},
   "outputs": [
    {
     "name": "stderr",
     "output_type": "stream",
     "text": [
      "C:\\Users\\eslab\\AppData\\Local\\Temp\\ipykernel_9316\\1339763098.py:1: FutureWarning: \n",
      "\n",
      "Passing `palette` without assigning `hue` is deprecated and will be removed in v0.14.0. Assign the `x` variable to `hue` and set `legend=False` for the same effect.\n",
      "\n",
      "  sns.countplot(data=df_final_filtered, x='Variation', palette=\"Set3\");\n"
     ]
    },
    {
     "data": {
      "image/png": "[encoded data removed]",
      "text/plain": [
       "<Figure size 640x480 with 1 Axes>"
      ]
     },
     "metadata": {},
     "output_type": "display_data"
    }
   ],
   "source": [
    "sns.countplot(data=df_final_filtered, x='Variation', palette=\"Set3\");"
   ]
  },
  {
   "cell_type": "markdown",
   "metadata": {},
   "source": [
    "## Numerical Variables\n"
   ]
  },
  {
   "cell_type": "code",
   "execution_count": 22,
   "metadata": {},
   "outputs": [
    {
     "data": {
      "text/html": [
       "<div>\n",
       "<style scoped>\n",
       "    .dataframe tbody tr th:only-of-type {\n",
       "        vertical-align: middle;\n",
       "    }\n",
       "\n",
       "    .dataframe tbody tr th {\n",
       "        vertical-align: top;\n",
       "    }\n",
       "\n",
       "    .dataframe thead th {\n",
       "        text-align: right;\n",
       "    }\n",
       "</style>\n",
       "<table border=\"1\" class=\"dataframe\">\n",
       "  <thead>\n",
       "    <tr style=\"text-align: right;\">\n",
       "      <th></th>\n",
       "      <th>client_id</th>\n",
       "      <th>clnt_tenure_yr</th>\n",
       "      <th>clnt_tenure_mnth</th>\n",
       "      <th>clnt_age</th>\n",
       "      <th>num_accts</th>\n",
       "      <th>bal</th>\n",
       "      <th>calls_6_mnth</th>\n",
       "      <th>logons_6_mnth</th>\n",
       "    </tr>\n",
       "  </thead>\n",
       "  <tbody>\n",
       "    <tr>\n",
       "      <th>count</th>\n",
       "      <td>3.211950e+05</td>\n",
       "      <td>321195.000000</td>\n",
       "      <td>321195.000000</td>\n",
       "      <td>321195.000000</td>\n",
       "      <td>321195.000000</td>\n",
       "      <td>3.211950e+05</td>\n",
       "      <td>321195.000000</td>\n",
       "      <td>321195.000000</td>\n",
       "    </tr>\n",
       "    <tr>\n",
       "      <th>mean</th>\n",
       "      <td>5.009766e+06</td>\n",
       "      <td>12.176528</td>\n",
       "      <td>152.134818</td>\n",
       "      <td>48.553511</td>\n",
       "      <td>2.262962</td>\n",
       "      <td>1.622142e+05</td>\n",
       "      <td>3.236834</td>\n",
       "      <td>6.275082</td>\n",
       "    </tr>\n",
       "    <tr>\n",
       "      <th>std</th>\n",
       "      <td>2.872653e+06</td>\n",
       "      <td>6.963181</td>\n",
       "      <td>83.210462</td>\n",
       "      <td>15.645588</td>\n",
       "      <td>0.541536</td>\n",
       "      <td>3.494776e+05</td>\n",
       "      <td>2.193690</td>\n",
       "      <td>2.179757</td>\n",
       "    </tr>\n",
       "    <tr>\n",
       "      <th>min</th>\n",
       "      <td>5.550000e+02</td>\n",
       "      <td>2.000000</td>\n",
       "      <td>33.000000</td>\n",
       "      <td>17.000000</td>\n",
       "      <td>1.000000</td>\n",
       "      <td>2.378944e+04</td>\n",
       "      <td>0.000000</td>\n",
       "      <td>3.000000</td>\n",
       "    </tr>\n",
       "    <tr>\n",
       "      <th>25%</th>\n",
       "      <td>2.514553e+06</td>\n",
       "      <td>6.000000</td>\n",
       "      <td>82.000000</td>\n",
       "      <td>34.500000</td>\n",
       "      <td>2.000000</td>\n",
       "      <td>4.105887e+04</td>\n",
       "      <td>1.000000</td>\n",
       "      <td>4.000000</td>\n",
       "    </tr>\n",
       "    <tr>\n",
       "      <th>50%</th>\n",
       "      <td>5.051667e+06</td>\n",
       "      <td>11.000000</td>\n",
       "      <td>138.000000</td>\n",
       "      <td>50.000000</td>\n",
       "      <td>2.000000</td>\n",
       "      <td>6.924195e+04</td>\n",
       "      <td>3.000000</td>\n",
       "      <td>6.000000</td>\n",
       "    </tr>\n",
       "    <tr>\n",
       "      <th>75%</th>\n",
       "      <td>7.468390e+06</td>\n",
       "      <td>16.000000</td>\n",
       "      <td>193.000000</td>\n",
       "      <td>61.000000</td>\n",
       "      <td>2.000000</td>\n",
       "      <td>1.514930e+05</td>\n",
       "      <td>6.000000</td>\n",
       "      <td>9.000000</td>\n",
       "    </tr>\n",
       "    <tr>\n",
       "      <th>max</th>\n",
       "      <td>9.999832e+06</td>\n",
       "      <td>55.000000</td>\n",
       "      <td>669.000000</td>\n",
       "      <td>96.000000</td>\n",
       "      <td>7.000000</td>\n",
       "      <td>1.632004e+07</td>\n",
       "      <td>6.000000</td>\n",
       "      <td>9.000000</td>\n",
       "    </tr>\n",
       "  </tbody>\n",
       "</table>\n",
       "</div>"
      ],
      "text/plain": [
       "          client_id  clnt_tenure_yr  clnt_tenure_mnth       clnt_age  \\\n",
       "count  3.211950e+05   321195.000000     321195.000000  321195.000000   \n",
       "mean   5.009766e+06       12.176528        152.134818      48.553511   \n",
       "std    2.872653e+06        6.963181         83.210462      15.645588   \n",
       "min    5.550000e+02        2.000000         33.000000      17.000000   \n",
       "25%    2.514553e+06        6.000000         82.000000      34.500000   \n",
       "50%    5.051667e+06       11.000000        138.000000      50.000000   \n",
       "75%    7.468390e+06       16.000000        193.000000      61.000000   \n",
       "max    9.999832e+06       55.000000        669.000000      96.000000   \n",
       "\n",
       "           num_accts           bal   calls_6_mnth  logons_6_mnth  \n",
       "count  321195.000000  3.211950e+05  321195.000000  321195.000000  \n",
       "mean        2.262962  1.622142e+05       3.236834       6.275082  \n",
       "std         0.541536  3.494776e+05       2.193690       2.179757  \n",
       "min         1.000000  2.378944e+04       0.000000       3.000000  \n",
       "25%         2.000000  4.105887e+04       1.000000       4.000000  \n",
       "50%         2.000000  6.924195e+04       3.000000       6.000000  \n",
       "75%         2.000000  1.514930e+05       6.000000       9.000000  \n",
       "max         7.000000  1.632004e+07       6.000000       9.000000  "
      ]
     },
     "execution_count": 22,
     "metadata": {},
     "output_type": "execute_result"
    }
   ],
   "source": [
    "df_final_filtered.describe()"
   ]
  },
  {
   "cell_type": "code",
   "execution_count": 23,
   "metadata": {},
   "outputs": [
    {
     "data": {
      "text/plain": [
       "(152.13481841249086, 138.0, 58.0)"
      ]
     },
     "execution_count": 23,
     "metadata": {},
     "output_type": "execute_result"
    }
   ],
   "source": [
    "mean_month = df_final_filtered['clnt_tenure_mnth'].mean()\n",
    "median_month = df_final_filtered['clnt_tenure_mnth'].median()\n",
    "mode_month = df_final_filtered['clnt_tenure_mnth'].mode()[0]\n",
    "\n",
    "mean_month, median_month, mode_month"
   ]
  },
  {
   "cell_type": "code",
   "execution_count": 24,
   "metadata": {},
   "outputs": [
    {
     "data": {
      "text/plain": [
       "(6923.981005119887,\n",
       " 83.21046211336581,\n",
       " 33.0,\n",
       " 669.0,\n",
       " 636.0,\n",
       " 0.25     82.0\n",
       " 0.50    138.0\n",
       " 0.75    193.0\n",
       " Name: clnt_tenure_mnth, dtype: float64)"
      ]
     },
     "execution_count": 24,
     "metadata": {},
     "output_type": "execute_result"
    }
   ],
   "source": [
    "# Measures of dispersion\n",
    "variance_month = df_final_filtered['clnt_tenure_mnth'].var()\n",
    "std_dev_month = df_final_filtered['clnt_tenure_mnth'].std()\n",
    "min_month = df_final_filtered['clnt_tenure_mnth'].min()\n",
    "max_month = df_final_filtered['clnt_tenure_mnth'].max()\n",
    "range_month = max_month - min_month\n",
    "quartiles_month = df_final_filtered['clnt_tenure_mnth'].quantile([0.25, 0.5, 0.75])\n",
    "\n",
    "variance_month, std_dev_month, min_month, max_month, range_month, quartiles_month\n",
    "\n"
   ]
  },
  {
   "cell_type": "code",
   "execution_count": 25,
   "metadata": {},
   "outputs": [
    {
     "data": {
      "text/plain": [
       "(1.0149608889921815, 0.8900514168971156)"
      ]
     },
     "execution_count": 25,
     "metadata": {},
     "output_type": "execute_result"
    }
   ],
   "source": [
    "# Calculating skewness and kurtosis\n",
    "skewness_month = df_final_filtered['clnt_tenure_mnth'].skew()\n",
    "kurtosis_month = df_final_filtered['clnt_tenure_mnth'].kurtosis()\n",
    "\n",
    "skewness_month, kurtosis_month"
   ]
  },
  {
   "cell_type": "code",
   "execution_count": 26,
   "metadata": {},
   "outputs": [
    {
     "data": {
      "text/plain": [
       "<Axes: xlabel='clnt_tenure_mnth', ylabel='Count'>"
      ]
     },
     "execution_count": 26,
     "metadata": {},
     "output_type": "execute_result"
    },
    {
     "data": {
      "image/png": "[encoded data removed]",
      "text/plain": [
       "<Figure size 640x480 with 1 Axes>"
      ]
     },
     "metadata": {},
     "output_type": "display_data"
    }
   ],
   "source": [
    "# Plotting a histogram for the 'SalePrice' column of the 'data' dataframe\n",
    "# 'kde=True' adds a Kernel Density Estimate plot to give an approximation of the data's distribution\n",
    "# 'bins=30' divides the data into 30 bins for more detailed granularity\n",
    "# 'color=\"salmon\"' sets the color of the bars to salmon\n",
    "sns.histplot(df_final_filtered['clnt_tenure_mnth'], kde=True, bins=30, color=\"salmon\")"
   ]
  },
  {
   "cell_type": "code",
   "execution_count": 27,
   "metadata": {},
   "outputs": [
    {
     "data": {
      "text/plain": [
       "(48.553511106959945, 50.0, 58.5)"
      ]
     },
     "execution_count": 27,
     "metadata": {},
     "output_type": "execute_result"
    }
   ],
   "source": [
    "mean_age = df_final_filtered['clnt_age'].mean()\n",
    "median_age = df_final_filtered['clnt_age'].median()\n",
    "mode_age = df_final_filtered['clnt_age'].mode()[0]\n",
    "\n",
    "mean_age, median_age, mode_age"
   ]
  },
  {
   "cell_type": "code",
   "execution_count": 28,
   "metadata": {},
   "outputs": [
    {
     "data": {
      "text/plain": [
       "(244.78442943468343,\n",
       " 15.64558817797156,\n",
       " 17.0,\n",
       " 96.0,\n",
       " 79.0,\n",
       " 0.25    34.5\n",
       " 0.50    50.0\n",
       " 0.75    61.0\n",
       " Name: clnt_age, dtype: float64)"
      ]
     },
     "execution_count": 28,
     "metadata": {},
     "output_type": "execute_result"
    }
   ],
   "source": [
    "variance_age = df_final_filtered['clnt_age'].var()\n",
    "std_dev_age = df_final_filtered['clnt_age'].std()\n",
    "min_age = df_final_filtered['clnt_age'].min()\n",
    "max_age = df_final_filtered['clnt_age'].max()\n",
    "range_age = max_age - min_age\n",
    "quartiles_age = df_final_filtered['clnt_age'].quantile([0.25, 0.5, 0.75])\n",
    "\n",
    "variance_age, std_dev_age, min_age, max_age, range_age, quartiles_age"
   ]
  },
  {
   "cell_type": "code",
   "execution_count": 29,
   "metadata": {},
   "outputs": [
    {
     "data": {
      "text/plain": [
       "(-0.012801806342837261, -0.9346229222661635)"
      ]
     },
     "execution_count": 29,
     "metadata": {},
     "output_type": "execute_result"
    }
   ],
   "source": [
    "skewness_age = df_final_filtered['clnt_age'].skew()\n",
    "kurtosis_age = df_final_filtered['clnt_age'].kurtosis()\n",
    "\n",
    "skewness_age, kurtosis_age"
   ]
  },
  {
   "cell_type": "code",
   "execution_count": 30,
   "metadata": {},
   "outputs": [
    {
     "data": {
      "text/plain": [
       "<Axes: xlabel='clnt_age', ylabel='Count'>"
      ]
     },
     "execution_count": 30,
     "metadata": {},
     "output_type": "execute_result"
    },
    {
     "data": {
      "image/png": "[encoded data removed]",
      "text/plain": [
       "<Figure size 640x480 with 1 Axes>"
      ]
     },
     "metadata": {},
     "output_type": "display_data"
    }
   ],
   "source": [
    "# Plotting a histogram for the 'SalePrice' column of the 'data' dataframe\n",
    "# 'kde=True' adds a Kernel Density Estimate plot to give an approximation of the data's distribution\n",
    "# 'bins=30' divides the data into 30 bins for more detailed granularity\n",
    "# 'color=\"salmon\"' sets the color of the bars to salmon\n",
    "sns.histplot(df_final_filtered['clnt_age'], kde=True, bins=30, color=\"salmon\")"
   ]
  },
  {
   "cell_type": "code",
   "execution_count": 31,
   "metadata": {},
   "outputs": [
    {
     "data": {
      "text/plain": [
       "(6.2750821152259535, 6.0, 9)"
      ]
     },
     "execution_count": 31,
     "metadata": {},
     "output_type": "execute_result"
    }
   ],
   "source": [
    "mean_logons_6_mnth = df_final_filtered['logons_6_mnth'].mean()\n",
    "median_logons_6_mnth = df_final_filtered['logons_6_mnth'].median()\n",
    "mode_logons_6_mnth = df_final_filtered['logons_6_mnth'].mode()[0]\n",
    "\n",
    "mean_logons_6_mnth, median_logons_6_mnth, mode_logons_6_mnth"
   ]
  },
  {
   "cell_type": "code",
   "execution_count": 32,
   "metadata": {},
   "outputs": [
    {
     "data": {
      "text/plain": [
       "(4.751340684158165,\n",
       " 2.179757024110294,\n",
       " 3,\n",
       " 9,\n",
       " 6,\n",
       " 0.25    4.0\n",
       " 0.50    6.0\n",
       " 0.75    9.0\n",
       " Name: logons_6_mnth, dtype: float64)"
      ]
     },
     "execution_count": 32,
     "metadata": {},
     "output_type": "execute_result"
    }
   ],
   "source": [
    "variance_logons_6_mnth = df_final_filtered['logons_6_mnth'].var()\n",
    "std_dev_logons_6_mnth = df_final_filtered['logons_6_mnth'].std()\n",
    "min_logons_6_mnth = df_final_filtered['logons_6_mnth'].min()\n",
    "max_logons_6_mnth = df_final_filtered['logons_6_mnth'].max()\n",
    "range_logons_6_mnth = max_logons_6_mnth - min_logons_6_mnth\n",
    "quartiles_logons_6_mnth = df_final_filtered['logons_6_mnth'].quantile([0.25, 0.5, 0.75])\n",
    "\n",
    "variance_logons_6_mnth, std_dev_logons_6_mnth, min_logons_6_mnth, max_logons_6_mnth, range_logons_6_mnth, quartiles_logons_6_mnth"
   ]
  },
  {
   "cell_type": "code",
   "execution_count": 33,
   "metadata": {},
   "outputs": [
    {
     "data": {
      "text/plain": [
       "(-0.06516227623765022, -1.4394495068728925)"
      ]
     },
     "execution_count": 33,
     "metadata": {},
     "output_type": "execute_result"
    }
   ],
   "source": [
    "skewness_logons_6_mnth = df_final_filtered['logons_6_mnth'].skew()\n",
    "kurtosis_logons_6_mnth = df_final_filtered['logons_6_mnth'].kurtosis()\n",
    "\n",
    "skewness_logons_6_mnth, kurtosis_logons_6_mnth"
   ]
  },
  {
   "cell_type": "code",
   "execution_count": 34,
   "metadata": {},
   "outputs": [
    {
     "data": {
      "text/plain": [
       "clnt_age\n",
       "58.5    4630\n",
       "62.5    4563\n",
       "59.5    4546\n",
       "57.5    4422\n",
       "52.5    4362\n",
       "        ... \n",
       "17.0      19\n",
       "89.5      17\n",
       "96.0      10\n",
       "95.5       6\n",
       "94.5       5\n",
       "Name: count, Length: 158, dtype: int64"
      ]
     },
     "execution_count": 34,
     "metadata": {},
     "output_type": "execute_result"
    }
   ],
   "source": [
    "df_final_filtered.clnt_age.value_counts()"
   ]
  },
  {
   "cell_type": "code",
   "execution_count": 35,
   "metadata": {},
   "outputs": [
    {
     "data": {
      "text/plain": [
       "clnt_age_category\n",
       "Senior (51+)            159773\n",
       "Young Adults (31-40)     54840\n",
       "Middle-aged (41-50)      53516\n",
       "Young (0-30)             53066\n",
       "Name: count, dtype: int64"
      ]
     },
     "execution_count": 35,
     "metadata": {},
     "output_type": "execute_result"
    }
   ],
   "source": [
    "# Define bins and labels for 4 categories\n",
    "bins = [0, 30, 40, 50, df_final_filtered['clnt_age'].max()]  # Add another bin for 30-40 age group\n",
    "labels = ['Young (0-30)', 'Young Adults (31-40)', 'Middle-aged (41-50)', 'Senior (51+)']\n",
    "\n",
    "# Discretize 'clnt_age' into 4 categories\n",
    "df_final_filtered['clnt_age_category'] = pd.cut(df_final_filtered['clnt_age'], bins=bins, labels=labels, include_lowest=True)\n",
    "\n",
    "# Display value counts to check the distribution of clients across age categories\n",
    "df_final_filtered['clnt_age_category'].value_counts()"
   ]
  },
  {
   "cell_type": "code",
   "execution_count": 36,
   "metadata": {},
   "outputs": [
    {
     "data": {
      "text/plain": [
       "<Axes: xlabel='logons_6_mnth', ylabel='Count'>"
      ]
     },
     "execution_count": 36,
     "metadata": {},
     "output_type": "execute_result"
    },
    {
     "data": {
      "image/png": "[encoded data removed]",
      "text/plain": [
       "<Figure size 640x480 with 1 Axes>"
      ]
     },
     "metadata": {},
     "output_type": "display_data"
    }
   ],
   "source": [
    "# Plotting a histogram for the 'SalePrice' column of the 'data' dataframe\n",
    "# 'kde=True' adds a Kernel Density Estimate plot to give an approximation of the data's distribution\n",
    "# 'bins=30' divides the data into 30 bins for more detailed granularity\n",
    "# 'color=\"salmon\"' sets the color of the bars to salmon\n",
    "sns.histplot(df_final_filtered['logons_6_mnth'], bins = 5, color=\"salmon\")"
   ]
  },
  {
   "cell_type": "code",
   "execution_count": 37,
   "metadata": {},
   "outputs": [
    {
     "data": {
      "text/html": [
       "<div>\n",
       "<style scoped>\n",
       "    .dataframe tbody tr th:only-of-type {\n",
       "        vertical-align: middle;\n",
       "    }\n",
       "\n",
       "    .dataframe tbody tr th {\n",
       "        vertical-align: top;\n",
       "    }\n",
       "\n",
       "    .dataframe thead th {\n",
       "        text-align: right;\n",
       "    }\n",
       "</style>\n",
       "<table border=\"1\" class=\"dataframe\">\n",
       "  <thead>\n",
       "    <tr style=\"text-align: right;\">\n",
       "      <th></th>\n",
       "      <th>client_id</th>\n",
       "      <th>clnt_tenure_yr</th>\n",
       "      <th>clnt_tenure_mnth</th>\n",
       "      <th>clnt_age</th>\n",
       "      <th>gendr</th>\n",
       "      <th>num_accts</th>\n",
       "      <th>bal</th>\n",
       "      <th>calls_6_mnth</th>\n",
       "      <th>logons_6_mnth</th>\n",
       "      <th>Variation</th>\n",
       "      <th>visitor_id</th>\n",
       "      <th>visit_id</th>\n",
       "      <th>process_step</th>\n",
       "      <th>date_time</th>\n",
       "      <th>clnt_age_category</th>\n",
       "    </tr>\n",
       "  </thead>\n",
       "  <tbody>\n",
       "    <tr>\n",
       "      <th>0</th>\n",
       "      <td>836976</td>\n",
       "      <td>6.0</td>\n",
       "      <td>73.0</td>\n",
       "      <td>60.5</td>\n",
       "      <td>U</td>\n",
       "      <td>2.0</td>\n",
       "      <td>45105.3</td>\n",
       "      <td>6.0</td>\n",
       "      <td>9</td>\n",
       "      <td>Test</td>\n",
       "      <td>427070339_1413275162</td>\n",
       "      <td>228976764_46825473280_96584</td>\n",
       "      <td>confirm</td>\n",
       "      <td>2017-04-02 11:46:45</td>\n",
       "      <td>Senior (51+)</td>\n",
       "    </tr>\n",
       "    <tr>\n",
       "      <th>1</th>\n",
       "      <td>836976</td>\n",
       "      <td>6.0</td>\n",
       "      <td>73.0</td>\n",
       "      <td>60.5</td>\n",
       "      <td>U</td>\n",
       "      <td>2.0</td>\n",
       "      <td>45105.3</td>\n",
       "      <td>6.0</td>\n",
       "      <td>9</td>\n",
       "      <td>Test</td>\n",
       "      <td>427070339_1413275162</td>\n",
       "      <td>228976764_46825473280_96584</td>\n",
       "      <td>start</td>\n",
       "      <td>2017-04-02 11:21:28</td>\n",
       "      <td>Senior (51+)</td>\n",
       "    </tr>\n",
       "    <tr>\n",
       "      <th>2</th>\n",
       "      <td>836976</td>\n",
       "      <td>6.0</td>\n",
       "      <td>73.0</td>\n",
       "      <td>60.5</td>\n",
       "      <td>U</td>\n",
       "      <td>2.0</td>\n",
       "      <td>45105.3</td>\n",
       "      <td>6.0</td>\n",
       "      <td>9</td>\n",
       "      <td>Test</td>\n",
       "      <td>427070339_1413275162</td>\n",
       "      <td>104438405_2368283624_817211</td>\n",
       "      <td>start</td>\n",
       "      <td>2017-03-29 11:02:44</td>\n",
       "      <td>Senior (51+)</td>\n",
       "    </tr>\n",
       "    <tr>\n",
       "      <th>3</th>\n",
       "      <td>836976</td>\n",
       "      <td>6.0</td>\n",
       "      <td>73.0</td>\n",
       "      <td>60.5</td>\n",
       "      <td>U</td>\n",
       "      <td>2.0</td>\n",
       "      <td>45105.3</td>\n",
       "      <td>6.0</td>\n",
       "      <td>9</td>\n",
       "      <td>Test</td>\n",
       "      <td>427070339_1413275162</td>\n",
       "      <td>228976764_46825473280_96584</td>\n",
       "      <td>step_2</td>\n",
       "      <td>2017-04-02 11:22:24</td>\n",
       "      <td>Senior (51+)</td>\n",
       "    </tr>\n",
       "    <tr>\n",
       "      <th>4</th>\n",
       "      <td>836976</td>\n",
       "      <td>6.0</td>\n",
       "      <td>73.0</td>\n",
       "      <td>60.5</td>\n",
       "      <td>U</td>\n",
       "      <td>2.0</td>\n",
       "      <td>45105.3</td>\n",
       "      <td>6.0</td>\n",
       "      <td>9</td>\n",
       "      <td>Test</td>\n",
       "      <td>427070339_1413275162</td>\n",
       "      <td>104438405_2368283624_817211</td>\n",
       "      <td>start</td>\n",
       "      <td>2017-03-29 11:01:40</td>\n",
       "      <td>Senior (51+)</td>\n",
       "    </tr>\n",
       "  </tbody>\n",
       "</table>\n",
       "</div>"
      ],
      "text/plain": [
       "   client_id  clnt_tenure_yr  clnt_tenure_mnth  clnt_age gendr  num_accts  \\\n",
       "0     836976             6.0              73.0      60.5     U        2.0   \n",
       "1     836976             6.0              73.0      60.5     U        2.0   \n",
       "2     836976             6.0              73.0      60.5     U        2.0   \n",
       "3     836976             6.0              73.0      60.5     U        2.0   \n",
       "4     836976             6.0              73.0      60.5     U        2.0   \n",
       "\n",
       "       bal  calls_6_mnth  logons_6_mnth Variation            visitor_id  \\\n",
       "0  45105.3           6.0              9      Test  427070339_1413275162   \n",
       "1  45105.3           6.0              9      Test  427070339_1413275162   \n",
       "2  45105.3           6.0              9      Test  427070339_1413275162   \n",
       "3  45105.3           6.0              9      Test  427070339_1413275162   \n",
       "4  45105.3           6.0              9      Test  427070339_1413275162   \n",
       "\n",
       "                      visit_id process_step            date_time  \\\n",
       "0  228976764_46825473280_96584      confirm  2017-04-02 11:46:45   \n",
       "1  228976764_46825473280_96584        start  2017-04-02 11:21:28   \n",
       "2  104438405_2368283624_817211        start  2017-03-29 11:02:44   \n",
       "3  228976764_46825473280_96584       step_2  2017-04-02 11:22:24   \n",
       "4  104438405_2368283624_817211        start  2017-03-29 11:01:40   \n",
       "\n",
       "  clnt_age_category  \n",
       "0      Senior (51+)  \n",
       "1      Senior (51+)  \n",
       "2      Senior (51+)  \n",
       "3      Senior (51+)  \n",
       "4      Senior (51+)  "
      ]
     },
     "execution_count": 37,
     "metadata": {},
     "output_type": "execute_result"
    }
   ],
   "source": [
    "df_final_filtered.head()"
   ]
  },
  {
   "cell_type": "code",
   "execution_count": 38,
   "metadata": {},
   "outputs": [
    {
     "name": "stdout",
     "output_type": "stream",
     "text": [
      "process_step          confirm  start  step_1  step_2  step_3\n",
      "clnt_age_category                                           \n",
      "Young (0-30)             7357  16566   11377    9626    8140\n",
      "Young Adults (31-40)     7778  17418   11567    9734    8343\n",
      "Middle-aged (41-50)      7384  17150   11352    9551    8079\n",
      "Senior (51+)            20695  52907   34114   27944   24113\n"
     ]
    }
   ],
   "source": [
    "crosstab_age_steps = pd.crosstab(df_final_filtered['clnt_age_category'], df_final_filtered['process_step'])\n",
    "print(crosstab_age_steps)\n"
   ]
  },
  {
   "cell_type": "code",
   "execution_count": 39,
   "metadata": {},
   "outputs": [
    {
     "name": "stdout",
     "output_type": "stream",
     "text": [
      "Chi2: 134.1768809417242, p-value: 8.933267540103155e-23, Degrees of Freedom: 12\n"
     ]
    }
   ],
   "source": [
    "chi2, p, dof, expected = chi2_contingency(crosstab_age_steps)\n",
    "\n",
    "print(f'Chi2: {chi2}, p-value: {p}, Degrees of Freedom: {dof}')"
   ]
  },
  {
   "cell_type": "markdown",
   "metadata": {},
   "source": [
    "p-value = 8.933267540103155e-23 means that there is a statistically significant association between the two categorical variables"
   ]
  },
  {
   "cell_type": "code",
   "execution_count": 40,
   "metadata": {},
   "outputs": [
    {
     "data": {
      "text/plain": [
       "0.011800321250993931"
      ]
     },
     "execution_count": 40,
     "metadata": {},
     "output_type": "execute_result"
    }
   ],
   "source": [
    "# Computing the association between variables in 'crosstab_result' using the \"cramer\" method\n",
    "association(crosstab_age_steps, method=\"cramer\")"
   ]
  },
  {
   "cell_type": "code",
   "execution_count": 41,
   "metadata": {},
   "outputs": [
    {
     "data": {
      "text/plain": [
       "<Axes: xlabel='clnt_age_category'>"
      ]
     },
     "execution_count": 41,
     "metadata": {},
     "output_type": "execute_result"
    },
    {
     "data": {
      "image/png": "[encoded data removed]",
      "text/plain": [
       "<Figure size 640x480 with 1 Axes>"
      ]
     },
     "metadata": {},
     "output_type": "display_data"
    }
   ],
   "source": [
    "crosstab_age_steps.plot(kind='bar', stacked=True)"
   ]
  },
  {
   "cell_type": "markdown",
   "metadata": {},
   "source": [
    "- The Senior (51+) category has significantly higher counts across all process steps compared to the other age groups. This suggests that seniors are more engaged or are progressing further through the process steps than younger clients.\n",
    "- Engagement decreases as clients move through the steps. The highest is in the Start phase, with a significant drop in the final steps."
   ]
  },
  {
   "cell_type": "code",
   "execution_count": 42,
   "metadata": {},
   "outputs": [
    {
     "name": "stdout",
     "output_type": "stream",
     "text": [
      "process_step  confirm  start  step_1  step_2  step_3\n",
      "gendr                                               \n",
      "F               13721  34410   22341   18195   15623\n",
      "M               15002  35240   23019   18684   16068\n",
      "U               14491  34391   23050   19976   16984\n"
     ]
    }
   ],
   "source": [
    "crosstab_gender_steps = pd.crosstab(df_final_filtered['gendr'], df_final_filtered['process_step'])\n",
    "print(crosstab_gender_steps)"
   ]
  },
  {
   "cell_type": "code",
   "execution_count": 43,
   "metadata": {},
   "outputs": [
    {
     "name": "stdout",
     "output_type": "stream",
     "text": [
      "Chi2: 121.8623174388735, p-value: 1.367267759634818e-22, Degrees of Freedom: 8\n"
     ]
    }
   ],
   "source": [
    "chi2, p, dof, expected = chi2_contingency(crosstab_gender_steps)\n",
    "\n",
    "print(f'Chi2: {chi2}, p-value: {p}, Degrees of Freedom: {dof}')"
   ]
  },
  {
   "cell_type": "code",
   "execution_count": 44,
   "metadata": {},
   "outputs": [
    {
     "data": {
      "text/plain": [
       "0.013773215115891102"
      ]
     },
     "execution_count": 44,
     "metadata": {},
     "output_type": "execute_result"
    }
   ],
   "source": [
    "association(crosstab_gender_steps, method=\"cramer\")"
   ]
  },
  {
   "cell_type": "code",
   "execution_count": 45,
   "metadata": {},
   "outputs": [
    {
     "data": {
      "text/plain": [
       "<Axes: xlabel='gendr'>"
      ]
     },
     "execution_count": 45,
     "metadata": {},
     "output_type": "execute_result"
    },
    {
     "data": {
      "image/png": "[encoded data removed]",
      "text/plain": [
       "<Figure size 640x480 with 1 Axes>"
      ]
     },
     "metadata": {},
     "output_type": "display_data"
    }
   ],
   "source": [
    "crosstab_gender_steps.plot(kind='bar', stacked=True)"
   ]
  },
  {
   "cell_type": "markdown",
   "metadata": {},
   "source": [
    "- The highest engagement is seen in the Start phase, with a decrease in participation as the steps progress in all sex groups"
   ]
  },
  {
   "cell_type": "code",
   "execution_count": 46,
   "metadata": {},
   "outputs": [
    {
     "name": "stdout",
     "output_type": "stream",
     "text": [
      "Variation             Control   Test\n",
      "clnt_age_category                   \n",
      "Young (0-30)            24129  28937\n",
      "Young Adults (31-40)    24814  30026\n",
      "Middle-aged (41-50)     24356  29160\n",
      "Senior (51+)            70109  89664\n"
     ]
    }
   ],
   "source": [
    "crosstab_age_variations = pd.crosstab(df_final_filtered['clnt_age_category'], df_final_filtered['Variation'])\n",
    "print(crosstab_age_variations)"
   ]
  },
  {
   "cell_type": "code",
   "execution_count": 47,
   "metadata": {},
   "outputs": [
    {
     "name": "stdout",
     "output_type": "stream",
     "text": [
      "Chi2: 76.73469173818287, p-value: 1.5390840316683493e-16, Degrees of Freedom: 3\n"
     ]
    }
   ],
   "source": [
    "chi2, p, dof, expected = chi2_contingency(crosstab_age_variations)\n",
    "\n",
    "print(f'Chi2: {chi2}, p-value: {p}, Degrees of Freedom: {dof}')"
   ]
  },
  {
   "cell_type": "code",
   "execution_count": 48,
   "metadata": {},
   "outputs": [
    {
     "data": {
      "text/plain": [
       "0.01545651174974445"
      ]
     },
     "execution_count": 48,
     "metadata": {},
     "output_type": "execute_result"
    }
   ],
   "source": [
    "association(crosstab_age_variations, method='cramer')"
   ]
  },
  {
   "cell_type": "code",
   "execution_count": 49,
   "metadata": {},
   "outputs": [
    {
     "data": {
      "text/plain": [
       "<Axes: xlabel='clnt_age_category'>"
      ]
     },
     "execution_count": 49,
     "metadata": {},
     "output_type": "execute_result"
    },
    {
     "data": {
      "image/png": "[encoded data removed]",
      "text/plain": [
       "<Figure size 640x480 with 1 Axes>"
      ]
     },
     "metadata": {},
     "output_type": "display_data"
    }
   ],
   "source": [
    "crosstab_age_variations.plot(kind='bar', stacked=True)"
   ]
  },
  {
   "cell_type": "markdown",
   "metadata": {},
   "source": [
    "- The Test group is consistently more populated across all age categories\n",
    "- This suggests that the Test variation might be more appealing or effective at engaging participants, particularly among older clients."
   ]
  },
  {
   "cell_type": "code",
   "execution_count": 50,
   "metadata": {},
   "outputs": [
    {
     "name": "stderr",
     "output_type": "stream",
     "text": [
      "C:\\Users\\eslab\\AppData\\Local\\Temp\\ipykernel_9316\\3634258375.py:1: FutureWarning: \n",
      "\n",
      "Passing `palette` without assigning `hue` is deprecated and will be removed in v0.14.0. Assign the `y` variable to `hue` and set `legend=False` for the same effect.\n",
      "\n",
      "  sns.violinplot(data=df_final_filtered, x='clnt_age', y='process_step', palette=\"coolwarm\")\n"
     ]
    },
    {
     "data": {
      "text/plain": [
       "<Axes: xlabel='clnt_age', ylabel='process_step'>"
      ]
     },
     "execution_count": 50,
     "metadata": {},
     "output_type": "execute_result"
    },
    {
     "data": {
      "image/png": "[encoded data removed]",
      "text/plain": [
       "<Figure size 640x480 with 1 Axes>"
      ]
     },
     "metadata": {},
     "output_type": "display_data"
    }
   ],
   "source": [
    "sns.violinplot(data=df_final_filtered, x='clnt_age', y='process_step', palette=\"coolwarm\")"
   ]
  },
  {
   "cell_type": "code",
   "execution_count": 51,
   "metadata": {},
   "outputs": [
    {
     "name": "stderr",
     "output_type": "stream",
     "text": [
      "C:\\Users\\eslab\\AppData\\Local\\Temp\\ipykernel_9316\\3070640262.py:2: FutureWarning: \n",
      "\n",
      "Passing `palette` without assigning `hue` is deprecated and will be removed in v0.14.0. Assign the `x` variable to `hue` and set `legend=False` for the same effect.\n",
      "\n",
      "  sns.boxplot(data=df_final_filtered, x='process_step', y='clnt_age', palette=\"coolwarm\")\n"
     ]
    },
    {
     "data": {
      "text/plain": [
       "<Axes: xlabel='process_step', ylabel='clnt_age'>"
      ]
     },
     "execution_count": 51,
     "metadata": {},
     "output_type": "execute_result"
    },
    {
     "data": {
      "image/png": "[encoded data removed]",
      "text/plain": [
       "<Figure size 640x480 with 1 Axes>"
      ]
     },
     "metadata": {},
     "output_type": "display_data"
    }
   ],
   "source": [
    "# Plotting a box plot to visualize the spread and outliers of 'age' for each 'process_step' category, using the \"coolwarm\" color palette\n",
    "sns.boxplot(data=df_final_filtered, x='process_step', y='clnt_age', palette=\"coolwarm\")"
   ]
  },
  {
   "cell_type": "code",
   "execution_count": 52,
   "metadata": {},
   "outputs": [
    {
     "name": "stderr",
     "output_type": "stream",
     "text": [
      "C:\\Users\\eslab\\AppData\\Local\\Temp\\ipykernel_9316\\1640451304.py:2: FutureWarning: \n",
      "\n",
      "Passing `palette` without assigning `hue` is deprecated and will be removed in v0.14.0. Assign the `x` variable to `hue` and set `legend=False` for the same effect.\n",
      "\n",
      "  sns.boxplot(data=df_final_filtered, x='process_step', y='bal', palette=\"coolwarm\")\n"
     ]
    },
    {
     "data": {
      "text/plain": [
       "<Axes: xlabel='process_step', ylabel='bal'>"
      ]
     },
     "execution_count": 52,
     "metadata": {},
     "output_type": "execute_result"
    },
    {
     "data": {
      "image/png": "[encoded data removed]",
      "text/plain": [
       "<Figure size 640x480 with 1 Axes>"
      ]
     },
     "metadata": {},
     "output_type": "display_data"
    }
   ],
   "source": [
    "# Plotting a box plot to visualize the spread and outliers of 'SalePrice' for each 'MSZoning' category, using the \"coolwarm\" color palette\n",
    "sns.boxplot(data=df_final_filtered, x='process_step', y='bal', palette=\"coolwarm\")"
   ]
  },
  {
   "cell_type": "code",
   "execution_count": 53,
   "metadata": {},
   "outputs": [
    {
     "data": {
      "text/plain": [
       "16320040.15"
      ]
     },
     "execution_count": 53,
     "metadata": {},
     "output_type": "execute_result"
    }
   ],
   "source": [
    "df_final_filtered['bal'].max()"
   ]
  },
  {
   "cell_type": "code",
   "execution_count": 54,
   "metadata": {},
   "outputs": [
    {
     "data": {
      "text/plain": [
       "balance\n",
       "Low       202442\n",
       "Medium     57886\n",
       "Strong     39015\n",
       "High       21852\n",
       "Name: count, dtype: int64"
      ]
     },
     "execution_count": 54,
     "metadata": {},
     "output_type": "execute_result"
    }
   ],
   "source": [
    "# Define bins and labels for 4 categories\n",
    "bins = [0, 100000, 200000, 300000, df_final_filtered['bal'].max()]  # Add another bin for 30-40 age group\n",
    "labels = ['Low', 'Medium', 'High', 'Strong']\n",
    "\n",
    "# Discretize 'clnt_age' into 4 categories\n",
    "df_final_filtered['balance'] = pd.cut(df_final_filtered['bal'], bins=bins, labels=labels, include_lowest=True)\n",
    "\n",
    "# Display value counts to check the distribution of clients across age categories\n",
    "df_final_filtered['balance'].value_counts()"
   ]
  },
  {
   "cell_type": "code",
   "execution_count": 55,
   "metadata": {},
   "outputs": [
    {
     "name": "stdout",
     "output_type": "stream",
     "text": [
      "process_step  confirm  start  step_1  step_2  step_3\n",
      "balance                                             \n",
      "Low             26892  64351   43445   36575   31179\n",
      "Medium           7756  19411   12266    9907    8546\n",
      "High             2883   7398    4612    3775    3184\n",
      "Strong           5683  12881    8087    6598    5766\n"
     ]
    }
   ],
   "source": [
    "crosstab_bal_steps = pd.crosstab(df_final_filtered['balance'], df_final_filtered['process_step'])\n",
    "print(crosstab_bal_steps)"
   ]
  },
  {
   "cell_type": "code",
   "execution_count": 56,
   "metadata": {},
   "outputs": [
    {
     "name": "stdout",
     "output_type": "stream",
     "text": [
      "Chi2: 180.92733647281852, p-value: 2.7524558100392217e-32, Degrees of Freedom: 12\n"
     ]
    }
   ],
   "source": [
    "chi2, p, dof, expected = chi2_contingency(crosstab_bal_steps)\n",
    "\n",
    "print(f'Chi2: {chi2}, p-value: {p}, Degrees of Freedom: {dof}')"
   ]
  },
  {
   "cell_type": "code",
   "execution_count": 57,
   "metadata": {},
   "outputs": [
    {
     "data": {
      "text/plain": [
       "0.01370272933943535"
      ]
     },
     "execution_count": 57,
     "metadata": {},
     "output_type": "execute_result"
    }
   ],
   "source": [
    "association(crosstab_bal_steps, method=\"cramer\")"
   ]
  },
  {
   "cell_type": "code",
   "execution_count": 58,
   "metadata": {},
   "outputs": [
    {
     "data": {
      "text/plain": [
       "<Axes: xlabel='balance'>"
      ]
     },
     "execution_count": 58,
     "metadata": {},
     "output_type": "execute_result"
    },
    {
     "data": {
      "image/png": "[encoded data removed]",
      "text/plain": [
       "<Figure size 640x480 with 1 Axes>"
      ]
     },
     "metadata": {},
     "output_type": "display_data"
    }
   ],
   "source": [
    "crosstab_bal_steps.plot(kind='bar', stacked=True)"
   ]
  },
  {
   "cell_type": "code",
   "execution_count": 59,
   "metadata": {},
   "outputs": [
    {
     "data": {
      "text/html": [
       "<div>\n",
       "<style scoped>\n",
       "    .dataframe tbody tr th:only-of-type {\n",
       "        vertical-align: middle;\n",
       "    }\n",
       "\n",
       "    .dataframe tbody tr th {\n",
       "        vertical-align: top;\n",
       "    }\n",
       "\n",
       "    .dataframe thead th {\n",
       "        text-align: right;\n",
       "    }\n",
       "</style>\n",
       "<table border=\"1\" class=\"dataframe\">\n",
       "  <thead>\n",
       "    <tr style=\"text-align: right;\">\n",
       "      <th></th>\n",
       "      <th>client_id</th>\n",
       "      <th>clnt_tenure_yr</th>\n",
       "      <th>clnt_tenure_mnth</th>\n",
       "      <th>clnt_age</th>\n",
       "      <th>gendr</th>\n",
       "      <th>num_accts</th>\n",
       "      <th>bal</th>\n",
       "      <th>calls_6_mnth</th>\n",
       "      <th>logons_6_mnth</th>\n",
       "      <th>Variation</th>\n",
       "      <th>visitor_id</th>\n",
       "      <th>visit_id</th>\n",
       "      <th>process_step</th>\n",
       "      <th>date_time</th>\n",
       "      <th>clnt_age_category</th>\n",
       "      <th>balance</th>\n",
       "    </tr>\n",
       "  </thead>\n",
       "  <tbody>\n",
       "    <tr>\n",
       "      <th>0</th>\n",
       "      <td>836976</td>\n",
       "      <td>6.0</td>\n",
       "      <td>73.0</td>\n",
       "      <td>60.5</td>\n",
       "      <td>U</td>\n",
       "      <td>2.0</td>\n",
       "      <td>45105.3</td>\n",
       "      <td>6.0</td>\n",
       "      <td>9</td>\n",
       "      <td>Test</td>\n",
       "      <td>427070339_1413275162</td>\n",
       "      <td>228976764_46825473280_96584</td>\n",
       "      <td>confirm</td>\n",
       "      <td>2017-04-02 11:46:45</td>\n",
       "      <td>Senior (51+)</td>\n",
       "      <td>Low</td>\n",
       "    </tr>\n",
       "    <tr>\n",
       "      <th>1</th>\n",
       "      <td>836976</td>\n",
       "      <td>6.0</td>\n",
       "      <td>73.0</td>\n",
       "      <td>60.5</td>\n",
       "      <td>U</td>\n",
       "      <td>2.0</td>\n",
       "      <td>45105.3</td>\n",
       "      <td>6.0</td>\n",
       "      <td>9</td>\n",
       "      <td>Test</td>\n",
       "      <td>427070339_1413275162</td>\n",
       "      <td>228976764_46825473280_96584</td>\n",
       "      <td>start</td>\n",
       "      <td>2017-04-02 11:21:28</td>\n",
       "      <td>Senior (51+)</td>\n",
       "      <td>Low</td>\n",
       "    </tr>\n",
       "    <tr>\n",
       "      <th>2</th>\n",
       "      <td>836976</td>\n",
       "      <td>6.0</td>\n",
       "      <td>73.0</td>\n",
       "      <td>60.5</td>\n",
       "      <td>U</td>\n",
       "      <td>2.0</td>\n",
       "      <td>45105.3</td>\n",
       "      <td>6.0</td>\n",
       "      <td>9</td>\n",
       "      <td>Test</td>\n",
       "      <td>427070339_1413275162</td>\n",
       "      <td>104438405_2368283624_817211</td>\n",
       "      <td>start</td>\n",
       "      <td>2017-03-29 11:02:44</td>\n",
       "      <td>Senior (51+)</td>\n",
       "      <td>Low</td>\n",
       "    </tr>\n",
       "    <tr>\n",
       "      <th>3</th>\n",
       "      <td>836976</td>\n",
       "      <td>6.0</td>\n",
       "      <td>73.0</td>\n",
       "      <td>60.5</td>\n",
       "      <td>U</td>\n",
       "      <td>2.0</td>\n",
       "      <td>45105.3</td>\n",
       "      <td>6.0</td>\n",
       "      <td>9</td>\n",
       "      <td>Test</td>\n",
       "      <td>427070339_1413275162</td>\n",
       "      <td>228976764_46825473280_96584</td>\n",
       "      <td>step_2</td>\n",
       "      <td>2017-04-02 11:22:24</td>\n",
       "      <td>Senior (51+)</td>\n",
       "      <td>Low</td>\n",
       "    </tr>\n",
       "    <tr>\n",
       "      <th>4</th>\n",
       "      <td>836976</td>\n",
       "      <td>6.0</td>\n",
       "      <td>73.0</td>\n",
       "      <td>60.5</td>\n",
       "      <td>U</td>\n",
       "      <td>2.0</td>\n",
       "      <td>45105.3</td>\n",
       "      <td>6.0</td>\n",
       "      <td>9</td>\n",
       "      <td>Test</td>\n",
       "      <td>427070339_1413275162</td>\n",
       "      <td>104438405_2368283624_817211</td>\n",
       "      <td>start</td>\n",
       "      <td>2017-03-29 11:01:40</td>\n",
       "      <td>Senior (51+)</td>\n",
       "      <td>Low</td>\n",
       "    </tr>\n",
       "  </tbody>\n",
       "</table>\n",
       "</div>"
      ],
      "text/plain": [
       "   client_id  clnt_tenure_yr  clnt_tenure_mnth  clnt_age gendr  num_accts  \\\n",
       "0     836976             6.0              73.0      60.5     U        2.0   \n",
       "1     836976             6.0              73.0      60.5     U        2.0   \n",
       "2     836976             6.0              73.0      60.5     U        2.0   \n",
       "3     836976             6.0              73.0      60.5     U        2.0   \n",
       "4     836976             6.0              73.0      60.5     U        2.0   \n",
       "\n",
       "       bal  calls_6_mnth  logons_6_mnth Variation            visitor_id  \\\n",
       "0  45105.3           6.0              9      Test  427070339_1413275162   \n",
       "1  45105.3           6.0              9      Test  427070339_1413275162   \n",
       "2  45105.3           6.0              9      Test  427070339_1413275162   \n",
       "3  45105.3           6.0              9      Test  427070339_1413275162   \n",
       "4  45105.3           6.0              9      Test  427070339_1413275162   \n",
       "\n",
       "                      visit_id process_step            date_time  \\\n",
       "0  228976764_46825473280_96584      confirm  2017-04-02 11:46:45   \n",
       "1  228976764_46825473280_96584        start  2017-04-02 11:21:28   \n",
       "2  104438405_2368283624_817211        start  2017-03-29 11:02:44   \n",
       "3  228976764_46825473280_96584       step_2  2017-04-02 11:22:24   \n",
       "4  104438405_2368283624_817211        start  2017-03-29 11:01:40   \n",
       "\n",
       "  clnt_age_category balance  \n",
       "0      Senior (51+)     Low  \n",
       "1      Senior (51+)     Low  \n",
       "2      Senior (51+)     Low  \n",
       "3      Senior (51+)     Low  \n",
       "4      Senior (51+)     Low  "
      ]
     },
     "execution_count": 59,
     "metadata": {},
     "output_type": "execute_result"
    }
   ],
   "source": [
    "df_final_filtered.head()    "
   ]
  },
  {
   "cell_type": "code",
   "execution_count": 60,
   "metadata": {},
   "outputs": [
    {
     "name": "stdout",
     "output_type": "stream",
     "text": [
      "Completion Rates:\n",
      "Variation\n",
      "Control    0.122016\n",
      "Test       0.144645\n",
      "dtype: float64\n"
     ]
    }
   ],
   "source": [
    "completion_counts = df_final_filtered.groupby('Variation')['process_step'].apply(lambda x: (x == 'confirm').sum())\n",
    "total_counts = df_final_filtered['Variation'].value_counts()\n",
    "completion_rate = completion_counts / total_counts\n",
    "print(f'Completion Rates:\\n{completion_rate}')\n"
   ]
  },
  {
   "cell_type": "code",
   "execution_count": 61,
   "metadata": {},
   "outputs": [
    {
     "data": {
      "text/html": [
       "<div>\n",
       "<style scoped>\n",
       "    .dataframe tbody tr th:only-of-type {\n",
       "        vertical-align: middle;\n",
       "    }\n",
       "\n",
       "    .dataframe tbody tr th {\n",
       "        vertical-align: top;\n",
       "    }\n",
       "\n",
       "    .dataframe thead th {\n",
       "        text-align: right;\n",
       "    }\n",
       "</style>\n",
       "<table border=\"1\" class=\"dataframe\">\n",
       "  <thead>\n",
       "    <tr style=\"text-align: right;\">\n",
       "      <th></th>\n",
       "      <th>client_id</th>\n",
       "      <th>clnt_tenure_yr</th>\n",
       "      <th>clnt_tenure_mnth</th>\n",
       "      <th>clnt_age</th>\n",
       "      <th>gendr</th>\n",
       "      <th>num_accts</th>\n",
       "      <th>bal</th>\n",
       "      <th>calls_6_mnth</th>\n",
       "      <th>logons_6_mnth</th>\n",
       "      <th>Variation</th>\n",
       "      <th>visitor_id</th>\n",
       "      <th>visit_id</th>\n",
       "      <th>process_step</th>\n",
       "      <th>date_time</th>\n",
       "      <th>clnt_age_category</th>\n",
       "      <th>balance</th>\n",
       "    </tr>\n",
       "  </thead>\n",
       "  <tbody>\n",
       "    <tr>\n",
       "      <th>0</th>\n",
       "      <td>836976</td>\n",
       "      <td>6.0</td>\n",
       "      <td>73.0</td>\n",
       "      <td>60.5</td>\n",
       "      <td>U</td>\n",
       "      <td>2.0</td>\n",
       "      <td>45105.3</td>\n",
       "      <td>6.0</td>\n",
       "      <td>9</td>\n",
       "      <td>Test</td>\n",
       "      <td>427070339_1413275162</td>\n",
       "      <td>228976764_46825473280_96584</td>\n",
       "      <td>confirm</td>\n",
       "      <td>2017-04-02 11:46:45</td>\n",
       "      <td>Senior (51+)</td>\n",
       "      <td>Low</td>\n",
       "    </tr>\n",
       "    <tr>\n",
       "      <th>1</th>\n",
       "      <td>836976</td>\n",
       "      <td>6.0</td>\n",
       "      <td>73.0</td>\n",
       "      <td>60.5</td>\n",
       "      <td>U</td>\n",
       "      <td>2.0</td>\n",
       "      <td>45105.3</td>\n",
       "      <td>6.0</td>\n",
       "      <td>9</td>\n",
       "      <td>Test</td>\n",
       "      <td>427070339_1413275162</td>\n",
       "      <td>228976764_46825473280_96584</td>\n",
       "      <td>start</td>\n",
       "      <td>2017-04-02 11:21:28</td>\n",
       "      <td>Senior (51+)</td>\n",
       "      <td>Low</td>\n",
       "    </tr>\n",
       "    <tr>\n",
       "      <th>2</th>\n",
       "      <td>836976</td>\n",
       "      <td>6.0</td>\n",
       "      <td>73.0</td>\n",
       "      <td>60.5</td>\n",
       "      <td>U</td>\n",
       "      <td>2.0</td>\n",
       "      <td>45105.3</td>\n",
       "      <td>6.0</td>\n",
       "      <td>9</td>\n",
       "      <td>Test</td>\n",
       "      <td>427070339_1413275162</td>\n",
       "      <td>104438405_2368283624_817211</td>\n",
       "      <td>start</td>\n",
       "      <td>2017-03-29 11:02:44</td>\n",
       "      <td>Senior (51+)</td>\n",
       "      <td>Low</td>\n",
       "    </tr>\n",
       "    <tr>\n",
       "      <th>3</th>\n",
       "      <td>836976</td>\n",
       "      <td>6.0</td>\n",
       "      <td>73.0</td>\n",
       "      <td>60.5</td>\n",
       "      <td>U</td>\n",
       "      <td>2.0</td>\n",
       "      <td>45105.3</td>\n",
       "      <td>6.0</td>\n",
       "      <td>9</td>\n",
       "      <td>Test</td>\n",
       "      <td>427070339_1413275162</td>\n",
       "      <td>228976764_46825473280_96584</td>\n",
       "      <td>step_2</td>\n",
       "      <td>2017-04-02 11:22:24</td>\n",
       "      <td>Senior (51+)</td>\n",
       "      <td>Low</td>\n",
       "    </tr>\n",
       "    <tr>\n",
       "      <th>4</th>\n",
       "      <td>836976</td>\n",
       "      <td>6.0</td>\n",
       "      <td>73.0</td>\n",
       "      <td>60.5</td>\n",
       "      <td>U</td>\n",
       "      <td>2.0</td>\n",
       "      <td>45105.3</td>\n",
       "      <td>6.0</td>\n",
       "      <td>9</td>\n",
       "      <td>Test</td>\n",
       "      <td>427070339_1413275162</td>\n",
       "      <td>104438405_2368283624_817211</td>\n",
       "      <td>start</td>\n",
       "      <td>2017-03-29 11:01:40</td>\n",
       "      <td>Senior (51+)</td>\n",
       "      <td>Low</td>\n",
       "    </tr>\n",
       "  </tbody>\n",
       "</table>\n",
       "</div>"
      ],
      "text/plain": [
       "   client_id  clnt_tenure_yr  clnt_tenure_mnth  clnt_age gendr  num_accts  \\\n",
       "0     836976             6.0              73.0      60.5     U        2.0   \n",
       "1     836976             6.0              73.0      60.5     U        2.0   \n",
       "2     836976             6.0              73.0      60.5     U        2.0   \n",
       "3     836976             6.0              73.0      60.5     U        2.0   \n",
       "4     836976             6.0              73.0      60.5     U        2.0   \n",
       "\n",
       "       bal  calls_6_mnth  logons_6_mnth Variation            visitor_id  \\\n",
       "0  45105.3           6.0              9      Test  427070339_1413275162   \n",
       "1  45105.3           6.0              9      Test  427070339_1413275162   \n",
       "2  45105.3           6.0              9      Test  427070339_1413275162   \n",
       "3  45105.3           6.0              9      Test  427070339_1413275162   \n",
       "4  45105.3           6.0              9      Test  427070339_1413275162   \n",
       "\n",
       "                      visit_id process_step            date_time  \\\n",
       "0  228976764_46825473280_96584      confirm  2017-04-02 11:46:45   \n",
       "1  228976764_46825473280_96584        start  2017-04-02 11:21:28   \n",
       "2  104438405_2368283624_817211        start  2017-03-29 11:02:44   \n",
       "3  228976764_46825473280_96584       step_2  2017-04-02 11:22:24   \n",
       "4  104438405_2368283624_817211        start  2017-03-29 11:01:40   \n",
       "\n",
       "  clnt_age_category balance  \n",
       "0      Senior (51+)     Low  \n",
       "1      Senior (51+)     Low  \n",
       "2      Senior (51+)     Low  \n",
       "3      Senior (51+)     Low  \n",
       "4      Senior (51+)     Low  "
      ]
     },
     "execution_count": 61,
     "metadata": {},
     "output_type": "execute_result"
    }
   ],
   "source": [
    "df_final_filtered.head()"
   ]
  },
  {
   "cell_type": "code",
   "execution_count": 62,
   "metadata": {},
   "outputs": [],
   "source": [
    "df_final_filtered['date_time'] = pd.to_datetime(df_final_filtered['date_time'])"
   ]
  },
  {
   "cell_type": "markdown",
   "metadata": {},
   "source": [
    "# STEPS ANALYSIS"
   ]
  },
  {
   "cell_type": "markdown",
   "metadata": {},
   "source": [
    "### CONFIRM"
   ]
  },
  {
   "cell_type": "code",
   "execution_count": 63,
   "metadata": {},
   "outputs": [
    {
     "name": "stdout",
     "output_type": "stream",
     "text": [
      "Completion Confirm Counts:\n",
      "Variation\n",
      "Control    17498\n",
      "Test       25716\n",
      "Name: process_step, dtype: int64\n"
     ]
    }
   ],
   "source": [
    "# Determine how many users reached the \"confirm\" step for each variation\n",
    "completion_counts = df_final_filtered.groupby('Variation')['process_step'].apply(lambda x: (x == 'confirm').sum()) # Funcion to count the number of users who reached the \"confirm\" step \n",
    "print(f'Completion Confirm Counts:\\n{completion_counts}') # Print the completion_counts\n"
   ]
  },
  {
   "cell_type": "code",
   "execution_count": 64,
   "metadata": {},
   "outputs": [
    {
     "name": "stdout",
     "output_type": "stream",
     "text": [
      "Completion Rates:\n",
      "Variation\n",
      "Control    0.122016\n",
      "Test       0.144645\n",
      "dtype: float64\n"
     ]
    }
   ],
   "source": [
    "total_counts = df_final_filtered['Variation'].value_counts()\n",
    "completion_rate = completion_counts / total_counts # Calculate the completion rate for each variation\n",
    "print(f'Completion Rates:\\n{completion_rate}')"
   ]
  },
  {
   "cell_type": "markdown",
   "metadata": {},
   "source": [
    "The Test variation demonstrates a better performance in terms of completion rates compared to the Control variation."
   ]
  },
  {
   "cell_type": "markdown",
   "metadata": {},
   "source": [
    "### START"
   ]
  },
  {
   "cell_type": "code",
   "execution_count": 65,
   "metadata": {},
   "outputs": [
    {
     "name": "stdout",
     "output_type": "stream",
     "text": [
      "Completion Start Counts:\n",
      "Variation\n",
      "Control    47589\n",
      "Test       56452\n",
      "Name: process_step, dtype: int64\n"
     ]
    }
   ],
   "source": [
    "# Determine how many users reached the \"start\" step for each variation\n",
    "start_count = df_final_filtered.groupby('Variation')['process_step'].apply(lambda x: (x == 'start').sum()) # Funcion to count the number of users who reached the \"confirm\" step \n",
    "print(f'Completion Start Counts:\\n{start_count}') # Print the completion_counts"
   ]
  },
  {
   "cell_type": "code",
   "execution_count": 66,
   "metadata": {},
   "outputs": [
    {
     "name": "stdout",
     "output_type": "stream",
     "text": [
      "Completion start Rates:\n",
      "Variation\n",
      "Control    0.331843\n",
      "Test       0.317526\n",
      "dtype: float64\n"
     ]
    }
   ],
   "source": [
    "start_rate = start_count / total_counts # Calculate the completion rate for each variation\n",
    "print(f'Completion start Rates:\\n{start_rate}')"
   ]
  },
  {
   "cell_type": "markdown",
   "metadata": {},
   "source": [
    "The Control group has a completion start rate of 33.18%, while the Test group has a lower rate of 31.75%.\n",
    "This suggests that users in the Control variation are more likely to start and complete the process compared to those in the Test variation."
   ]
  },
  {
   "cell_type": "markdown",
   "metadata": {},
   "source": [
    "### STEP 1"
   ]
  },
  {
   "cell_type": "code",
   "execution_count": 67,
   "metadata": {},
   "outputs": [
    {
     "name": "stdout",
     "output_type": "stream",
     "text": [
      "Completion step 1 Counts:\n",
      "Variation\n",
      "Control    29657\n",
      "Test       38753\n",
      "Name: process_step, dtype: int64\n"
     ]
    }
   ],
   "source": [
    "# Determine how many users reached the \"step_1\" for each variation\n",
    "step_1_count = df_final_filtered.groupby('Variation')['process_step'].apply(lambda x: (x == 'step_1').sum()) # Funcion to count the number of users who reached the \"confirm\" step \n",
    "print(f'Completion step 1 Counts:\\n{step_1_count}') # Print the completion_counts"
   ]
  },
  {
   "cell_type": "code",
   "execution_count": 68,
   "metadata": {},
   "outputs": [
    {
     "name": "stdout",
     "output_type": "stream",
     "text": [
      "Completion step 1 Rates:\n",
      "Variation\n",
      "Control    0.206802\n",
      "Test       0.217974\n",
      "dtype: float64\n"
     ]
    }
   ],
   "source": [
    "step_1_count = step_1_count / total_counts # Calculate the completion rate for each variation\n",
    "print(f'Completion step 1 Rates:\\n{step_1_count}')"
   ]
  },
  {
   "cell_type": "markdown",
   "metadata": {},
   "source": [
    "The Test variation shows a higher completion step 1 rate compared to the Control variation, suggesting that the changes made in the Test may enhance user engagement and success at this initial stage."
   ]
  },
  {
   "cell_type": "markdown",
   "metadata": {},
   "source": [
    "### STEP 2"
   ]
  },
  {
   "cell_type": "code",
   "execution_count": 69,
   "metadata": {},
   "outputs": [
    {
     "name": "stdout",
     "output_type": "stream",
     "text": [
      "Completion step 2 Counts:\n",
      "Variation\n",
      "Control    25877\n",
      "Test       30978\n",
      "Name: process_step, dtype: int64\n"
     ]
    }
   ],
   "source": [
    "step_2_count = df_final_filtered.groupby('Variation')['process_step'].apply(lambda x: (x == 'step_2').sum()) # Funcion to count the number of users who reached the \"confirm\" step \n",
    "print(f'Completion step 2 Counts:\\n{step_2_count}') # Print the completion_counts"
   ]
  },
  {
   "cell_type": "code",
   "execution_count": 70,
   "metadata": {},
   "outputs": [
    {
     "name": "stdout",
     "output_type": "stream",
     "text": [
      "Completion step 2 Rates:\n",
      "Variation\n",
      "Control    0.180443\n",
      "Test       0.174242\n",
      "dtype: float64\n"
     ]
    }
   ],
   "source": [
    "step_2_count = step_2_count / total_counts # Calculate the completion rate for each variation\n",
    "print(f'Completion step 2 Rates:\\n{step_2_count}')"
   ]
  },
  {
   "cell_type": "markdown",
   "metadata": {},
   "source": [
    "Indicate that users are more successful in completing this step with the Control design."
   ]
  },
  {
   "cell_type": "markdown",
   "metadata": {},
   "source": [
    "### STEP 3"
   ]
  },
  {
   "cell_type": "code",
   "execution_count": 71,
   "metadata": {},
   "outputs": [
    {
     "name": "stdout",
     "output_type": "stream",
     "text": [
      "Completion step 3 Counts:\n",
      "Variation\n",
      "Control    22787\n",
      "Test       25888\n",
      "Name: process_step, dtype: int64\n"
     ]
    }
   ],
   "source": [
    "step_3_count = df_final_filtered.groupby('Variation')['process_step'].apply(lambda x: (x == 'step_3').sum()) # Funcion to count the number of users who reached the \"confirm\" step \n",
    "print(f'Completion step 3 Counts:\\n{step_3_count}') # Print the completion_counts"
   ]
  },
  {
   "cell_type": "code",
   "execution_count": 72,
   "metadata": {},
   "outputs": [
    {
     "name": "stdout",
     "output_type": "stream",
     "text": [
      "Completion step 3 Rates:\n",
      "Variation\n",
      "Control    0.158896\n",
      "Test       0.145612\n",
      "dtype: float64\n"
     ]
    }
   ],
   "source": [
    "step_3_count = step_3_count / total_counts # Calculate the completion rate for each variation\n",
    "print(f'Completion step 3 Rates:\\n{step_3_count}')"
   ]
  },
  {
   "cell_type": "markdown",
   "metadata": {},
   "source": [
    "Is higher in Control"
   ]
  },
  {
   "cell_type": "markdown",
   "metadata": {},
   "source": [
    "# TIME SPEND IN EACH STEP"
   ]
  },
  {
   "cell_type": "code",
   "execution_count": 73,
   "metadata": {},
   "outputs": [
    {
     "name": "stdout",
     "output_type": "stream",
     "text": [
      "Average Time Spent:\n",
      "process_step       confirm          start      step_1     step_2      step_3\n",
      "Variation                                                                   \n",
      "Control       47191.376900  116338.875349  865.819334  39.393477  346.487339\n",
      "Test          70091.983201   91340.295756  948.056434  83.517851  555.212029\n"
     ]
    }
   ],
   "source": [
    "# Analize the time spent in each step\n",
    "df_final_filtered = df_final_filtered.sort_values(by=['visitor_id', 'date_time'])\n",
    "# Calculate time spent on each step\n",
    "df_final_filtered['time_spent'] = df_final_filtered.groupby('visitor_id')['date_time'].diff().dt.total_seconds().fillna(0)\n",
    "\n",
    "# Average time spent on each step by variation\n",
    "avg_time_spent = df_final_filtered.groupby(['Variation', 'process_step'])['time_spent'].mean().unstack()\n",
    "print(f'Average Time Spent:\\n{avg_time_spent}')"
   ]
  },
  {
   "cell_type": "code",
   "execution_count": 74,
   "metadata": {},
   "outputs": [
    {
     "name": "stdout",
     "output_type": "stream",
     "text": [
      "                   visitor_id process_step  time_spent  previous_time_spent\n",
      "45124    100019786_4272121951        start         0.0                  NaN\n",
      "45125    100019786_4272121951       step_1        13.0                  0.0\n",
      "45126    100019786_4272121951       step_2        35.0                 13.0\n",
      "45127    100019786_4272121951       step_3        89.0                 35.0\n",
      "45128    100019786_4272121951      confirm        28.0                 89.0\n",
      "...                       ...          ...         ...                  ...\n",
      "104961  999998529_89539814462       step_2       174.0                100.0\n",
      "104962  999998529_89539814462       step_3         8.0                174.0\n",
      "104965  999998529_89539814462      confirm       574.0                  8.0\n",
      "104967  999998529_89539814462        start       282.0                574.0\n",
      "104959  999998529_89539814462       step_1        18.0                282.0\n",
      "\n",
      "[321195 rows x 4 columns]\n"
     ]
    }
   ],
   "source": [
    "df_final_filtered['previous_time_spent'] = df_final_filtered.groupby('visitor_id')['time_spent'].shift(1)\n",
    "\n",
    "# 4. Opcional: Puedes imprimir el DataFrame para ver la nueva columna\n",
    "print(df_final_filtered[['visitor_id', 'process_step', 'time_spent', 'previous_time_spent']])"
   ]
  },
  {
   "cell_type": "code",
   "execution_count": 75,
   "metadata": {},
   "outputs": [
    {
     "name": "stdout",
     "output_type": "stream",
     "text": [
      "Correlation between current and previous time spent: 0.006558638147322237\n"
     ]
    }
   ],
   "source": [
    "correlation = df_final_filtered[['time_spent', 'previous_time_spent']].corr().iloc[0, 1]\n",
    "print(f'Correlation between current and previous time spent: {correlation}')"
   ]
  },
  {
   "cell_type": "code",
   "execution_count": 76,
   "metadata": {},
   "outputs": [
    {
     "name": "stdout",
     "output_type": "stream",
     "text": [
      "Correlación entre tiempo actual y tiempo anterior por categoría de edad:\n",
      "      clnt_age_category    Variable  Correlation\n",
      "0          Young (0-30)  time_spent     0.004689\n",
      "1  Young Adults (31-40)  time_spent     0.006686\n",
      "2   Middle-aged (41-50)  time_spent     0.009725\n",
      "3          Senior (51+)  time_spent     0.004486\n",
      "\n",
      "Correlación entre tiempo actual y tiempo anterior por género:\n",
      "  gendr    Variable  Correlation\n",
      "0     F  time_spent     0.008788\n",
      "1     M  time_spent     0.009611\n",
      "2     U  time_spent    -0.000663\n"
     ]
    },
    {
     "name": "stderr",
     "output_type": "stream",
     "text": [
      "C:\\Users\\eslab\\AppData\\Local\\Temp\\ipykernel_9316\\302314490.py:5: FutureWarning: The default of observed=False is deprecated and will be changed to True in a future version of pandas. Pass observed=False to retain current behavior or observed=True to adopt the future default and silence this warning.\n",
      "  age_segments = df_final_filtered.groupby('clnt_age_category')[['time_spent', 'previous_time_spent']].corr().iloc[0::2, -1]\n"
     ]
    }
   ],
   "source": [
    "# Segment analysis\n",
    "\n",
    "\n",
    "# Análisis de segmentos por categoría de edad\n",
    "age_segments = df_final_filtered.groupby('clnt_age_category')[['time_spent', 'previous_time_spent']].corr().iloc[0::2, -1]\n",
    "\n",
    "# Resetear el índice para facilitar la visualización\n",
    "age_segments = age_segments.reset_index()\n",
    "age_segments.columns = ['clnt_age_category', 'Variable', 'Correlation']\n",
    "\n",
    "print(\"Correlación entre tiempo actual y tiempo anterior por categoría de edad:\")\n",
    "print(age_segments)\n",
    "\n",
    "# Análisis de segmentos por género\n",
    "gender_segments = df_final_filtered.groupby('gendr')[['time_spent', 'previous_time_spent']].corr().iloc[0::2, -1]\n",
    "\n",
    "# Resetear el índice para facilitar la visualización\n",
    "gender_segments = gender_segments.reset_index()\n",
    "gender_segments.columns = ['gendr', 'Variable', 'Correlation']\n",
    "\n",
    "print(\"\\nCorrelación entre tiempo actual y tiempo anterior por género:\")\n",
    "print(gender_segments)\n"
   ]
  },
  {
   "cell_type": "markdown",
   "metadata": {},
   "source": [
    "There is no significant linear relationship between the time spent in consecutive steps, which could be a valuable finding for future website optimizations."
   ]
  },
  {
   "cell_type": "code",
   "execution_count": null,
   "metadata": {},
   "outputs": [],
   "source": []
  },
  {
   "cell_type": "code",
   "execution_count": 77,
   "metadata": {},
   "outputs": [
    {
     "data": {
      "text/html": [
       "<div>\n",
       "<style scoped>\n",
       "    .dataframe tbody tr th:only-of-type {\n",
       "        vertical-align: middle;\n",
       "    }\n",
       "\n",
       "    .dataframe tbody tr th {\n",
       "        vertical-align: top;\n",
       "    }\n",
       "\n",
       "    .dataframe thead th {\n",
       "        text-align: right;\n",
       "    }\n",
       "</style>\n",
       "<table border=\"1\" class=\"dataframe\">\n",
       "  <thead>\n",
       "    <tr style=\"text-align: right;\">\n",
       "      <th></th>\n",
       "      <th>client_id</th>\n",
       "      <th>clnt_tenure_yr</th>\n",
       "      <th>clnt_tenure_mnth</th>\n",
       "      <th>clnt_age</th>\n",
       "      <th>gendr</th>\n",
       "      <th>num_accts</th>\n",
       "      <th>bal</th>\n",
       "      <th>calls_6_mnth</th>\n",
       "      <th>logons_6_mnth</th>\n",
       "      <th>Variation</th>\n",
       "      <th>visitor_id</th>\n",
       "      <th>visit_id</th>\n",
       "      <th>process_step</th>\n",
       "      <th>date_time</th>\n",
       "      <th>clnt_age_category</th>\n",
       "      <th>balance</th>\n",
       "      <th>time_spent</th>\n",
       "      <th>previous_time_spent</th>\n",
       "    </tr>\n",
       "  </thead>\n",
       "  <tbody>\n",
       "    <tr>\n",
       "      <th>45124</th>\n",
       "      <td>6265388</td>\n",
       "      <td>7.0</td>\n",
       "      <td>94.0</td>\n",
       "      <td>42.5</td>\n",
       "      <td>U</td>\n",
       "      <td>4.0</td>\n",
       "      <td>214896.6</td>\n",
       "      <td>5.0</td>\n",
       "      <td>8</td>\n",
       "      <td>Test</td>\n",
       "      <td>100019786_4272121951</td>\n",
       "      <td>703380671_89376183829_330646</td>\n",
       "      <td>start</td>\n",
       "      <td>2017-04-15 15:13:33</td>\n",
       "      <td>Middle-aged (41-50)</td>\n",
       "      <td>High</td>\n",
       "      <td>0.0</td>\n",
       "      <td>NaN</td>\n",
       "    </tr>\n",
       "    <tr>\n",
       "      <th>45125</th>\n",
       "      <td>6265388</td>\n",
       "      <td>7.0</td>\n",
       "      <td>94.0</td>\n",
       "      <td>42.5</td>\n",
       "      <td>U</td>\n",
       "      <td>4.0</td>\n",
       "      <td>214896.6</td>\n",
       "      <td>5.0</td>\n",
       "      <td>8</td>\n",
       "      <td>Test</td>\n",
       "      <td>100019786_4272121951</td>\n",
       "      <td>703380671_89376183829_330646</td>\n",
       "      <td>step_1</td>\n",
       "      <td>2017-04-15 15:13:46</td>\n",
       "      <td>Middle-aged (41-50)</td>\n",
       "      <td>High</td>\n",
       "      <td>13.0</td>\n",
       "      <td>0.0</td>\n",
       "    </tr>\n",
       "    <tr>\n",
       "      <th>45126</th>\n",
       "      <td>6265388</td>\n",
       "      <td>7.0</td>\n",
       "      <td>94.0</td>\n",
       "      <td>42.5</td>\n",
       "      <td>U</td>\n",
       "      <td>4.0</td>\n",
       "      <td>214896.6</td>\n",
       "      <td>5.0</td>\n",
       "      <td>8</td>\n",
       "      <td>Test</td>\n",
       "      <td>100019786_4272121951</td>\n",
       "      <td>703380671_89376183829_330646</td>\n",
       "      <td>step_2</td>\n",
       "      <td>2017-04-15 15:14:21</td>\n",
       "      <td>Middle-aged (41-50)</td>\n",
       "      <td>High</td>\n",
       "      <td>35.0</td>\n",
       "      <td>13.0</td>\n",
       "    </tr>\n",
       "    <tr>\n",
       "      <th>45127</th>\n",
       "      <td>6265388</td>\n",
       "      <td>7.0</td>\n",
       "      <td>94.0</td>\n",
       "      <td>42.5</td>\n",
       "      <td>U</td>\n",
       "      <td>4.0</td>\n",
       "      <td>214896.6</td>\n",
       "      <td>5.0</td>\n",
       "      <td>8</td>\n",
       "      <td>Test</td>\n",
       "      <td>100019786_4272121951</td>\n",
       "      <td>703380671_89376183829_330646</td>\n",
       "      <td>step_3</td>\n",
       "      <td>2017-04-15 15:15:50</td>\n",
       "      <td>Middle-aged (41-50)</td>\n",
       "      <td>High</td>\n",
       "      <td>89.0</td>\n",
       "      <td>35.0</td>\n",
       "    </tr>\n",
       "    <tr>\n",
       "      <th>45128</th>\n",
       "      <td>6265388</td>\n",
       "      <td>7.0</td>\n",
       "      <td>94.0</td>\n",
       "      <td>42.5</td>\n",
       "      <td>U</td>\n",
       "      <td>4.0</td>\n",
       "      <td>214896.6</td>\n",
       "      <td>5.0</td>\n",
       "      <td>8</td>\n",
       "      <td>Test</td>\n",
       "      <td>100019786_4272121951</td>\n",
       "      <td>703380671_89376183829_330646</td>\n",
       "      <td>confirm</td>\n",
       "      <td>2017-04-15 15:16:18</td>\n",
       "      <td>Middle-aged (41-50)</td>\n",
       "      <td>High</td>\n",
       "      <td>28.0</td>\n",
       "      <td>89.0</td>\n",
       "    </tr>\n",
       "  </tbody>\n",
       "</table>\n",
       "</div>"
      ],
      "text/plain": [
       "       client_id  clnt_tenure_yr  clnt_tenure_mnth  clnt_age gendr  num_accts  \\\n",
       "45124    6265388             7.0              94.0      42.5     U        4.0   \n",
       "45125    6265388             7.0              94.0      42.5     U        4.0   \n",
       "45126    6265388             7.0              94.0      42.5     U        4.0   \n",
       "45127    6265388             7.0              94.0      42.5     U        4.0   \n",
       "45128    6265388             7.0              94.0      42.5     U        4.0   \n",
       "\n",
       "            bal  calls_6_mnth  logons_6_mnth Variation            visitor_id  \\\n",
       "45124  214896.6           5.0              8      Test  100019786_4272121951   \n",
       "45125  214896.6           5.0              8      Test  100019786_4272121951   \n",
       "45126  214896.6           5.0              8      Test  100019786_4272121951   \n",
       "45127  214896.6           5.0              8      Test  100019786_4272121951   \n",
       "45128  214896.6           5.0              8      Test  100019786_4272121951   \n",
       "\n",
       "                           visit_id process_step           date_time  \\\n",
       "45124  703380671_89376183829_330646        start 2017-04-15 15:13:33   \n",
       "45125  703380671_89376183829_330646       step_1 2017-04-15 15:13:46   \n",
       "45126  703380671_89376183829_330646       step_2 2017-04-15 15:14:21   \n",
       "45127  703380671_89376183829_330646       step_3 2017-04-15 15:15:50   \n",
       "45128  703380671_89376183829_330646      confirm 2017-04-15 15:16:18   \n",
       "\n",
       "         clnt_age_category balance  time_spent  previous_time_spent  \n",
       "45124  Middle-aged (41-50)    High         0.0                  NaN  \n",
       "45125  Middle-aged (41-50)    High        13.0                  0.0  \n",
       "45126  Middle-aged (41-50)    High        35.0                 13.0  \n",
       "45127  Middle-aged (41-50)    High        89.0                 35.0  \n",
       "45128  Middle-aged (41-50)    High        28.0                 89.0  "
      ]
     },
     "execution_count": 77,
     "metadata": {},
     "output_type": "execute_result"
    }
   ],
   "source": [
    "df_final_filtered.head()\n"
   ]
  },
  {
   "cell_type": "code",
   "execution_count": 78,
   "metadata": {},
   "outputs": [],
   "source": [
    "df_numerical = df_final_filtered[['client_id', 'clnt_tenure_yr', 'clnt_tenure_mnth', 'clnt_age', 'num_accts', 'bal', 'calls_6_mnth', 'logons_6_mnth', 'time_spent', 'previous_time_spent']]"
   ]
  },
  {
   "cell_type": "code",
   "execution_count": 79,
   "metadata": {},
   "outputs": [
    {
     "data": {
      "text/plain": [
       "client_id             -0.005917\n",
       "clnt_tenure_yr         0.050840\n",
       "clnt_tenure_mnth       0.047713\n",
       "clnt_age               0.086709\n",
       "num_accts              0.246120\n",
       "bal                    0.293132\n",
       "calls_6_mnth           0.994291\n",
       "logons_6_mnth          1.000000\n",
       "time_spent             0.013942\n",
       "previous_time_spent    0.023788\n",
       "dtype: float64"
      ]
     },
     "execution_count": 79,
     "metadata": {},
     "output_type": "execute_result"
    }
   ],
   "source": [
    "spearman_correlations = df_numerical.corrwith(df_final_filtered['logons_6_mnth'], method='spearman')\n",
    "spearman_correlations"
   ]
  },
  {
   "cell_type": "code",
   "execution_count": 80,
   "metadata": {},
   "outputs": [
    {
     "name": "stdout",
     "output_type": "stream",
     "text": [
      "Correlation between current and previous time spent: 0.9943794327632768\n"
     ]
    }
   ],
   "source": [
    "correlation = df_final_filtered[['logons_6_mnth', 'calls_6_mnth']].corr().iloc[0, 1]\n",
    "print(f'Correlation between current and previous time spent: {correlation}')"
   ]
  },
  {
   "cell_type": "code",
   "execution_count": 81,
   "metadata": {},
   "outputs": [
    {
     "data": {
      "image/png": "[encoded data removed]",
      "text/plain": [
       "<Figure size 1800x1500 with 2 Axes>"
      ]
     },
     "metadata": {},
     "output_type": "display_data"
    }
   ],
   "source": [
    "correlation_matrix = df_numerical.corr()\n",
    "\n",
    "# Setting up the matplotlib figure with an appropriate size\n",
    "plt.figure(figsize=(18, 15))\n",
    "\n",
    "# Drawing the heatmap for the numerical columns\n",
    "sns.heatmap(correlation_matrix, annot=True, cmap=\"coolwarm\")\n",
    "\n",
    "plt.title(\"Correlation Heatmap for Selected Numerical Variables\")\n",
    "plt.show()"
   ]
  },
  {
   "cell_type": "code",
   "execution_count": 90,
   "metadata": {},
   "outputs": [
    {
     "data": {
      "text/html": [
       "<div>\n",
       "<style scoped>\n",
       "    .dataframe tbody tr th:only-of-type {\n",
       "        vertical-align: middle;\n",
       "    }\n",
       "\n",
       "    .dataframe tbody tr th {\n",
       "        vertical-align: top;\n",
       "    }\n",
       "\n",
       "    .dataframe thead th {\n",
       "        text-align: right;\n",
       "    }\n",
       "</style>\n",
       "<table border=\"1\" class=\"dataframe\">\n",
       "  <thead>\n",
       "    <tr style=\"text-align: right;\">\n",
       "      <th></th>\n",
       "      <th>visitor_id</th>\n",
       "      <th>session_start</th>\n",
       "      <th>session_end</th>\n",
       "      <th>duration</th>\n",
       "      <th>Variation</th>\n",
       "      <th>process_step</th>\n",
       "      <th>clnt_age_category</th>\n",
       "      <th>time_spent</th>\n",
       "    </tr>\n",
       "  </thead>\n",
       "  <tbody>\n",
       "    <tr>\n",
       "      <th>0</th>\n",
       "      <td>100019786_4272121951</td>\n",
       "      <td>2017-04-15 15:13:33</td>\n",
       "      <td>2017-04-15 15:16:47</td>\n",
       "      <td>194.0</td>\n",
       "      <td>Test</td>\n",
       "      <td>start</td>\n",
       "      <td>Middle-aged (41-50)</td>\n",
       "      <td>0.0</td>\n",
       "    </tr>\n",
       "    <tr>\n",
       "      <th>1</th>\n",
       "      <td>100019786_4272121951</td>\n",
       "      <td>2017-04-15 15:13:33</td>\n",
       "      <td>2017-04-15 15:16:47</td>\n",
       "      <td>194.0</td>\n",
       "      <td>Test</td>\n",
       "      <td>step_1</td>\n",
       "      <td>Middle-aged (41-50)</td>\n",
       "      <td>13.0</td>\n",
       "    </tr>\n",
       "    <tr>\n",
       "      <th>2</th>\n",
       "      <td>100019786_4272121951</td>\n",
       "      <td>2017-04-15 15:13:33</td>\n",
       "      <td>2017-04-15 15:16:47</td>\n",
       "      <td>194.0</td>\n",
       "      <td>Test</td>\n",
       "      <td>step_2</td>\n",
       "      <td>Middle-aged (41-50)</td>\n",
       "      <td>35.0</td>\n",
       "    </tr>\n",
       "    <tr>\n",
       "      <th>3</th>\n",
       "      <td>100019786_4272121951</td>\n",
       "      <td>2017-04-15 15:13:33</td>\n",
       "      <td>2017-04-15 15:16:47</td>\n",
       "      <td>194.0</td>\n",
       "      <td>Test</td>\n",
       "      <td>step_3</td>\n",
       "      <td>Middle-aged (41-50)</td>\n",
       "      <td>89.0</td>\n",
       "    </tr>\n",
       "    <tr>\n",
       "      <th>4</th>\n",
       "      <td>100019786_4272121951</td>\n",
       "      <td>2017-04-15 15:13:33</td>\n",
       "      <td>2017-04-15 15:16:47</td>\n",
       "      <td>194.0</td>\n",
       "      <td>Test</td>\n",
       "      <td>confirm</td>\n",
       "      <td>Middle-aged (41-50)</td>\n",
       "      <td>28.0</td>\n",
       "    </tr>\n",
       "  </tbody>\n",
       "</table>\n",
       "</div>"
      ],
      "text/plain": [
       "             visitor_id       session_start         session_end  duration  \\\n",
       "0  100019786_4272121951 2017-04-15 15:13:33 2017-04-15 15:16:47     194.0   \n",
       "1  100019786_4272121951 2017-04-15 15:13:33 2017-04-15 15:16:47     194.0   \n",
       "2  100019786_4272121951 2017-04-15 15:13:33 2017-04-15 15:16:47     194.0   \n",
       "3  100019786_4272121951 2017-04-15 15:13:33 2017-04-15 15:16:47     194.0   \n",
       "4  100019786_4272121951 2017-04-15 15:13:33 2017-04-15 15:16:47     194.0   \n",
       "\n",
       "  Variation process_step    clnt_age_category  time_spent  \n",
       "0      Test        start  Middle-aged (41-50)         0.0  \n",
       "1      Test       step_1  Middle-aged (41-50)        13.0  \n",
       "2      Test       step_2  Middle-aged (41-50)        35.0  \n",
       "3      Test       step_3  Middle-aged (41-50)        89.0  \n",
       "4      Test      confirm  Middle-aged (41-50)        28.0  "
      ]
     },
     "execution_count": 90,
     "metadata": {},
     "output_type": "execute_result"
    }
   ],
   "source": [
    "# Calculate session duration\n",
    "session_duration = df_final_filtered.groupby('visitor_id').agg(\n",
    "    session_start=('date_time', 'min'),\n",
    "    session_end=('date_time', 'max')\n",
    ").reset_index()\n",
    "\n",
    "# Calculate duration in seconds\n",
    "session_duration['duration'] = (session_duration['session_end'] - session_duration['session_start']).dt.total_seconds()\n",
    "\n",
    "# Merge back with original data to get variation\n",
    "session_duration = session_duration.merge(df_final_filtered[['visitor_id', 'Variation', 'process_step', 'clnt_age_category', 'time_spent']], on='visitor_id', how='left').drop_duplicates()\n",
    "session_duration.head()"
   ]
  },
  {
   "cell_type": "code",
   "execution_count": 89,
   "metadata": {},
   "outputs": [
    {
     "data": {
      "text/html": [
       "<div>\n",
       "<style scoped>\n",
       "    .dataframe tbody tr th:only-of-type {\n",
       "        vertical-align: middle;\n",
       "    }\n",
       "\n",
       "    .dataframe tbody tr th {\n",
       "        vertical-align: top;\n",
       "    }\n",
       "\n",
       "    .dataframe thead th {\n",
       "        text-align: right;\n",
       "    }\n",
       "</style>\n",
       "<table border=\"1\" class=\"dataframe\">\n",
       "  <thead>\n",
       "    <tr style=\"text-align: right;\">\n",
       "      <th></th>\n",
       "      <th>client_id</th>\n",
       "      <th>clnt_tenure_yr</th>\n",
       "      <th>clnt_tenure_mnth</th>\n",
       "      <th>clnt_age</th>\n",
       "      <th>gendr</th>\n",
       "      <th>num_accts</th>\n",
       "      <th>bal</th>\n",
       "      <th>calls_6_mnth</th>\n",
       "      <th>logons_6_mnth</th>\n",
       "      <th>Variation</th>\n",
       "      <th>visitor_id</th>\n",
       "      <th>visit_id</th>\n",
       "      <th>process_step</th>\n",
       "      <th>date_time</th>\n",
       "      <th>clnt_age_category</th>\n",
       "      <th>balance</th>\n",
       "      <th>time_spent</th>\n",
       "      <th>previous_time_spent</th>\n",
       "    </tr>\n",
       "  </thead>\n",
       "  <tbody>\n",
       "    <tr>\n",
       "      <th>45124</th>\n",
       "      <td>6265388</td>\n",
       "      <td>7.0</td>\n",
       "      <td>94.0</td>\n",
       "      <td>42.5</td>\n",
       "      <td>U</td>\n",
       "      <td>4.0</td>\n",
       "      <td>214896.6</td>\n",
       "      <td>5.0</td>\n",
       "      <td>8</td>\n",
       "      <td>Test</td>\n",
       "      <td>100019786_4272121951</td>\n",
       "      <td>703380671_89376183829_330646</td>\n",
       "      <td>start</td>\n",
       "      <td>2017-04-15 15:13:33</td>\n",
       "      <td>Middle-aged (41-50)</td>\n",
       "      <td>High</td>\n",
       "      <td>0.0</td>\n",
       "      <td>NaN</td>\n",
       "    </tr>\n",
       "    <tr>\n",
       "      <th>45125</th>\n",
       "      <td>6265388</td>\n",
       "      <td>7.0</td>\n",
       "      <td>94.0</td>\n",
       "      <td>42.5</td>\n",
       "      <td>U</td>\n",
       "      <td>4.0</td>\n",
       "      <td>214896.6</td>\n",
       "      <td>5.0</td>\n",
       "      <td>8</td>\n",
       "      <td>Test</td>\n",
       "      <td>100019786_4272121951</td>\n",
       "      <td>703380671_89376183829_330646</td>\n",
       "      <td>step_1</td>\n",
       "      <td>2017-04-15 15:13:46</td>\n",
       "      <td>Middle-aged (41-50)</td>\n",
       "      <td>High</td>\n",
       "      <td>13.0</td>\n",
       "      <td>0.0</td>\n",
       "    </tr>\n",
       "  </tbody>\n",
       "</table>\n",
       "</div>"
      ],
      "text/plain": [
       "       client_id  clnt_tenure_yr  clnt_tenure_mnth  clnt_age gendr  num_accts  \\\n",
       "45124    6265388             7.0              94.0      42.5     U        4.0   \n",
       "45125    6265388             7.0              94.0      42.5     U        4.0   \n",
       "\n",
       "            bal  calls_6_mnth  logons_6_mnth Variation            visitor_id  \\\n",
       "45124  214896.6           5.0              8      Test  100019786_4272121951   \n",
       "45125  214896.6           5.0              8      Test  100019786_4272121951   \n",
       "\n",
       "                           visit_id process_step           date_time  \\\n",
       "45124  703380671_89376183829_330646        start 2017-04-15 15:13:33   \n",
       "45125  703380671_89376183829_330646       step_1 2017-04-15 15:13:46   \n",
       "\n",
       "         clnt_age_category balance  time_spent  previous_time_spent  \n",
       "45124  Middle-aged (41-50)    High         0.0                  NaN  \n",
       "45125  Middle-aged (41-50)    High        13.0                  0.0  "
      ]
     },
     "execution_count": 89,
     "metadata": {},
     "output_type": "execute_result"
    }
   ],
   "source": [
    "df_final_filtered.head(2)"
   ]
  },
  {
   "cell_type": "code",
   "execution_count": 93,
   "metadata": {},
   "outputs": [
    {
     "name": "stdout",
     "output_type": "stream",
     "text": [
      "      clnt_age_category  completion_rate  average_session_duration  \\\n",
      "0          Young (0-30)         0.139992             244307.018210   \n",
      "1  Young Adults (31-40)         0.143571             265124.218795   \n",
      "2   Middle-aged (41-50)         0.139691             335799.658545   \n",
      "3          Senior (51+)         0.131231             559034.437194   \n",
      "\n",
      "   average_time_spent  \n",
      "0        27965.752420  \n",
      "1        30902.531693  \n",
      "2        36831.200281  \n",
      "3        53383.631771  \n"
     ]
    },
    {
     "name": "stderr",
     "output_type": "stream",
     "text": [
      "C:\\Users\\eslab\\AppData\\Local\\Temp\\ipykernel_9316\\3037342558.py:4: FutureWarning: The default of observed=False is deprecated and will be changed to True in a future version of pandas. Pass observed=False to retain current behavior or observed=True to adopt the future default and silence this warning.\n",
      "  segmented_kpis = session_duration.groupby('clnt_age_category').agg(\n"
     ]
    }
   ],
   "source": [
    "\n",
    "\n",
    "# Calculate KPIs by demographic segments\n",
    "segmented_kpis = session_duration.groupby('clnt_age_category').agg(\n",
    "    completion_rate=('process_step', lambda x: (x == 'confirm').sum() / len(x)),\n",
    "    average_session_duration=('duration', 'mean'),\n",
    "    average_time_spent=('time_spent', 'mean')  \n",
    ").reset_index()\n",
    "\n",
    "print(segmented_kpis)"
   ]
  },
  {
   "cell_type": "code",
   "execution_count": 94,
   "metadata": {},
   "outputs": [
    {
     "name": "stderr",
     "output_type": "stream",
     "text": [
      "C:\\Users\\eslab\\AppData\\Local\\Temp\\ipykernel_9316\\2369748226.py:2: FutureWarning: \n",
      "\n",
      "Passing `palette` without assigning `hue` is deprecated and will be removed in v0.14.0. Assign the `x` variable to `hue` and set `legend=False` for the same effect.\n",
      "\n",
      "  sns.barplot(data=segmented_kpis, x='clnt_age_category', y='completion_rate', palette='viridis')\n"
     ]
    },
    {
     "data": {
      "image/png": "[encoded data removed]",
      "text/plain": [
       "<Figure size 1000x600 with 1 Axes>"
      ]
     },
     "metadata": {},
     "output_type": "display_data"
    }
   ],
   "source": [
    "plt.figure(figsize=(10, 6))\n",
    "sns.barplot(data=segmented_kpis, x='clnt_age_category', y='completion_rate', palette='viridis')\n",
    "plt.title('Completion Rate by Age Category')\n",
    "plt.xlabel('Client Age Category')\n",
    "plt.ylabel('Completion Rate')\n",
    "plt.ylim(0, 0.2)  # Assuming the rates are in percentage\n",
    "plt.xticks(rotation=45)\n",
    "plt.show()"
   ]
  }
 ],
 "metadata": {
  "kernelspec": {
   "display_name": "project2",
   "language": "python",
   "name": "python3"
  },
  "language_info": {
   "codemirror_mode": {
    "name": "ipython",
    "version": 3
   },
   "file_extension": ".py",
   "mimetype": "text/x-python",
   "name": "python",
   "nbconvert_exporter": "python",
   "pygments_lexer": "ipython3",
   "version": "3.11.9"
  }
 },
 "nbformat": 4,
 "nbformat_minor": 2
}
