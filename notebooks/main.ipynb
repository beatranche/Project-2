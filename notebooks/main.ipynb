{
 "cells": [
  {
   "cell_type": "code",
   "execution_count": 35,
   "metadata": {},
   "outputs": [],
   "source": [
    "import pandas as pd\n",
    "import numpy as np\n",
    "import warnings\n",
    "import seaborn as sns\n",
    "import matplotlib.pyplot as plt\n",
    "import scipy.stats as st\n",
    "from statsmodels.stats.proportion import proportions_ztest\n",
    "from functions import load_and_merge_data, clean_data, calculate_stat_metrics, calculate_completion_rate, perform_chi2_test, calculate_time_spent, age_category,average_time_spent_by_step, time_correlation, bal_category, tenure_category\n",
    "\n",
    "# --- Load Data ---\n",
    "df = load_and_merge_data('df_final_demo.txt', 'df_final_experiment_clients.txt', 'df_final_web_data_pt_1.txt', 'df_final_web_data_pt_2.txt')\n",
    "warnings.simplefilter(\"ignore\")\n",
    "df.head()\n",
    "df = clean_data(df)\n",
    "df = age_category(df)\n",
    "df = bal_category(df)"
   ]
  },
  {
   "cell_type": "code",
   "execution_count": 36,
   "metadata": {},
   "outputs": [
    {
     "data": {
      "text/html": [
       "<div>\n",
       "<style scoped>\n",
       "    .dataframe tbody tr th:only-of-type {\n",
       "        vertical-align: middle;\n",
       "    }\n",
       "\n",
       "    .dataframe tbody tr th {\n",
       "        vertical-align: top;\n",
       "    }\n",
       "\n",
       "    .dataframe thead th {\n",
       "        text-align: right;\n",
       "    }\n",
       "</style>\n",
       "<table border=\"1\" class=\"dataframe\">\n",
       "  <thead>\n",
       "    <tr style=\"text-align: right;\">\n",
       "      <th></th>\n",
       "      <th>client_id</th>\n",
       "      <th>clnt_tenure_yr</th>\n",
       "      <th>clnt_tenure_mnth</th>\n",
       "      <th>clnt_age</th>\n",
       "      <th>gendr</th>\n",
       "      <th>num_accts</th>\n",
       "      <th>bal</th>\n",
       "      <th>calls_6_mnth</th>\n",
       "      <th>logons_6_mnth</th>\n",
       "      <th>Variation</th>\n",
       "      <th>visitor_id</th>\n",
       "      <th>visit_id</th>\n",
       "      <th>process_step</th>\n",
       "      <th>date_time</th>\n",
       "      <th>clnt_age_category</th>\n",
       "      <th>balance</th>\n",
       "    </tr>\n",
       "  </thead>\n",
       "  <tbody>\n",
       "    <tr>\n",
       "      <th>0</th>\n",
       "      <td>836976</td>\n",
       "      <td>6.0</td>\n",
       "      <td>73.0</td>\n",
       "      <td>60.5</td>\n",
       "      <td>U</td>\n",
       "      <td>2.0</td>\n",
       "      <td>45105.30</td>\n",
       "      <td>6.0</td>\n",
       "      <td>9.0</td>\n",
       "      <td>Test</td>\n",
       "      <td>427070339_1413275162</td>\n",
       "      <td>228976764_46825473280_96584</td>\n",
       "      <td>confirm</td>\n",
       "      <td>2017-04-02 11:46:45</td>\n",
       "      <td>Senior (51+)</td>\n",
       "      <td>Low</td>\n",
       "    </tr>\n",
       "    <tr>\n",
       "      <th>1</th>\n",
       "      <td>836976</td>\n",
       "      <td>6.0</td>\n",
       "      <td>73.0</td>\n",
       "      <td>60.5</td>\n",
       "      <td>U</td>\n",
       "      <td>2.0</td>\n",
       "      <td>45105.30</td>\n",
       "      <td>6.0</td>\n",
       "      <td>9.0</td>\n",
       "      <td>Test</td>\n",
       "      <td>427070339_1413275162</td>\n",
       "      <td>228976764_46825473280_96584</td>\n",
       "      <td>start</td>\n",
       "      <td>2017-04-02 11:21:28</td>\n",
       "      <td>Senior (51+)</td>\n",
       "      <td>Low</td>\n",
       "    </tr>\n",
       "    <tr>\n",
       "      <th>2</th>\n",
       "      <td>836976</td>\n",
       "      <td>6.0</td>\n",
       "      <td>73.0</td>\n",
       "      <td>60.5</td>\n",
       "      <td>U</td>\n",
       "      <td>2.0</td>\n",
       "      <td>45105.30</td>\n",
       "      <td>6.0</td>\n",
       "      <td>9.0</td>\n",
       "      <td>Test</td>\n",
       "      <td>427070339_1413275162</td>\n",
       "      <td>104438405_2368283624_817211</td>\n",
       "      <td>start</td>\n",
       "      <td>2017-03-29 11:02:44</td>\n",
       "      <td>Senior (51+)</td>\n",
       "      <td>Low</td>\n",
       "    </tr>\n",
       "    <tr>\n",
       "      <th>3</th>\n",
       "      <td>836976</td>\n",
       "      <td>6.0</td>\n",
       "      <td>73.0</td>\n",
       "      <td>60.5</td>\n",
       "      <td>U</td>\n",
       "      <td>2.0</td>\n",
       "      <td>45105.30</td>\n",
       "      <td>6.0</td>\n",
       "      <td>9.0</td>\n",
       "      <td>Test</td>\n",
       "      <td>427070339_1413275162</td>\n",
       "      <td>228976764_46825473280_96584</td>\n",
       "      <td>step_2</td>\n",
       "      <td>2017-04-02 11:22:24</td>\n",
       "      <td>Senior (51+)</td>\n",
       "      <td>Low</td>\n",
       "    </tr>\n",
       "    <tr>\n",
       "      <th>4</th>\n",
       "      <td>836976</td>\n",
       "      <td>6.0</td>\n",
       "      <td>73.0</td>\n",
       "      <td>60.5</td>\n",
       "      <td>U</td>\n",
       "      <td>2.0</td>\n",
       "      <td>45105.30</td>\n",
       "      <td>6.0</td>\n",
       "      <td>9.0</td>\n",
       "      <td>Test</td>\n",
       "      <td>427070339_1413275162</td>\n",
       "      <td>104438405_2368283624_817211</td>\n",
       "      <td>start</td>\n",
       "      <td>2017-03-29 11:01:40</td>\n",
       "      <td>Senior (51+)</td>\n",
       "      <td>Low</td>\n",
       "    </tr>\n",
       "    <tr>\n",
       "      <th>...</th>\n",
       "      <td>...</td>\n",
       "      <td>...</td>\n",
       "      <td>...</td>\n",
       "      <td>...</td>\n",
       "      <td>...</td>\n",
       "      <td>...</td>\n",
       "      <td>...</td>\n",
       "      <td>...</td>\n",
       "      <td>...</td>\n",
       "      <td>...</td>\n",
       "      <td>...</td>\n",
       "      <td>...</td>\n",
       "      <td>...</td>\n",
       "      <td>...</td>\n",
       "      <td>...</td>\n",
       "      <td>...</td>\n",
       "    </tr>\n",
       "    <tr>\n",
       "      <th>321298</th>\n",
       "      <td>8739285</td>\n",
       "      <td>19.0</td>\n",
       "      <td>229.0</td>\n",
       "      <td>69.5</td>\n",
       "      <td>F</td>\n",
       "      <td>2.0</td>\n",
       "      <td>44994.24</td>\n",
       "      <td>1.0</td>\n",
       "      <td>4.0</td>\n",
       "      <td>Test</td>\n",
       "      <td>8756552_54841419737</td>\n",
       "      <td>101846948_96925910026_299041</td>\n",
       "      <td>step_2</td>\n",
       "      <td>2017-04-12 14:58:16</td>\n",
       "      <td>Senior (51+)</td>\n",
       "      <td>Low</td>\n",
       "    </tr>\n",
       "    <tr>\n",
       "      <th>321299</th>\n",
       "      <td>8739285</td>\n",
       "      <td>19.0</td>\n",
       "      <td>229.0</td>\n",
       "      <td>69.5</td>\n",
       "      <td>F</td>\n",
       "      <td>2.0</td>\n",
       "      <td>44994.24</td>\n",
       "      <td>1.0</td>\n",
       "      <td>4.0</td>\n",
       "      <td>Test</td>\n",
       "      <td>8756552_54841419737</td>\n",
       "      <td>101846948_96925910026_299041</td>\n",
       "      <td>step_3</td>\n",
       "      <td>2017-04-12 14:58:39</td>\n",
       "      <td>Senior (51+)</td>\n",
       "      <td>Low</td>\n",
       "    </tr>\n",
       "    <tr>\n",
       "      <th>321300</th>\n",
       "      <td>8739285</td>\n",
       "      <td>19.0</td>\n",
       "      <td>229.0</td>\n",
       "      <td>69.5</td>\n",
       "      <td>F</td>\n",
       "      <td>2.0</td>\n",
       "      <td>44994.24</td>\n",
       "      <td>1.0</td>\n",
       "      <td>4.0</td>\n",
       "      <td>Test</td>\n",
       "      <td>8756552_54841419737</td>\n",
       "      <td>101846948_96925910026_299041</td>\n",
       "      <td>confirm</td>\n",
       "      <td>2017-04-12 15:01:19</td>\n",
       "      <td>Senior (51+)</td>\n",
       "      <td>Low</td>\n",
       "    </tr>\n",
       "    <tr>\n",
       "      <th>321301</th>\n",
       "      <td>8739285</td>\n",
       "      <td>19.0</td>\n",
       "      <td>229.0</td>\n",
       "      <td>69.5</td>\n",
       "      <td>F</td>\n",
       "      <td>2.0</td>\n",
       "      <td>44994.24</td>\n",
       "      <td>1.0</td>\n",
       "      <td>4.0</td>\n",
       "      <td>Test</td>\n",
       "      <td>8756552_54841419737</td>\n",
       "      <td>101846948_96925910026_299041</td>\n",
       "      <td>step_1</td>\n",
       "      <td>2017-04-12 14:50:44</td>\n",
       "      <td>Senior (51+)</td>\n",
       "      <td>Low</td>\n",
       "    </tr>\n",
       "    <tr>\n",
       "      <th>321302</th>\n",
       "      <td>8739285</td>\n",
       "      <td>19.0</td>\n",
       "      <td>229.0</td>\n",
       "      <td>69.5</td>\n",
       "      <td>F</td>\n",
       "      <td>2.0</td>\n",
       "      <td>44994.24</td>\n",
       "      <td>1.0</td>\n",
       "      <td>4.0</td>\n",
       "      <td>Test</td>\n",
       "      <td>8756552_54841419737</td>\n",
       "      <td>101846948_96925910026_299041</td>\n",
       "      <td>start</td>\n",
       "      <td>2017-04-12 14:49:47</td>\n",
       "      <td>Senior (51+)</td>\n",
       "      <td>Low</td>\n",
       "    </tr>\n",
       "  </tbody>\n",
       "</table>\n",
       "<p>220161 rows × 16 columns</p>\n",
       "</div>"
      ],
      "text/plain": [
       "        client_id  clnt_tenure_yr  clnt_tenure_mnth  clnt_age gendr  \\\n",
       "0          836976             6.0              73.0      60.5     U   \n",
       "1          836976             6.0              73.0      60.5     U   \n",
       "2          836976             6.0              73.0      60.5     U   \n",
       "3          836976             6.0              73.0      60.5     U   \n",
       "4          836976             6.0              73.0      60.5     U   \n",
       "...           ...             ...               ...       ...   ...   \n",
       "321298    8739285            19.0             229.0      69.5     F   \n",
       "321299    8739285            19.0             229.0      69.5     F   \n",
       "321300    8739285            19.0             229.0      69.5     F   \n",
       "321301    8739285            19.0             229.0      69.5     F   \n",
       "321302    8739285            19.0             229.0      69.5     F   \n",
       "\n",
       "        num_accts       bal  calls_6_mnth  logons_6_mnth Variation  \\\n",
       "0             2.0  45105.30           6.0            9.0      Test   \n",
       "1             2.0  45105.30           6.0            9.0      Test   \n",
       "2             2.0  45105.30           6.0            9.0      Test   \n",
       "3             2.0  45105.30           6.0            9.0      Test   \n",
       "4             2.0  45105.30           6.0            9.0      Test   \n",
       "...           ...       ...           ...            ...       ...   \n",
       "321298        2.0  44994.24           1.0            4.0      Test   \n",
       "321299        2.0  44994.24           1.0            4.0      Test   \n",
       "321300        2.0  44994.24           1.0            4.0      Test   \n",
       "321301        2.0  44994.24           1.0            4.0      Test   \n",
       "321302        2.0  44994.24           1.0            4.0      Test   \n",
       "\n",
       "                  visitor_id                      visit_id process_step  \\\n",
       "0       427070339_1413275162   228976764_46825473280_96584      confirm   \n",
       "1       427070339_1413275162   228976764_46825473280_96584        start   \n",
       "2       427070339_1413275162   104438405_2368283624_817211        start   \n",
       "3       427070339_1413275162   228976764_46825473280_96584       step_2   \n",
       "4       427070339_1413275162   104438405_2368283624_817211        start   \n",
       "...                      ...                           ...          ...   \n",
       "321298   8756552_54841419737  101846948_96925910026_299041       step_2   \n",
       "321299   8756552_54841419737  101846948_96925910026_299041       step_3   \n",
       "321300   8756552_54841419737  101846948_96925910026_299041      confirm   \n",
       "321301   8756552_54841419737  101846948_96925910026_299041       step_1   \n",
       "321302   8756552_54841419737  101846948_96925910026_299041        start   \n",
       "\n",
       "                 date_time clnt_age_category balance  \n",
       "0      2017-04-02 11:46:45      Senior (51+)     Low  \n",
       "1      2017-04-02 11:21:28      Senior (51+)     Low  \n",
       "2      2017-03-29 11:02:44      Senior (51+)     Low  \n",
       "3      2017-04-02 11:22:24      Senior (51+)     Low  \n",
       "4      2017-03-29 11:01:40      Senior (51+)     Low  \n",
       "...                    ...               ...     ...  \n",
       "321298 2017-04-12 14:58:16      Senior (51+)     Low  \n",
       "321299 2017-04-12 14:58:39      Senior (51+)     Low  \n",
       "321300 2017-04-12 15:01:19      Senior (51+)     Low  \n",
       "321301 2017-04-12 14:50:44      Senior (51+)     Low  \n",
       "321302 2017-04-12 14:49:47      Senior (51+)     Low  \n",
       "\n",
       "[220161 rows x 16 columns]"
      ]
     },
     "metadata": {},
     "output_type": "display_data"
    }
   ],
   "source": [
    "for value in df.select_dtypes(include=[np.number]):\n",
    "    Q1 = df[value].quantile(0.25)\n",
    "    Q3 = df[value].quantile(0.75)\n",
    "    IQR = Q3 - Q1\n",
    "    lower_bound = Q1 - 1.5 * IQR\n",
    "    upper_bound = Q3 + 1.5 * IQR\n",
    "    df = df[(df[value] >= lower_bound) & (df[value] <= upper_bound)]\n",
    "\n",
    "display(df)"
   ]
  },
  {
   "cell_type": "markdown",
   "metadata": {},
   "source": [
    "## Identificación cliente principal"
   ]
  },
  {
   "cell_type": "code",
   "execution_count": 37,
   "metadata": {},
   "outputs": [],
   "source": [
    "df.to_csv('df.csv')"
   ]
  },
  {
   "cell_type": "code",
   "execution_count": 38,
   "metadata": {},
   "outputs": [
    {
     "data": {
      "text/html": [
       "<div>\n",
       "<style scoped>\n",
       "    .dataframe tbody tr th:only-of-type {\n",
       "        vertical-align: middle;\n",
       "    }\n",
       "\n",
       "    .dataframe tbody tr th {\n",
       "        vertical-align: top;\n",
       "    }\n",
       "\n",
       "    .dataframe thead th {\n",
       "        text-align: right;\n",
       "    }\n",
       "</style>\n",
       "<table border=\"1\" class=\"dataframe\">\n",
       "  <thead>\n",
       "    <tr style=\"text-align: right;\">\n",
       "      <th></th>\n",
       "      <th>client_id</th>\n",
       "      <th>clnt_tenure_yr</th>\n",
       "      <th>clnt_tenure_mnth</th>\n",
       "      <th>clnt_age</th>\n",
       "      <th>gendr</th>\n",
       "      <th>num_accts</th>\n",
       "      <th>bal</th>\n",
       "      <th>calls_6_mnth</th>\n",
       "      <th>logons_6_mnth</th>\n",
       "      <th>Variation</th>\n",
       "      <th>visitor_id</th>\n",
       "      <th>visit_id</th>\n",
       "      <th>process_step</th>\n",
       "      <th>date_time</th>\n",
       "      <th>clnt_age_category</th>\n",
       "      <th>balance</th>\n",
       "    </tr>\n",
       "  </thead>\n",
       "  <tbody>\n",
       "    <tr>\n",
       "      <th>0</th>\n",
       "      <td>836976</td>\n",
       "      <td>6.0</td>\n",
       "      <td>73.0</td>\n",
       "      <td>60.5</td>\n",
       "      <td>U</td>\n",
       "      <td>2.0</td>\n",
       "      <td>45105.3</td>\n",
       "      <td>6.0</td>\n",
       "      <td>9.0</td>\n",
       "      <td>Test</td>\n",
       "      <td>427070339_1413275162</td>\n",
       "      <td>228976764_46825473280_96584</td>\n",
       "      <td>confirm</td>\n",
       "      <td>2017-04-02 11:46:45</td>\n",
       "      <td>Senior (51+)</td>\n",
       "      <td>Low</td>\n",
       "    </tr>\n",
       "    <tr>\n",
       "      <th>1</th>\n",
       "      <td>836976</td>\n",
       "      <td>6.0</td>\n",
       "      <td>73.0</td>\n",
       "      <td>60.5</td>\n",
       "      <td>U</td>\n",
       "      <td>2.0</td>\n",
       "      <td>45105.3</td>\n",
       "      <td>6.0</td>\n",
       "      <td>9.0</td>\n",
       "      <td>Test</td>\n",
       "      <td>427070339_1413275162</td>\n",
       "      <td>228976764_46825473280_96584</td>\n",
       "      <td>start</td>\n",
       "      <td>2017-04-02 11:21:28</td>\n",
       "      <td>Senior (51+)</td>\n",
       "      <td>Low</td>\n",
       "    </tr>\n",
       "    <tr>\n",
       "      <th>2</th>\n",
       "      <td>836976</td>\n",
       "      <td>6.0</td>\n",
       "      <td>73.0</td>\n",
       "      <td>60.5</td>\n",
       "      <td>U</td>\n",
       "      <td>2.0</td>\n",
       "      <td>45105.3</td>\n",
       "      <td>6.0</td>\n",
       "      <td>9.0</td>\n",
       "      <td>Test</td>\n",
       "      <td>427070339_1413275162</td>\n",
       "      <td>104438405_2368283624_817211</td>\n",
       "      <td>start</td>\n",
       "      <td>2017-03-29 11:02:44</td>\n",
       "      <td>Senior (51+)</td>\n",
       "      <td>Low</td>\n",
       "    </tr>\n",
       "    <tr>\n",
       "      <th>3</th>\n",
       "      <td>836976</td>\n",
       "      <td>6.0</td>\n",
       "      <td>73.0</td>\n",
       "      <td>60.5</td>\n",
       "      <td>U</td>\n",
       "      <td>2.0</td>\n",
       "      <td>45105.3</td>\n",
       "      <td>6.0</td>\n",
       "      <td>9.0</td>\n",
       "      <td>Test</td>\n",
       "      <td>427070339_1413275162</td>\n",
       "      <td>228976764_46825473280_96584</td>\n",
       "      <td>step_2</td>\n",
       "      <td>2017-04-02 11:22:24</td>\n",
       "      <td>Senior (51+)</td>\n",
       "      <td>Low</td>\n",
       "    </tr>\n",
       "    <tr>\n",
       "      <th>4</th>\n",
       "      <td>836976</td>\n",
       "      <td>6.0</td>\n",
       "      <td>73.0</td>\n",
       "      <td>60.5</td>\n",
       "      <td>U</td>\n",
       "      <td>2.0</td>\n",
       "      <td>45105.3</td>\n",
       "      <td>6.0</td>\n",
       "      <td>9.0</td>\n",
       "      <td>Test</td>\n",
       "      <td>427070339_1413275162</td>\n",
       "      <td>104438405_2368283624_817211</td>\n",
       "      <td>start</td>\n",
       "      <td>2017-03-29 11:01:40</td>\n",
       "      <td>Senior (51+)</td>\n",
       "      <td>Low</td>\n",
       "    </tr>\n",
       "  </tbody>\n",
       "</table>\n",
       "</div>"
      ],
      "text/plain": [
       "   client_id  clnt_tenure_yr  clnt_tenure_mnth  clnt_age gendr  num_accts  \\\n",
       "0     836976             6.0              73.0      60.5     U        2.0   \n",
       "1     836976             6.0              73.0      60.5     U        2.0   \n",
       "2     836976             6.0              73.0      60.5     U        2.0   \n",
       "3     836976             6.0              73.0      60.5     U        2.0   \n",
       "4     836976             6.0              73.0      60.5     U        2.0   \n",
       "\n",
       "       bal  calls_6_mnth  logons_6_mnth Variation            visitor_id  \\\n",
       "0  45105.3           6.0            9.0      Test  427070339_1413275162   \n",
       "1  45105.3           6.0            9.0      Test  427070339_1413275162   \n",
       "2  45105.3           6.0            9.0      Test  427070339_1413275162   \n",
       "3  45105.3           6.0            9.0      Test  427070339_1413275162   \n",
       "4  45105.3           6.0            9.0      Test  427070339_1413275162   \n",
       "\n",
       "                      visit_id process_step           date_time  \\\n",
       "0  228976764_46825473280_96584      confirm 2017-04-02 11:46:45   \n",
       "1  228976764_46825473280_96584        start 2017-04-02 11:21:28   \n",
       "2  104438405_2368283624_817211        start 2017-03-29 11:02:44   \n",
       "3  228976764_46825473280_96584       step_2 2017-04-02 11:22:24   \n",
       "4  104438405_2368283624_817211        start 2017-03-29 11:01:40   \n",
       "\n",
       "  clnt_age_category balance  \n",
       "0      Senior (51+)     Low  \n",
       "1      Senior (51+)     Low  \n",
       "2      Senior (51+)     Low  \n",
       "3      Senior (51+)     Low  \n",
       "4      Senior (51+)     Low  "
      ]
     },
     "execution_count": 38,
     "metadata": {},
     "output_type": "execute_result"
    }
   ],
   "source": [
    "df.head()\n"
   ]
  },
  {
   "cell_type": "code",
   "execution_count": 39,
   "metadata": {},
   "outputs": [
    {
     "data": {
      "text/plain": [
       "<Axes: xlabel='clnt_age', ylabel='Count'>"
      ]
     },
     "execution_count": 39,
     "metadata": {},
     "output_type": "execute_result"
    },
    {
     "data": {
      "image/png": "[encoded data removed]",
      "text/plain": [
       "<Figure size 640x480 with 1 Axes>"
      ]
     },
     "metadata": {},
     "output_type": "display_data"
    }
   ],
   "source": [
    "sns.histplot(df['clnt_age'], kde=True, bins=30, color=\"salmon\")"
   ]
  },
  {
   "cell_type": "code",
   "execution_count": 40,
   "metadata": {},
   "outputs": [
    {
     "data": {
      "image/png": "[encoded data removed]",
      "text/plain": [
       "<Figure size 640x480 with 1 Axes>"
      ]
     },
     "metadata": {},
     "output_type": "display_data"
    }
   ],
   "source": [
    "df = age_category(df)\n",
    "sns.countplot(data=df, x='clnt_age_category', palette=\"Set3\");"
   ]
  },
  {
   "cell_type": "code",
   "execution_count": 41,
   "metadata": {},
   "outputs": [
    {
     "data": {
      "text/plain": [
       "{'mean': 47.2225121615545,\n",
       " 'median': 48.0,\n",
       " 'mode': 59.5,\n",
       " 'variance': 239.48488695939815,\n",
       " 'std_dev': 15.475299252660614,\n",
       " 'min': 17.0,\n",
       " 'max': 96.0,\n",
       " 'range': 79.0,\n",
       " 'quartiles': 0.25    33.5\n",
       " 0.50    48.0\n",
       " 0.75    59.5\n",
       " Name: clnt_age, dtype: float64,\n",
       " 'skewness': 0.05883303423813741,\n",
       " 'kurtosis': -0.9582780818839316}"
      ]
     },
     "execution_count": 41,
     "metadata": {},
     "output_type": "execute_result"
    }
   ],
   "source": [
    "age_stat_metrics = calculate_stat_metrics(df, 'clnt_age')\n",
    "age_stat_metrics"
   ]
  },
  {
   "cell_type": "code",
   "execution_count": 42,
   "metadata": {},
   "outputs": [
    {
     "data": {
      "text/plain": [
       "<Axes: xlabel='clnt_tenure_mnth', ylabel='Count'>"
      ]
     },
     "execution_count": 42,
     "metadata": {},
     "output_type": "execute_result"
    },
    {
     "data": {
      "image/png": "[encoded data removed]",
      "text/plain": [
       "<Figure size 640x480 with 1 Axes>"
      ]
     },
     "metadata": {},
     "output_type": "display_data"
    }
   ],
   "source": [
    "\n",
    "sns.histplot(df['clnt_tenure_mnth'], kde=True, bins=30, color=\"salmon\")\n"
   ]
  },
  {
   "cell_type": "code",
   "execution_count": 43,
   "metadata": {},
   "outputs": [
    {
     "data": {
      "image/png": "[encoded data removed]",
      "text/plain": [
       "<Figure size 640x480 with 1 Axes>"
      ]
     },
     "metadata": {},
     "output_type": "display_data"
    }
   ],
   "source": [
    "df = tenure_category(df)\n",
    "sns.countplot(data=df, x='tenure', palette=\"Set3\");"
   ]
  },
  {
   "cell_type": "code",
   "execution_count": 44,
   "metadata": {},
   "outputs": [
    {
     "data": {
      "text/plain": [
       "{'mean': 138.5623884339188,\n",
       " 'median': 124.0,\n",
       " 'mode': 58.0,\n",
       " 'variance': 4815.457446011159,\n",
       " 'std_dev': 69.39349714498584,\n",
       " 'min': 33.0,\n",
       " 'max': 357.0,\n",
       " 'range': 324.0,\n",
       " 'quartiles': 0.25     79.0\n",
       " 0.50    124.0\n",
       " 0.75    182.0\n",
       " Name: clnt_tenure_mnth, dtype: float64,\n",
       " 'skewness': 0.8199803806303346,\n",
       " 'kurtosis': -0.02619788513452459}"
      ]
     },
     "execution_count": 44,
     "metadata": {},
     "output_type": "execute_result"
    }
   ],
   "source": [
    "tenure_stat_metrics = calculate_stat_metrics(df, 'clnt_tenure_mnth')\n",
    "tenure_stat_metrics"
   ]
  },
  {
   "cell_type": "code",
   "execution_count": 45,
   "metadata": {},
   "outputs": [
    {
     "data": {
      "text/plain": [
       "count    220161.000000\n",
       "mean      70648.327841\n",
       "std       47784.698163\n",
       "min       23789.440000\n",
       "25%       35612.130000\n",
       "50%       52910.280000\n",
       "75%       89131.180000\n",
       "max      238006.220000\n",
       "Name: bal, dtype: float64"
      ]
     },
     "execution_count": 45,
     "metadata": {},
     "output_type": "execute_result"
    }
   ],
   "source": [
    "df['bal'].describe()\n"
   ]
  },
  {
   "cell_type": "code",
   "execution_count": 46,
   "metadata": {},
   "outputs": [
    {
     "data": {
      "text/plain": [
       "<Axes: xlabel='balance', ylabel='count'>"
      ]
     },
     "execution_count": 46,
     "metadata": {},
     "output_type": "execute_result"
    },
    {
     "data": {
      "image/png": "[encoded data removed]",
      "text/plain": [
       "<Figure size 640x480 with 1 Axes>"
      ]
     },
     "metadata": {},
     "output_type": "display_data"
    }
   ],
   "source": [
    "df = bal_category(df)\n",
    "sns.countplot(data=df, x='balance', palette=\"Set3\")"
   ]
  },
  {
   "cell_type": "code",
   "execution_count": 47,
   "metadata": {},
   "outputs": [
    {
     "data": {
      "text/plain": [
       "{'mean': 70648.32784121619,\n",
       " 'median': 52910.28,\n",
       " 'mode': 78389.93,\n",
       " 'variance': 2283377378.5655613,\n",
       " 'std_dev': 47784.6981633824,\n",
       " 'min': 23789.44,\n",
       " 'max': 238006.22,\n",
       " 'range': 214216.78,\n",
       " 'quartiles': 0.25    35612.13\n",
       " 0.50    52910.28\n",
       " 0.75    89131.18\n",
       " Name: bal, dtype: float64,\n",
       " 'skewness': 1.4804044183844622,\n",
       " 'kurtosis': 1.5636033000357261}"
      ]
     },
     "execution_count": 47,
     "metadata": {},
     "output_type": "execute_result"
    }
   ],
   "source": [
    "bal_stat_metrics = calculate_stat_metrics(df, 'bal')\n",
    "bal_stat_metrics"
   ]
  },
  {
   "cell_type": "markdown",
   "metadata": {},
   "source": [
    "### CLIENTE PRINCIPAL\n",
    "- Rango de 51 años o más\n",
    "- Antigüedad de mas de 8 años\n",
    "- Balance bajo "
   ]
  },
  {
   "cell_type": "markdown",
   "metadata": {},
   "source": [
    "# KPI'S"
   ]
  },
  {
   "cell_type": "code",
   "execution_count": 48,
   "metadata": {},
   "outputs": [
    {
     "data": {
      "text/html": [
       "<div>\n",
       "<style scoped>\n",
       "    .dataframe tbody tr th:only-of-type {\n",
       "        vertical-align: middle;\n",
       "    }\n",
       "\n",
       "    .dataframe tbody tr th {\n",
       "        vertical-align: top;\n",
       "    }\n",
       "\n",
       "    .dataframe thead th {\n",
       "        text-align: right;\n",
       "    }\n",
       "</style>\n",
       "<table border=\"1\" class=\"dataframe\">\n",
       "  <thead>\n",
       "    <tr style=\"text-align: right;\">\n",
       "      <th></th>\n",
       "      <th>client_id</th>\n",
       "      <th>clnt_tenure_yr</th>\n",
       "      <th>clnt_tenure_mnth</th>\n",
       "      <th>clnt_age</th>\n",
       "      <th>gendr</th>\n",
       "      <th>num_accts</th>\n",
       "      <th>bal</th>\n",
       "      <th>calls_6_mnth</th>\n",
       "      <th>logons_6_mnth</th>\n",
       "      <th>Variation</th>\n",
       "      <th>visitor_id</th>\n",
       "      <th>visit_id</th>\n",
       "      <th>process_step</th>\n",
       "      <th>date_time</th>\n",
       "      <th>clnt_age_category</th>\n",
       "      <th>balance</th>\n",
       "      <th>tenure</th>\n",
       "    </tr>\n",
       "  </thead>\n",
       "  <tbody>\n",
       "    <tr>\n",
       "      <th>0</th>\n",
       "      <td>836976</td>\n",
       "      <td>6.0</td>\n",
       "      <td>73.0</td>\n",
       "      <td>60.5</td>\n",
       "      <td>U</td>\n",
       "      <td>2.0</td>\n",
       "      <td>45105.3</td>\n",
       "      <td>6.0</td>\n",
       "      <td>9.0</td>\n",
       "      <td>Test</td>\n",
       "      <td>427070339_1413275162</td>\n",
       "      <td>228976764_46825473280_96584</td>\n",
       "      <td>confirm</td>\n",
       "      <td>2017-04-02 11:46:45</td>\n",
       "      <td>Senior (51+)</td>\n",
       "      <td>Low</td>\n",
       "      <td>Medium Time</td>\n",
       "    </tr>\n",
       "    <tr>\n",
       "      <th>1</th>\n",
       "      <td>836976</td>\n",
       "      <td>6.0</td>\n",
       "      <td>73.0</td>\n",
       "      <td>60.5</td>\n",
       "      <td>U</td>\n",
       "      <td>2.0</td>\n",
       "      <td>45105.3</td>\n",
       "      <td>6.0</td>\n",
       "      <td>9.0</td>\n",
       "      <td>Test</td>\n",
       "      <td>427070339_1413275162</td>\n",
       "      <td>228976764_46825473280_96584</td>\n",
       "      <td>start</td>\n",
       "      <td>2017-04-02 11:21:28</td>\n",
       "      <td>Senior (51+)</td>\n",
       "      <td>Low</td>\n",
       "      <td>Medium Time</td>\n",
       "    </tr>\n",
       "    <tr>\n",
       "      <th>2</th>\n",
       "      <td>836976</td>\n",
       "      <td>6.0</td>\n",
       "      <td>73.0</td>\n",
       "      <td>60.5</td>\n",
       "      <td>U</td>\n",
       "      <td>2.0</td>\n",
       "      <td>45105.3</td>\n",
       "      <td>6.0</td>\n",
       "      <td>9.0</td>\n",
       "      <td>Test</td>\n",
       "      <td>427070339_1413275162</td>\n",
       "      <td>104438405_2368283624_817211</td>\n",
       "      <td>start</td>\n",
       "      <td>2017-03-29 11:02:44</td>\n",
       "      <td>Senior (51+)</td>\n",
       "      <td>Low</td>\n",
       "      <td>Medium Time</td>\n",
       "    </tr>\n",
       "    <tr>\n",
       "      <th>3</th>\n",
       "      <td>836976</td>\n",
       "      <td>6.0</td>\n",
       "      <td>73.0</td>\n",
       "      <td>60.5</td>\n",
       "      <td>U</td>\n",
       "      <td>2.0</td>\n",
       "      <td>45105.3</td>\n",
       "      <td>6.0</td>\n",
       "      <td>9.0</td>\n",
       "      <td>Test</td>\n",
       "      <td>427070339_1413275162</td>\n",
       "      <td>228976764_46825473280_96584</td>\n",
       "      <td>step_2</td>\n",
       "      <td>2017-04-02 11:22:24</td>\n",
       "      <td>Senior (51+)</td>\n",
       "      <td>Low</td>\n",
       "      <td>Medium Time</td>\n",
       "    </tr>\n",
       "    <tr>\n",
       "      <th>4</th>\n",
       "      <td>836976</td>\n",
       "      <td>6.0</td>\n",
       "      <td>73.0</td>\n",
       "      <td>60.5</td>\n",
       "      <td>U</td>\n",
       "      <td>2.0</td>\n",
       "      <td>45105.3</td>\n",
       "      <td>6.0</td>\n",
       "      <td>9.0</td>\n",
       "      <td>Test</td>\n",
       "      <td>427070339_1413275162</td>\n",
       "      <td>104438405_2368283624_817211</td>\n",
       "      <td>start</td>\n",
       "      <td>2017-03-29 11:01:40</td>\n",
       "      <td>Senior (51+)</td>\n",
       "      <td>Low</td>\n",
       "      <td>Medium Time</td>\n",
       "    </tr>\n",
       "  </tbody>\n",
       "</table>\n",
       "</div>"
      ],
      "text/plain": [
       "   client_id  clnt_tenure_yr  clnt_tenure_mnth  clnt_age gendr  num_accts  \\\n",
       "0     836976             6.0              73.0      60.5     U        2.0   \n",
       "1     836976             6.0              73.0      60.5     U        2.0   \n",
       "2     836976             6.0              73.0      60.5     U        2.0   \n",
       "3     836976             6.0              73.0      60.5     U        2.0   \n",
       "4     836976             6.0              73.0      60.5     U        2.0   \n",
       "\n",
       "       bal  calls_6_mnth  logons_6_mnth Variation            visitor_id  \\\n",
       "0  45105.3           6.0            9.0      Test  427070339_1413275162   \n",
       "1  45105.3           6.0            9.0      Test  427070339_1413275162   \n",
       "2  45105.3           6.0            9.0      Test  427070339_1413275162   \n",
       "3  45105.3           6.0            9.0      Test  427070339_1413275162   \n",
       "4  45105.3           6.0            9.0      Test  427070339_1413275162   \n",
       "\n",
       "                      visit_id process_step           date_time  \\\n",
       "0  228976764_46825473280_96584      confirm 2017-04-02 11:46:45   \n",
       "1  228976764_46825473280_96584        start 2017-04-02 11:21:28   \n",
       "2  104438405_2368283624_817211        start 2017-03-29 11:02:44   \n",
       "3  228976764_46825473280_96584       step_2 2017-04-02 11:22:24   \n",
       "4  104438405_2368283624_817211        start 2017-03-29 11:01:40   \n",
       "\n",
       "  clnt_age_category balance       tenure  \n",
       "0      Senior (51+)     Low  Medium Time  \n",
       "1      Senior (51+)     Low  Medium Time  \n",
       "2      Senior (51+)     Low  Medium Time  \n",
       "3      Senior (51+)     Low  Medium Time  \n",
       "4      Senior (51+)     Low  Medium Time  "
      ]
     },
     "execution_count": 48,
     "metadata": {},
     "output_type": "execute_result"
    }
   ],
   "source": [
    "df.head(5)"
   ]
  },
  {
   "cell_type": "code",
   "execution_count": 49,
   "metadata": {},
   "outputs": [
    {
     "name": "stdout",
     "output_type": "stream",
     "text": [
      "Average Time Spent:\n",
      "process_step     confirm      start     step_1     step_2     step_3\n",
      "Variation                                                           \n",
      "Control       124.054265  54.388478  42.992353  37.227369  94.933316\n",
      "Test          113.732575  60.508795  37.121332  48.136459  97.881004\n"
     ]
    }
   ],
   "source": [
    "# Analize the time spent in each step\n",
    "df = df.sort_values(by=['visit_id', 'date_time'])\n",
    "# Calculate time spent on each step\n",
    "df['time_spent'] = df.groupby('visit_id')['date_time'].diff().dt.total_seconds().fillna(0)\n",
    "\n",
    "# Average time spent on each step by variation\n",
    "avg_time_spent = df.groupby(['Variation', 'process_step'])['time_spent'].mean().unstack()\n",
    "print(f'Average Time Spent:\\n{avg_time_spent}')\n",
    "avg_time_spent.to_csv('avg_time_spent.csv')"
   ]
  },
  {
   "cell_type": "code",
   "execution_count": 68,
   "metadata": {},
   "outputs": [
    {
     "data": {
      "text/html": [
       "<div>\n",
       "<style scoped>\n",
       "    .dataframe tbody tr th:only-of-type {\n",
       "        vertical-align: middle;\n",
       "    }\n",
       "\n",
       "    .dataframe tbody tr th {\n",
       "        vertical-align: top;\n",
       "    }\n",
       "\n",
       "    .dataframe thead th {\n",
       "        text-align: right;\n",
       "    }\n",
       "</style>\n",
       "<table border=\"1\" class=\"dataframe\">\n",
       "  <thead>\n",
       "    <tr style=\"text-align: right;\">\n",
       "      <th></th>\n",
       "      <th>visit_id</th>\n",
       "      <th>session_start</th>\n",
       "      <th>session_end</th>\n",
       "      <th>duration</th>\n",
       "      <th>visitor_id</th>\n",
       "      <th>Variation</th>\n",
       "      <th>process_step</th>\n",
       "      <th>clnt_age_category</th>\n",
       "      <th>time_spent</th>\n",
       "    </tr>\n",
       "  </thead>\n",
       "  <tbody>\n",
       "    <tr>\n",
       "      <th>0</th>\n",
       "      <td>100012776_37918976071_457913</td>\n",
       "      <td>2017-04-26 13:22:17</td>\n",
       "      <td>2017-04-26 13:23:09</td>\n",
       "      <td>52.0</td>\n",
       "      <td>451664975_1722933822</td>\n",
       "      <td>Test</td>\n",
       "      <td>confirm</td>\n",
       "      <td>Senior (51+)</td>\n",
       "      <td>0.0</td>\n",
       "    </tr>\n",
       "    <tr>\n",
       "      <th>1</th>\n",
       "      <td>100012776_37918976071_457913</td>\n",
       "      <td>2017-04-26 13:22:17</td>\n",
       "      <td>2017-04-26 13:23:09</td>\n",
       "      <td>52.0</td>\n",
       "      <td>451664975_1722933822</td>\n",
       "      <td>Test</td>\n",
       "      <td>confirm</td>\n",
       "      <td>Senior (51+)</td>\n",
       "      <td>52.0</td>\n",
       "    </tr>\n",
       "    <tr>\n",
       "      <th>2</th>\n",
       "      <td>100019538_17884295066_43909</td>\n",
       "      <td>2017-04-09 16:20:56</td>\n",
       "      <td>2017-04-09 16:24:58</td>\n",
       "      <td>242.0</td>\n",
       "      <td>612065484_94198474375</td>\n",
       "      <td>Test</td>\n",
       "      <td>start</td>\n",
       "      <td>Young (0-30)</td>\n",
       "      <td>0.0</td>\n",
       "    </tr>\n",
       "    <tr>\n",
       "      <th>3</th>\n",
       "      <td>100019538_17884295066_43909</td>\n",
       "      <td>2017-04-09 16:20:56</td>\n",
       "      <td>2017-04-09 16:24:58</td>\n",
       "      <td>242.0</td>\n",
       "      <td>612065484_94198474375</td>\n",
       "      <td>Test</td>\n",
       "      <td>step_1</td>\n",
       "      <td>Young (0-30)</td>\n",
       "      <td>16.0</td>\n",
       "    </tr>\n",
       "    <tr>\n",
       "      <th>4</th>\n",
       "      <td>100019538_17884295066_43909</td>\n",
       "      <td>2017-04-09 16:20:56</td>\n",
       "      <td>2017-04-09 16:24:58</td>\n",
       "      <td>242.0</td>\n",
       "      <td>612065484_94198474375</td>\n",
       "      <td>Test</td>\n",
       "      <td>step_2</td>\n",
       "      <td>Young (0-30)</td>\n",
       "      <td>9.0</td>\n",
       "    </tr>\n",
       "  </tbody>\n",
       "</table>\n",
       "</div>"
      ],
      "text/plain": [
       "                       visit_id       session_start         session_end  \\\n",
       "0  100012776_37918976071_457913 2017-04-26 13:22:17 2017-04-26 13:23:09   \n",
       "1  100012776_37918976071_457913 2017-04-26 13:22:17 2017-04-26 13:23:09   \n",
       "2   100019538_17884295066_43909 2017-04-09 16:20:56 2017-04-09 16:24:58   \n",
       "3   100019538_17884295066_43909 2017-04-09 16:20:56 2017-04-09 16:24:58   \n",
       "4   100019538_17884295066_43909 2017-04-09 16:20:56 2017-04-09 16:24:58   \n",
       "\n",
       "   duration             visitor_id Variation process_step clnt_age_category  \\\n",
       "0      52.0   451664975_1722933822      Test      confirm      Senior (51+)   \n",
       "1      52.0   451664975_1722933822      Test      confirm      Senior (51+)   \n",
       "2     242.0  612065484_94198474375      Test        start      Young (0-30)   \n",
       "3     242.0  612065484_94198474375      Test       step_1      Young (0-30)   \n",
       "4     242.0  612065484_94198474375      Test       step_2      Young (0-30)   \n",
       "\n",
       "   time_spent  \n",
       "0         0.0  \n",
       "1        52.0  \n",
       "2         0.0  \n",
       "3        16.0  \n",
       "4         9.0  "
      ]
     },
     "execution_count": 68,
     "metadata": {},
     "output_type": "execute_result"
    }
   ],
   "source": [
    "session_duration = df.groupby('visit_id').agg(\n",
    "    session_start=('date_time', 'min'),\n",
    "    session_end=('date_time', 'max')\n",
    ").reset_index()\n",
    "\n",
    "# Calculate duration in seconds\n",
    "session_duration['duration'] = (session_duration['session_end'] - session_duration['session_start']).dt.total_seconds()\n",
    "\n",
    "# Merge back with original data to get variation\n",
    "session_duration = session_duration.merge(df[['visitor_id','visit_id', 'Variation', 'process_step', 'clnt_age_category', 'time_spent']], on='visit_id', how='left')\n",
    "session_duration.head()"
   ]
  },
  {
   "cell_type": "code",
   "execution_count": 51,
   "metadata": {},
   "outputs": [
    {
     "data": {
      "text/html": [
       "<div>\n",
       "<style scoped>\n",
       "    .dataframe tbody tr th:only-of-type {\n",
       "        vertical-align: middle;\n",
       "    }\n",
       "\n",
       "    .dataframe tbody tr th {\n",
       "        vertical-align: top;\n",
       "    }\n",
       "\n",
       "    .dataframe thead th {\n",
       "        text-align: right;\n",
       "    }\n",
       "</style>\n",
       "<table border=\"1\" class=\"dataframe\">\n",
       "  <thead>\n",
       "    <tr style=\"text-align: right;\">\n",
       "      <th></th>\n",
       "      <th>visit_id</th>\n",
       "      <th>session_start</th>\n",
       "      <th>session_end</th>\n",
       "      <th>duration</th>\n",
       "      <th>Variation</th>\n",
       "      <th>process_step</th>\n",
       "      <th>clnt_age_category</th>\n",
       "      <th>time_spent</th>\n",
       "    </tr>\n",
       "  </thead>\n",
       "  <tbody>\n",
       "    <tr>\n",
       "      <th>0</th>\n",
       "      <td>100012776_37918976071_457913</td>\n",
       "      <td>2017-04-26 13:22:17</td>\n",
       "      <td>2017-04-26 13:23:09</td>\n",
       "      <td>52.0</td>\n",
       "      <td>Test</td>\n",
       "      <td>confirm</td>\n",
       "      <td>Senior (51+)</td>\n",
       "      <td>0.0</td>\n",
       "    </tr>\n",
       "    <tr>\n",
       "      <th>1</th>\n",
       "      <td>100012776_37918976071_457913</td>\n",
       "      <td>2017-04-26 13:22:17</td>\n",
       "      <td>2017-04-26 13:23:09</td>\n",
       "      <td>52.0</td>\n",
       "      <td>Test</td>\n",
       "      <td>confirm</td>\n",
       "      <td>Senior (51+)</td>\n",
       "      <td>52.0</td>\n",
       "    </tr>\n",
       "    <tr>\n",
       "      <th>2</th>\n",
       "      <td>100019538_17884295066_43909</td>\n",
       "      <td>2017-04-09 16:20:56</td>\n",
       "      <td>2017-04-09 16:24:58</td>\n",
       "      <td>242.0</td>\n",
       "      <td>Test</td>\n",
       "      <td>start</td>\n",
       "      <td>Young (0-30)</td>\n",
       "      <td>0.0</td>\n",
       "    </tr>\n",
       "    <tr>\n",
       "      <th>3</th>\n",
       "      <td>100019538_17884295066_43909</td>\n",
       "      <td>2017-04-09 16:20:56</td>\n",
       "      <td>2017-04-09 16:24:58</td>\n",
       "      <td>242.0</td>\n",
       "      <td>Test</td>\n",
       "      <td>step_1</td>\n",
       "      <td>Young (0-30)</td>\n",
       "      <td>16.0</td>\n",
       "    </tr>\n",
       "    <tr>\n",
       "      <th>4</th>\n",
       "      <td>100019538_17884295066_43909</td>\n",
       "      <td>2017-04-09 16:20:56</td>\n",
       "      <td>2017-04-09 16:24:58</td>\n",
       "      <td>242.0</td>\n",
       "      <td>Test</td>\n",
       "      <td>step_2</td>\n",
       "      <td>Young (0-30)</td>\n",
       "      <td>9.0</td>\n",
       "    </tr>\n",
       "    <tr>\n",
       "      <th>...</th>\n",
       "      <td>...</td>\n",
       "      <td>...</td>\n",
       "      <td>...</td>\n",
       "      <td>...</td>\n",
       "      <td>...</td>\n",
       "      <td>...</td>\n",
       "      <td>...</td>\n",
       "      <td>...</td>\n",
       "    </tr>\n",
       "    <tr>\n",
       "      <th>220155</th>\n",
       "      <td>999971096_28827267783_236076</td>\n",
       "      <td>2017-04-13 10:31:49</td>\n",
       "      <td>2017-04-13 10:34:08</td>\n",
       "      <td>139.0</td>\n",
       "      <td>Test</td>\n",
       "      <td>confirm</td>\n",
       "      <td>Young (0-30)</td>\n",
       "      <td>28.0</td>\n",
       "    </tr>\n",
       "    <tr>\n",
       "      <th>220156</th>\n",
       "      <td>999985675_64610694964_443659</td>\n",
       "      <td>2017-04-20 09:45:18</td>\n",
       "      <td>2017-04-20 10:02:48</td>\n",
       "      <td>1050.0</td>\n",
       "      <td>Control</td>\n",
       "      <td>start</td>\n",
       "      <td>Senior (51+)</td>\n",
       "      <td>0.0</td>\n",
       "    </tr>\n",
       "    <tr>\n",
       "      <th>220157</th>\n",
       "      <td>999985675_64610694964_443659</td>\n",
       "      <td>2017-04-20 09:45:18</td>\n",
       "      <td>2017-04-20 10:02:48</td>\n",
       "      <td>1050.0</td>\n",
       "      <td>Control</td>\n",
       "      <td>step_1</td>\n",
       "      <td>Senior (51+)</td>\n",
       "      <td>68.0</td>\n",
       "    </tr>\n",
       "    <tr>\n",
       "      <th>220158</th>\n",
       "      <td>999985675_64610694964_443659</td>\n",
       "      <td>2017-04-20 09:45:18</td>\n",
       "      <td>2017-04-20 10:02:48</td>\n",
       "      <td>1050.0</td>\n",
       "      <td>Control</td>\n",
       "      <td>step_2</td>\n",
       "      <td>Senior (51+)</td>\n",
       "      <td>38.0</td>\n",
       "    </tr>\n",
       "    <tr>\n",
       "      <th>220159</th>\n",
       "      <td>999985675_64610694964_443659</td>\n",
       "      <td>2017-04-20 09:45:18</td>\n",
       "      <td>2017-04-20 10:02:48</td>\n",
       "      <td>1050.0</td>\n",
       "      <td>Control</td>\n",
       "      <td>step_3</td>\n",
       "      <td>Senior (51+)</td>\n",
       "      <td>101.0</td>\n",
       "    </tr>\n",
       "  </tbody>\n",
       "</table>\n",
       "<p>184055 rows × 8 columns</p>\n",
       "</div>"
      ],
      "text/plain": [
       "                            visit_id       session_start         session_end  \\\n",
       "0       100012776_37918976071_457913 2017-04-26 13:22:17 2017-04-26 13:23:09   \n",
       "1       100012776_37918976071_457913 2017-04-26 13:22:17 2017-04-26 13:23:09   \n",
       "2        100019538_17884295066_43909 2017-04-09 16:20:56 2017-04-09 16:24:58   \n",
       "3        100019538_17884295066_43909 2017-04-09 16:20:56 2017-04-09 16:24:58   \n",
       "4        100019538_17884295066_43909 2017-04-09 16:20:56 2017-04-09 16:24:58   \n",
       "...                              ...                 ...                 ...   \n",
       "220155  999971096_28827267783_236076 2017-04-13 10:31:49 2017-04-13 10:34:08   \n",
       "220156  999985675_64610694964_443659 2017-04-20 09:45:18 2017-04-20 10:02:48   \n",
       "220157  999985675_64610694964_443659 2017-04-20 09:45:18 2017-04-20 10:02:48   \n",
       "220158  999985675_64610694964_443659 2017-04-20 09:45:18 2017-04-20 10:02:48   \n",
       "220159  999985675_64610694964_443659 2017-04-20 09:45:18 2017-04-20 10:02:48   \n",
       "\n",
       "        duration Variation process_step clnt_age_category  time_spent  \n",
       "0           52.0      Test      confirm      Senior (51+)         0.0  \n",
       "1           52.0      Test      confirm      Senior (51+)        52.0  \n",
       "2          242.0      Test        start      Young (0-30)         0.0  \n",
       "3          242.0      Test       step_1      Young (0-30)        16.0  \n",
       "4          242.0      Test       step_2      Young (0-30)         9.0  \n",
       "...          ...       ...          ...               ...         ...  \n",
       "220155     139.0      Test      confirm      Young (0-30)        28.0  \n",
       "220156    1050.0   Control        start      Senior (51+)         0.0  \n",
       "220157    1050.0   Control       step_1      Senior (51+)        68.0  \n",
       "220158    1050.0   Control       step_2      Senior (51+)        38.0  \n",
       "220159    1050.0   Control       step_3      Senior (51+)       101.0  \n",
       "\n",
       "[184055 rows x 8 columns]"
      ]
     },
     "metadata": {},
     "output_type": "display_data"
    }
   ],
   "source": [
    "for column in session_duration.select_dtypes(include=[np.number]):\n",
    "    Q1 = session_duration[column].quantile(0.25)\n",
    "    Q3 = session_duration[column].quantile(0.75)\n",
    "    IQR = Q3 - Q1\n",
    "    lower_bound = Q1 - 1.5 * IQR\n",
    "    upper_bound = Q3 + 1.5 * IQR\n",
    "    session_duration = session_duration[(session_duration[column] >= lower_bound) & (session_duration[column] <= upper_bound)]\n",
    "\n",
    "display(session_duration)\n"
   ]
  },
  {
   "cell_type": "code",
   "execution_count": 52,
   "metadata": {},
   "outputs": [
    {
     "data": {
      "text/plain": [
       "['Senior (51+)', 'Young (0-30)', 'Middle-aged (41-50)', 'Young Adults (31-40)']\n",
       "Categories (4, object): ['Young (0-30)' < 'Young Adults (31-40)' < 'Middle-aged (41-50)' < 'Senior (51+)']"
      ]
     },
     "execution_count": 52,
     "metadata": {},
     "output_type": "execute_result"
    }
   ],
   "source": [
    "session_duration.clnt_age_category.unique()"
   ]
  },
  {
   "cell_type": "code",
   "execution_count": 53,
   "metadata": {},
   "outputs": [
    {
     "data": {
      "text/plain": [
       "0"
      ]
     },
     "execution_count": 53,
     "metadata": {},
     "output_type": "execute_result"
    }
   ],
   "source": [
    "session_duration['clnt_age_category'].isnull().sum()"
   ]
  },
  {
   "cell_type": "code",
   "execution_count": 54,
   "metadata": {},
   "outputs": [],
   "source": [
    "session_duration.dropna(subset=['clnt_age_category'], inplace=True)"
   ]
  },
  {
   "cell_type": "code",
   "execution_count": 69,
   "metadata": {},
   "outputs": [],
   "source": [
    "session_duration.shape\n",
    "session_duration.to_csv('session_duration.csv')"
   ]
  },
  {
   "cell_type": "code",
   "execution_count": 56,
   "metadata": {},
   "outputs": [
    {
     "data": {
      "text/html": [
       "<div>\n",
       "<style scoped>\n",
       "    .dataframe tbody tr th:only-of-type {\n",
       "        vertical-align: middle;\n",
       "    }\n",
       "\n",
       "    .dataframe tbody tr th {\n",
       "        vertical-align: top;\n",
       "    }\n",
       "\n",
       "    .dataframe thead th {\n",
       "        text-align: right;\n",
       "    }\n",
       "</style>\n",
       "<table border=\"1\" class=\"dataframe\">\n",
       "  <thead>\n",
       "    <tr style=\"text-align: right;\">\n",
       "      <th></th>\n",
       "      <th>clnt_age_category</th>\n",
       "      <th>Variation</th>\n",
       "      <th>completion_rate</th>\n",
       "      <th>average_session_duration</th>\n",
       "      <th>average_time_spent</th>\n",
       "    </tr>\n",
       "  </thead>\n",
       "  <tbody>\n",
       "    <tr>\n",
       "      <th>0</th>\n",
       "      <td>Young (0-30)</td>\n",
       "      <td>Control</td>\n",
       "      <td>0.111687</td>\n",
       "      <td>249.807557</td>\n",
       "      <td>25.772242</td>\n",
       "    </tr>\n",
       "    <tr>\n",
       "      <th>1</th>\n",
       "      <td>Young (0-30)</td>\n",
       "      <td>Test</td>\n",
       "      <td>0.143556</td>\n",
       "      <td>237.676765</td>\n",
       "      <td>27.287477</td>\n",
       "    </tr>\n",
       "    <tr>\n",
       "      <th>2</th>\n",
       "      <td>Young Adults (31-40)</td>\n",
       "      <td>Control</td>\n",
       "      <td>0.117260</td>\n",
       "      <td>253.057680</td>\n",
       "      <td>27.243953</td>\n",
       "    </tr>\n",
       "    <tr>\n",
       "      <th>3</th>\n",
       "      <td>Young Adults (31-40)</td>\n",
       "      <td>Test</td>\n",
       "      <td>0.145438</td>\n",
       "      <td>248.683509</td>\n",
       "      <td>28.130089</td>\n",
       "    </tr>\n",
       "    <tr>\n",
       "      <th>4</th>\n",
       "      <td>Middle-aged (41-50)</td>\n",
       "      <td>Control</td>\n",
       "      <td>0.113471</td>\n",
       "      <td>291.152287</td>\n",
       "      <td>30.189857</td>\n",
       "    </tr>\n",
       "    <tr>\n",
       "      <th>5</th>\n",
       "      <td>Middle-aged (41-50)</td>\n",
       "      <td>Test</td>\n",
       "      <td>0.134898</td>\n",
       "      <td>289.781248</td>\n",
       "      <td>29.721312</td>\n",
       "    </tr>\n",
       "    <tr>\n",
       "      <th>6</th>\n",
       "      <td>Senior (51+)</td>\n",
       "      <td>Control</td>\n",
       "      <td>0.092447</td>\n",
       "      <td>312.965834</td>\n",
       "      <td>30.805083</td>\n",
       "    </tr>\n",
       "    <tr>\n",
       "      <th>7</th>\n",
       "      <td>Senior (51+)</td>\n",
       "      <td>Test</td>\n",
       "      <td>0.112968</td>\n",
       "      <td>334.900741</td>\n",
       "      <td>30.350642</td>\n",
       "    </tr>\n",
       "  </tbody>\n",
       "</table>\n",
       "</div>"
      ],
      "text/plain": [
       "      clnt_age_category Variation  completion_rate  average_session_duration  \\\n",
       "0          Young (0-30)   Control         0.111687                249.807557   \n",
       "1          Young (0-30)      Test         0.143556                237.676765   \n",
       "2  Young Adults (31-40)   Control         0.117260                253.057680   \n",
       "3  Young Adults (31-40)      Test         0.145438                248.683509   \n",
       "4   Middle-aged (41-50)   Control         0.113471                291.152287   \n",
       "5   Middle-aged (41-50)      Test         0.134898                289.781248   \n",
       "6          Senior (51+)   Control         0.092447                312.965834   \n",
       "7          Senior (51+)      Test         0.112968                334.900741   \n",
       "\n",
       "   average_time_spent  \n",
       "0           25.772242  \n",
       "1           27.287477  \n",
       "2           27.243953  \n",
       "3           28.130089  \n",
       "4           30.189857  \n",
       "5           29.721312  \n",
       "6           30.805083  \n",
       "7           30.350642  "
      ]
     },
     "execution_count": 56,
     "metadata": {},
     "output_type": "execute_result"
    }
   ],
   "source": [
    "# Calculate KPIs by demographic segments\n",
    "segmented_kpis = session_duration.groupby(['clnt_age_category', 'Variation']).agg(\n",
    "    completion_rate=('process_step', lambda x: (x == 'confirm').sum() / len(x)),\n",
    "    average_session_duration=('duration', 'mean'),\n",
    "    average_time_spent=('time_spent', 'mean')\n",
    "   ).reset_index()\n",
    "\n",
    "# save segmented kpis as csv\n",
    "segmented_kpis.to_csv('segmented_kpis.csv')\n",
    "segmented_kpis"
   ]
  },
  {
   "cell_type": "code",
   "execution_count": 57,
   "metadata": {},
   "outputs": [
    {
     "data": {
      "text/plain": [
       "Variation\n",
       "Control    11794\n",
       "Test       16872\n",
       "Name: process_step, dtype: int64"
      ]
     },
     "execution_count": 57,
     "metadata": {},
     "output_type": "execute_result"
    }
   ],
   "source": [
    "total_count_confirm = df.groupby('Variation')['process_step'].apply(lambda x: (x == 'confirm').sum())\n",
    "\n",
    "total_count_confirm"
   ]
  },
  {
   "cell_type": "code",
   "execution_count": 58,
   "metadata": {},
   "outputs": [
    {
     "data": {
      "text/plain": [
       "Variation\n",
       "Control    32285\n",
       "Test       38884\n",
       "Name: process_step, dtype: int64"
      ]
     },
     "execution_count": 58,
     "metadata": {},
     "output_type": "execute_result"
    }
   ],
   "source": [
    "total_count_start = df.groupby('Variation')['process_step'].apply(lambda x: (x == 'start').sum())\n",
    "\n",
    "total_count_start"
   ]
  },
  {
   "cell_type": "code",
   "execution_count": 59,
   "metadata": {},
   "outputs": [
    {
     "data": {
      "text/plain": [
       "36.530896701254456"
      ]
     },
     "metadata": {},
     "output_type": "display_data"
    },
    {
     "data": {
      "text/plain": [
       "43.390597675136306"
      ]
     },
     "metadata": {},
     "output_type": "display_data"
    }
   ],
   "source": [
    "end_rate_control = total_count_confirm['Control'] * 100 / total_count_start['Control']\n",
    "end_rate_test = total_count_confirm['Test'] * 100 / total_count_start['Test']\n",
    "display(end_rate_control, end_rate_test)"
   ]
  },
  {
   "cell_type": "code",
   "execution_count": 60,
   "metadata": {},
   "outputs": [
    {
     "data": {
      "text/html": [
       "<div>\n",
       "<style scoped>\n",
       "    .dataframe tbody tr th:only-of-type {\n",
       "        vertical-align: middle;\n",
       "    }\n",
       "\n",
       "    .dataframe tbody tr th {\n",
       "        vertical-align: top;\n",
       "    }\n",
       "\n",
       "    .dataframe thead th {\n",
       "        text-align: right;\n",
       "    }\n",
       "</style>\n",
       "<table border=\"1\" class=\"dataframe\">\n",
       "  <thead>\n",
       "    <tr style=\"text-align: right;\">\n",
       "      <th></th>\n",
       "      <th>Confirm</th>\n",
       "      <th>Start</th>\n",
       "      <th>end_rates</th>\n",
       "    </tr>\n",
       "    <tr>\n",
       "      <th>Variation</th>\n",
       "      <th></th>\n",
       "      <th></th>\n",
       "      <th></th>\n",
       "    </tr>\n",
       "  </thead>\n",
       "  <tbody>\n",
       "    <tr>\n",
       "      <th>Control</th>\n",
       "      <td>11794</td>\n",
       "      <td>32285</td>\n",
       "      <td>36.530897</td>\n",
       "    </tr>\n",
       "    <tr>\n",
       "      <th>Test</th>\n",
       "      <td>16872</td>\n",
       "      <td>38884</td>\n",
       "      <td>43.390598</td>\n",
       "    </tr>\n",
       "  </tbody>\n",
       "</table>\n",
       "</div>"
      ],
      "text/plain": [
       "           Confirm  Start  end_rates\n",
       "Variation                           \n",
       "Control      11794  32285  36.530897\n",
       "Test         16872  38884  43.390598"
      ]
     },
     "execution_count": 60,
     "metadata": {},
     "output_type": "execute_result"
    }
   ],
   "source": [
    "df_end_rates = pd.concat([total_count_confirm, total_count_start], axis=1, keys=['Confirm', 'Start'])\n",
    "df_end_rates['end_rates'] = end_rate_control, end_rate_test\n",
    "\n",
    "df_end_rates"
   ]
  },
  {
   "cell_type": "markdown",
   "metadata": {},
   "source": [
    "# ERROR RATE"
   ]
  },
  {
   "cell_type": "code",
   "execution_count": 61,
   "metadata": {},
   "outputs": [
    {
     "name": "stdout",
     "output_type": "stream",
     "text": [
      "Tasa de error: 8.74%\n"
     ]
    }
   ],
   "source": [
    "df['step_order'] = df['process_step'].apply(lambda x: ['start', 'step_1', 'step_2', 'step_3', 'confirm'].index(x))\n",
    "df_control = df[df['Variation'] == 'Control']\n",
    "\n",
    "# Paso 2: Calcular si el usuario retrocede en el proceso\n",
    "df_control['prev_step_order'] = df_control.groupby('visitor_id')['step_order'].shift(1)\n",
    "df_control['error'] = df_control['step_order'] < df_control['prev_step_order']\n",
    "\n",
    "# Paso 3: Calcular la tasa de error\n",
    "error_rate_control = df_control['error'].mean() * 100  # Porcentaje de errores\n",
    "\n",
    "print(f\"Tasa de error: {error_rate_control:.2f}%\")"
   ]
  },
  {
   "cell_type": "code",
   "execution_count": 62,
   "metadata": {},
   "outputs": [
    {
     "name": "stdout",
     "output_type": "stream",
     "text": [
      "Tasa de error: 10.96%\n"
     ]
    }
   ],
   "source": [
    "df_test = df[df['Variation'] == 'Test']\n",
    "\n",
    "# Paso 2: Calcular si el usuario retrocede en el proceso\n",
    "df_test['prev_step_order'] = df_test.groupby('visitor_id')['step_order'].shift(1)\n",
    "df_test['error'] = df_test['step_order'] < df_test['prev_step_order']\n",
    "\n",
    "# Paso 3: Calcular la tasa de error\n",
    "error_rate_test = df_test['error'].mean() * 100  # Porcentaje de errores\n",
    "print(f\"Tasa de error: {error_rate_test:.2f}%\")"
   ]
  },
  {
   "cell_type": "code",
   "execution_count": null,
   "metadata": {},
   "outputs": [],
   "source": [
    " "
   ]
  },
  {
   "cell_type": "code",
   "execution_count": 63,
   "metadata": {},
   "outputs": [
    {
     "data": {
      "text/html": [
       "<div>\n",
       "<style scoped>\n",
       "    .dataframe tbody tr th:only-of-type {\n",
       "        vertical-align: middle;\n",
       "    }\n",
       "\n",
       "    .dataframe tbody tr th {\n",
       "        vertical-align: top;\n",
       "    }\n",
       "\n",
       "    .dataframe thead th {\n",
       "        text-align: right;\n",
       "    }\n",
       "</style>\n",
       "<table border=\"1\" class=\"dataframe\">\n",
       "  <thead>\n",
       "    <tr style=\"text-align: right;\">\n",
       "      <th></th>\n",
       "      <th>Confirm</th>\n",
       "      <th>Start</th>\n",
       "      <th>end_rates</th>\n",
       "      <th>Error Rate (%)</th>\n",
       "    </tr>\n",
       "    <tr>\n",
       "      <th>Variation</th>\n",
       "      <th></th>\n",
       "      <th></th>\n",
       "      <th></th>\n",
       "      <th></th>\n",
       "    </tr>\n",
       "  </thead>\n",
       "  <tbody>\n",
       "    <tr>\n",
       "      <th>Control</th>\n",
       "      <td>11794</td>\n",
       "      <td>32285</td>\n",
       "      <td>36.530897</td>\n",
       "      <td>8.744273</td>\n",
       "    </tr>\n",
       "    <tr>\n",
       "      <th>Test</th>\n",
       "      <td>16872</td>\n",
       "      <td>38884</td>\n",
       "      <td>43.390598</td>\n",
       "      <td>10.959117</td>\n",
       "    </tr>\n",
       "  </tbody>\n",
       "</table>\n",
       "</div>"
      ],
      "text/plain": [
       "           Confirm  Start  end_rates  Error Rate (%)\n",
       "Variation                                           \n",
       "Control      11794  32285  36.530897        8.744273\n",
       "Test         16872  38884  43.390598       10.959117"
      ]
     },
     "metadata": {},
     "output_type": "display_data"
    }
   ],
   "source": [
    "error_rates = {\n",
    "    'Control': error_rate_control,  # Replace with your calculated value\n",
    "    'Test': error_rate_test          # Replace with your calculated value\n",
    "}\n",
    "\n",
    "# Add the Error Rate (%) column to the grouped DataFrame\n",
    "df_end_rates['Error Rate (%)'] = df_end_rates.index.map(error_rates)\n",
    "display(df_end_rates)\n",
    "df_end_rates.to_csv('df_end_rates.csv')"
   ]
  },
  {
   "cell_type": "markdown",
   "metadata": {},
   "source": [
    "# HIPOTESIS \n",
    "La tasa de finalización de test es mayor que la de control o viceversa\n"
   ]
  },
  {
   "cell_type": "code",
   "execution_count": 64,
   "metadata": {},
   "outputs": [],
   "source": [
    "#Set the hypothesis\n",
    "\n",
    "#H0: test > control\n",
    "#H1: test < control"
   ]
  },
  {
   "cell_type": "code",
   "execution_count": 65,
   "metadata": {},
   "outputs": [
    {
     "name": "stdout",
     "output_type": "stream",
     "text": [
      "Estadístico Z: 12.321978418023004\n",
      "Valor p: 3.4490469270223365e-35\n",
      "Rechazamos la hipótesis nula: La proporción de 'confirm' en Test es mayor que en Control.\n"
     ]
    }
   ],
   "source": [
    "\n",
    "# Contar los usuarios que llegan al paso 'confirm' en cada grupo\n",
    "test_confirm = len(df[(df['Variation'] == 'Test') & (df['process_step'] == 'confirm')])\n",
    "control_confirm = len(df[(df['Variation'] == 'Control') & (df['process_step'] == 'confirm')])\n",
    "# Contar el total de usuarios en cada grupo\n",
    "test_total = len(df[df['Variation'] == 'Test'])\n",
    "control_total = len(df[df['Variation'] == 'Control'])\n",
    "# Datos de entrada para la prueba de proporciones\n",
    "counts = [test_confirm, control_confirm]\n",
    "nobs = [test_total, control_total]\n",
    "# Ejecutar la prueba z de dos proporciones (prueba de una cola, ya que esperamos que Test sea mayor que Control)\n",
    "stat, pval = proportions_ztest(counts, nobs, alternative='larger')\n",
    "# Mostrar los resultados\n",
    "alpha = 0.05\n",
    "print(f\"Estadístico Z: {stat}\")\n",
    "print(f\"Valor p: {pval}\")\n",
    "if pval < alpha:\n",
    "    print(\"Rechazamos la hipótesis nula: La proporción de 'confirm' en Test es mayor que en Control.\")\n",
    "else:\n",
    "    print(\"No rechazamos la hipótesis nula: No hay evidencia suficiente para decir que la proporción en Test es mayor que en Control.\")"
   ]
  },
  {
   "cell_type": "code",
   "execution_count": 66,
   "metadata": {},
   "outputs": [
    {
     "name": "stdout",
     "output_type": "stream",
     "text": [
      "Diferencia mínima esperada: 5.0%\n",
      "Estadístico Z: -22.32459791272345\n",
      "Valor p: 1.0\n",
      "No rechazamos la hipótesis nula: No hay evidencia suficiente para decir que el aumento es al menos del 5%.\n"
     ]
    }
   ],
   "source": [
    "test_confirm = len(df[(df['Variation'] == 'Test') & (df['process_step'] == 'confirm')])\n",
    "control_confirm = len(df[(df['Variation'] == 'Control') & (df['process_step'] == 'confirm')])\n",
    "# Contar el total de usuarios en cada grupo\n",
    "test_total = len(df[df['Variation'] == 'Test'])\n",
    "control_total = len(df[df['Variation'] == 'Control'])\n",
    "# Calcular proporciones\n",
    "test_rate = test_confirm / test_total\n",
    "control_rate = control_confirm / control_total\n",
    "# Definir el umbral del 5% que queremos verificar\n",
    "min_diff = 0.05  # 5%\n",
    "# Ejecutar la prueba z de dos proporciones ajustada para un umbral del 5%\n",
    "counts = [test_confirm, control_confirm]\n",
    "nobs = [test_total, control_total]\n",
    "# En la prueba z de dos proporciones ajustamos para comparar la diferencia con el umbral del 5%\n",
    "# Restamos el umbral esperado (0.05) para evaluar si la diferencia es al menos del 5%\n",
    "stat, pval = proportions_ztest(counts, nobs, alternative='larger', value=min_diff)\n",
    "# Mostrar los resultados\n",
    "alpha = 0.05\n",
    "print(f\"Diferencia mínima esperada: {min_diff*100}%\")\n",
    "print(f\"Estadístico Z: {stat}\")\n",
    "print(f\"Valor p: {pval}\")\n",
    "if pval < alpha:\n",
    "    print(\"Rechazamos la hipótesis nula: El aumento en la tasa de finalización es al menos del 5%.\")\n",
    "else:\n",
    "    print(\"No rechazamos la hipótesis nula: No hay evidencia suficiente para decir que el aumento es al menos del 5%.\")"
   ]
  },
  {
   "cell_type": "code",
   "execution_count": 67,
   "metadata": {},
   "outputs": [
    {
     "name": "stdout",
     "output_type": "stream",
     "text": [
      "Estadístico t: 2.9018036441025665\n",
      "Valor p: 0.0037105778040799242\n",
      "Rechazamos la hipótesis nula: El tiempo medio es significativamente diferente entre Test y Control.\n"
     ]
    }
   ],
   "source": [
    "test_times = df[df['Variation'] == 'Test']['time_spent']\n",
    "control_times = df[df['Variation'] == 'Control']['time_spent']\n",
    "\n",
    "# Realizar la prueba t de dos muestras (asume normalidad)\n",
    "t_stat, p_value_t = st.ttest_ind(test_times, control_times)\n",
    "# Mostrar los resultados de la prueba t\n",
    "alpha = 0.05\n",
    "print(f\"Estadístico t: {t_stat}\")\n",
    "print(f\"Valor p: {p_value_t}\")\n",
    "if p_value_t < alpha:\n",
    "    print(\"Rechazamos la hipótesis nula: El tiempo medio es significativamente diferente entre Test y Control.\")\n",
    "else:\n",
    "    print(\"No rechazamos la hipótesis nula: No hay diferencia significativa en el tiempo medio entre Test y Control.\")"
   ]
  },
  {
   "cell_type": "code",
   "execution_count": 5,
   "metadata": {},
   "outputs": [],
   "source": []
  },
  {
   "cell_type": "code",
   "execution_count": null,
   "metadata": {},
   "outputs": [],
   "source": []
  }
 ],
 "metadata": {
  "kernelspec": {
   "display_name": "project2",
   "language": "python",
   "name": "python3"
  },
  "language_info": {
   "codemirror_mode": {
    "name": "ipython",
    "version": 3
   },
   "file_extension": ".py",
   "mimetype": "text/x-python",
   "name": "python",
   "nbconvert_exporter": "python",
   "pygments_lexer": "ipython3",
   "version": "3.11.9"
  }
 },
 "nbformat": 4,
 "nbformat_minor": 2
}
